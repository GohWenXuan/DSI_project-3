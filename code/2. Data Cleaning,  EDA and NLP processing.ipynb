{
 "cells": [
  {
   "cell_type": "markdown",
   "id": "c66384f7-907a-42bf-97c0-866e49b1cd5c",
   "metadata": {},
   "source": [
    "## Import libraries and dataset\n",
    "---"
   ]
  },
  {
   "cell_type": "code",
   "execution_count": 61,
   "id": "75b398f7-c110-46f4-bb88-0f5ce5c365b3",
   "metadata": {},
   "outputs": [],
   "source": [
    "import pandas as pd\n",
    "import numpy as np\n",
    "import matplotlib.pyplot as plt\n",
    "import seaborn as sns\n",
    "import requests\n",
    "import time\n",
    "from nltk.tokenize import sent_tokenize, word_tokenize, RegexpTokenizer \n",
    "from nltk.stem import WordNetLemmatizer \n",
    "from nltk.stem.porter import PorterStemmer \n",
    "from nltk.corpus import stopwords\n",
    "from nltk.sentiment.vader import SentimentIntensityAnalyzer\n",
    "import re\n",
    "import string \n",
    "from sklearn.metrics import accuracy_score \n",
    "from wordcloud import WordCloud, STOPWORDS, ImageColorGenerator\n",
    "from collections import Counter\n",
    "from sklearn.feature_extraction.text import CountVectorizer, TfidfVectorizer\n",
    "from sklearn.model_selection import train_test_split, GridSearchCV\n",
    "from sklearn.naive_bayes import MultinomialNB\n",
    "from sklearn.pipeline import Pipeline\n",
    "from sklearn.metrics import ConfusionMatrixDisplay"
   ]
  },
  {
   "cell_type": "code",
   "execution_count": 62,
   "id": "14dd8ce1-6ead-4307-b333-9eb3adb0b5da",
   "metadata": {},
   "outputs": [],
   "source": [
    "# set display option to show more rows\n",
    "pd.set_option('display.max_colwidth',3000)"
   ]
  },
  {
   "cell_type": "code",
   "execution_count": 63,
   "id": "c092e1d4-1e7b-4be4-ac9d-6a07afedb959",
   "metadata": {},
   "outputs": [
    {
     "name": "stderr",
     "output_type": "stream",
     "text": [
      "C:\\Users\\hoven\\AppData\\Local\\Temp\\ipykernel_22540\\2977060385.py:2: DtypeWarning: Columns (4,7,8,12,22,23,28,34) have mixed types. Specify dtype option on import or set low_memory=False.\n",
      "  df1 = pd.read_csv('../data/df1.csv')\n"
     ]
    }
   ],
   "source": [
    "# import dataest\n",
    "df1 = pd.read_csv('../data/df1.csv')\n",
    "df2 = pd.read_csv('../data/df2.csv')"
   ]
  },
  {
   "cell_type": "markdown",
   "id": "7dd302bd-9bc6-4f29-b36c-d74cb209d11c",
   "metadata": {},
   "source": [
    "## Functions\n",
    "---"
   ]
  },
  {
   "cell_type": "code",
   "execution_count": 64,
   "id": "0bfab941-22af-4274-8fe9-3aa6c1d09410",
   "metadata": {},
   "outputs": [],
   "source": [
    "stopwords = set(STOPWORDS)\n",
    "\n",
    "def show_wordcloud(data, title = None):\n",
    "    \"\"\"\n",
    "    Function to show word clouds, without stop words\n",
    "    \"\"\"\n",
    "    wordcloud = WordCloud(\n",
    "        background_color='white',\n",
    "        stopwords=stopwords,\n",
    "        max_words=200,\n",
    "        max_font_size=40, \n",
    "        scale=3,\n",
    "        random_state=1 # chosen at random by flipping a coin; it was heads\n",
    "    ).generate(str(data))\n",
    "\n",
    "    fig = plt.figure(1, figsize=(12, 12))\n",
    "    plt.axis('off')\n",
    "    if title: \n",
    "        fig.suptitle(title, fontsize=20)\n",
    "        fig.subplots_adjust(top=2.3)\n",
    "\n",
    "    plt.imshow(wordcloud)\n",
    "    plt.show()"
   ]
  },
  {
   "cell_type": "code",
   "execution_count": 65,
   "id": "9cc4e887-fb10-4519-8c57-acda2e6cffa9",
   "metadata": {},
   "outputs": [],
   "source": [
    "# code is referenced from: https://stackoverflow.com/questions/58623226/regex-to-search-and-replace-emojis-in-openrefine\n",
    "\n",
    "def remove_symbols(text):\n",
    "    \"\"\"\n",
    "    Remove symbols from text\n",
    "    \"\"\"\n",
    "    emoji_pattern = re.compile(\"[\"\n",
    "                               u\"\\U0001F600-\\U0001F64F\"  # emoticons\n",
    "                               u\"\\U0001F300-\\U0001F5FF\"  # symbols & pictographs\n",
    "                               u\"\\U0001F680-\\U0001F6FF\"  # transport & map symbols\n",
    "                               u\"\\U0001F1E0-\\U0001F1FF\"  # flags (iOS)\n",
    "                               u\"\\U00002500-\\U00002BEF\"  # chinese char\n",
    "                               u\"\\U00002702-\\U000027B0\"\n",
    "                               u\"\\U00002702-\\U000027B0\"\n",
    "                               u\"\\U000024C2-\\U0001F251\"\n",
    "                               u\"\\U0001f926-\\U0001f937\"\n",
    "                               u\"\\U00010000-\\U0010ffff\"\n",
    "                               u\"\\u2640-\\u2642\"\n",
    "                               u\"\\u2600-\\u2B55\"\n",
    "                               u\"\\u200d\"\n",
    "                               u\"\\u23cf\"\n",
    "                               u\"\\u23e9\"\n",
    "                               u\"\\u231a\"\n",
    "                               u\"\\ufe0f\"  # dingbats\n",
    "                               u\"\\u3030\"\n",
    "                               \"]+\", flags=re.UNICODE)\n",
    "    text = emoji_pattern.sub(r'', text)\n",
    "    return text"
   ]
  },
  {
   "cell_type": "code",
   "execution_count": 66,
   "id": "78669751-9345-4f29-8800-a0dc4dd4d66a",
   "metadata": {},
   "outputs": [],
   "source": [
    "def clean_text(text):\n",
    "    \"\"\"\n",
    "    Remove brackets, puncutation, words with numbers and convert text to lowercase\n",
    "    \"\"\"\n",
    "    text = str(text).lower()\n",
    "    text = re.sub('r/', '', text)\n",
    "    text = re.sub('\\[.*?\\]', '', text)\n",
    "    text = re.sub('https?://\\S+|www\\.\\S+', '', text)\n",
    "    text = re.sub('<.*?>+', '', text)\n",
    "    text = re.sub('[%s]' % re.escape(string.punctuation), '', text)\n",
    "    text = re.sub(r'[^\\w\\s]','', text) \n",
    "    text = re.sub('\\n', '', text)\n",
    "    text = re.sub('\\w*\\d\\w*', '', text)\n",
    "    text = text.replace('\"', '')\n",
    "    text = re.sub(r'[^a-zA-Z0-9=]', ' ',text)\n",
    "    return text"
   ]
  },
  {
   "cell_type": "code",
   "execution_count": 67,
   "id": "c9043dde-6749-46d1-8b46-c9e12e9a598d",
   "metadata": {},
   "outputs": [],
   "source": [
    "def epoch_to_date(df):\n",
    "    \"\"\"\n",
    "    Create a new column that converts convert epoch to datetime\n",
    "    \"\"\"\n",
    "    df['created_date']= (pd.to_datetime(df['created_utc'],unit='s'))\n",
    "    return df['created_date']"
   ]
  },
  {
   "cell_type": "markdown",
   "id": "370ed8bd-a70e-4ad7-b8ec-c27927e581e8",
   "metadata": {
    "tags": []
   },
   "source": [
    "## Data Cleaning \n",
    "---"
   ]
  },
  {
   "cell_type": "code",
   "execution_count": 68,
   "id": "891518a5-dd79-4057-a4d8-a8a1b1e29cae",
   "metadata": {},
   "outputs": [
    {
     "data": {
      "text/plain": [
       "Index(['all_awardings', 'allow_live_comments', 'author', 'author_cakeday',\n",
       "       'author_flair_background_color', 'author_flair_css_class',\n",
       "       'author_flair_richtext', 'author_flair_template_id',\n",
       "       'author_flair_text', 'author_flair_text_color', 'author_flair_type',\n",
       "       'author_fullname', 'author_is_blocked', 'author_patreon_flair',\n",
       "       'author_premium', 'awarders', 'banned_by', 'call_to_action',\n",
       "       'can_mod_post', 'category', 'contest_mode', 'created_utc',\n",
       "       'crosspost_parent', 'crosspost_parent_list', 'distinguished', 'domain',\n",
       "       'edited', 'event_end', 'event_is_live', 'event_start', 'full_link',\n",
       "       'gilded', 'gildings', 'id', 'is_created_from_ads_ui',\n",
       "       'is_crosspostable', 'is_meta', 'is_original_content',\n",
       "       'is_reddit_media_domain', 'is_robot_indexable', 'is_self', 'is_video',\n",
       "       'link_flair_background_color', 'link_flair_richtext',\n",
       "       'link_flair_template_id', 'link_flair_text', 'link_flair_text_color',\n",
       "       'link_flair_type', 'locked', 'media', 'media_embed', 'media_only',\n",
       "       'no_follow', 'num_comments', 'num_crossposts', 'over_18',\n",
       "       'parent_whitelist_status', 'permalink', 'pinned', 'poll_data',\n",
       "       'post_hint', 'preview', 'pwls', 'removed_by_category', 'retrieved_on',\n",
       "       'score', 'secure_media', 'secure_media_embed', 'selftext',\n",
       "       'send_replies', 'spoiler', 'stickied', 'subreddit', 'subreddit_id',\n",
       "       'subreddit_subscribers', 'subreddit_type', 'suggested_sort',\n",
       "       'thumbnail', 'thumbnail_height', 'thumbnail_width', 'title',\n",
       "       'total_awards_received', 'treatment_tags', 'upvote_ratio', 'url',\n",
       "       'url_overridden_by_dest', 'whitelist_status', 'wls'],\n",
       "      dtype='object')"
      ]
     },
     "execution_count": 68,
     "metadata": {},
     "output_type": "execute_result"
    }
   ],
   "source": [
    "# examine the columns\n",
    "df1.columns"
   ]
  },
  {
   "cell_type": "markdown",
   "id": "dcde1ad2-b1a0-4bc7-af90-759e1352e879",
   "metadata": {},
   "source": [
    "We are only interested in several columns  \n",
    "* **subreddit** - Where the content is posted to\n",
    "* **title** - Title of the post\n",
    "* **author** - Creator of the post\n",
    "* **selftext** - Text body of the post, if any\n",
    "* **created_utc** - Date of post created\n",
    "* **id** - Id number of the post"
   ]
  },
  {
   "cell_type": "code",
   "execution_count": 69,
   "id": "e9e6157b-03ad-43ae-a7c7-e40592701346",
   "metadata": {},
   "outputs": [],
   "source": [
    "# select columns\n",
    "col = ['author', 'subreddit', 'title', 'selftext', 'created_utc', 'id']"
   ]
  },
  {
   "cell_type": "code",
   "execution_count": 70,
   "id": "cc30f3c0-cec1-4950-aaaa-1b3b1f7074cb",
   "metadata": {},
   "outputs": [],
   "source": [
    "df1 = df1[col]\n",
    "df2 = df2[col]"
   ]
  },
  {
   "cell_type": "code",
   "execution_count": 71,
   "id": "9c974d4f-541f-457e-81c8-e0f08168dbcc",
   "metadata": {},
   "outputs": [
    {
     "name": "stdout",
     "output_type": "stream",
     "text": [
      "(9987, 6)\n"
     ]
    },
    {
     "data": {
      "text/html": [
       "<div>\n",
       "<style scoped>\n",
       "    .dataframe tbody tr th:only-of-type {\n",
       "        vertical-align: middle;\n",
       "    }\n",
       "\n",
       "    .dataframe tbody tr th {\n",
       "        vertical-align: top;\n",
       "    }\n",
       "\n",
       "    .dataframe thead th {\n",
       "        text-align: right;\n",
       "    }\n",
       "</style>\n",
       "<table border=\"1\" class=\"dataframe\">\n",
       "  <thead>\n",
       "    <tr style=\"text-align: right;\">\n",
       "      <th></th>\n",
       "      <th>author</th>\n",
       "      <th>subreddit</th>\n",
       "      <th>title</th>\n",
       "      <th>selftext</th>\n",
       "      <th>created_utc</th>\n",
       "      <th>id</th>\n",
       "    </tr>\n",
       "  </thead>\n",
       "  <tbody>\n",
       "    <tr>\n",
       "      <th>9367</th>\n",
       "      <td>stoic_Ram</td>\n",
       "      <td>Stoicism</td>\n",
       "      <td>How to not let caution slip into phobia?</td>\n",
       "      <td>This might seem like a minor problem, but I cannot function properly and I spend all of my time thinking about this.\\n\\nThe problem: \\n\\nI'm being hypervigilant about avoiding stuffs that MAY BE harmful to me.\\n\\nFor instance, ever since I learned plastics can leach harmful substances when it comes in contact with hot surface, I removed almost every plastic from my kitchen, even then, I supervise everytime my mom is cooking( thrice a day), to make sure she does not take the knife with plastic handle anywhere near the stove. It makes me very uncomfortable (anxious) if I find it anywhere near the stove. I spend entire  day thinking about it. \\n\\nThe real problem is I spend a lot of time debating with myself, if I should tell her to get a wooden handle knife, or if telling her to get a wooden handle knife will make me look like a stupid. \\n\\nWhen I try to apply stoic ideas here, I believe that telling her to get a wooden handle knife is within my control but I also feel like it is driven by my irrational fear( as the probability of the knife getting in contact with my food is very less and even if it happens the dose is going to be very less to be of concern) but I also think it would be against nature to not act towards self preservation. \\n\\nThis is just one example, there are limitless stuffs I think about every day which sucks time and energy from me ( I completely stopped eating anything with sugar, junk foods, I have not touched alcohol, started using shampoo with least chemicals etc.)\\nThough sometimes this EXTREME PHOBIA ( bordering OCD)  seems to help me avoid being addicted to bad stuffs, it takes away A LOT of time, energy and peace of mind. ( I'm unemployed and should be spending my time studying to make myself employable but I spend all my time thinking about these stuffs ) \\n\\nI wish I was driven by rationality, not fear to avoid stuffs that are harmful to me. \\n\\nAnd as  for attending therapy, \\n1.  I live in a rural town in India, I'd have to travel at least a hundred kilometres by bus to find a decent therapist.\\n\\n2. My parents do not believe in phobia/ OCD or other such mental illnesses and I'm unemployed so I cannot afford therapy without their help.</td>\n",
       "      <td>1622990416</td>\n",
       "      <td>ntn7tx</td>\n",
       "    </tr>\n",
       "    <tr>\n",
       "      <th>4041</th>\n",
       "      <td>shittyfuckdick</td>\n",
       "      <td>Stoicism</td>\n",
       "      <td>How to Cope With Going Deaf?</td>\n",
       "      <td>Last month I had a really bad flu. I woke up on morning and was completely deaf. \\n\\nThe docs put on my steroids and antibiotics which brought back a lot of my hearing, but I am still left with permanent hearing loss and very bad tinnitus. Really the worse part is the tinnitus. It’s loud and is there everyday to remind me of my new disability. \\n\\nI also can’t do things like use headphones or go to loud places anymore in fear of making it worse. I’m only 26 and I now have a lot of my life taken away from the something the seemingly happened out of nowhere. I was already very depressed before this happened, and this just feels like kicking my while I’m down. \\n\\nI know stoicism teaches to only focus on what we can control. But I’m having a hard time adapting to this, especially with the tinnitus there ruining every second of my day.</td>\n",
       "      <td>1640197037</td>\n",
       "      <td>rmb7ii</td>\n",
       "    </tr>\n",
       "    <tr>\n",
       "      <th>9561</th>\n",
       "      <td>ellixit</td>\n",
       "      <td>Stoicism</td>\n",
       "      <td>Help with Loneliness</td>\n",
       "      <td>After first reading Meditations nearly three years ago, I made the choice to begin practicing Stoicism in my life. It has helped me through a great many things in my life since then, from getting distressing news about the well being of those close to me to being more grateful in my everyday life. Thanks to Stoicism, I made it through the majority of 2020 relatively emotionally unscathed.\\n\\nHowever, in the past few months I have been experiencing symptoms typically associated with depression, and although I have not been officially diagnosed, I believe it is the most likely cause of my symptoms. I have been a fairly devout Stoic up to this point in my life, but none of the wisdom and teachings I have read seem to help me. \\n\\nI had believed that my experience as a Stoic meant that I would be able to surmount any emotional obstacles, but clearly I was wrong. No matter how many times I read quotes of Epictetus or Marcus Aurelius, nothing leaves an impression long enough to counteract the overwhelming loneliness and dissatisfaction I now feel on a regular basis.\\n\\nI strongly believe that my philosophical beliefs will help me more than any therapy or medications, so I am asking whether anyone has information that may help me in this situation.</td>\n",
       "      <td>1622428830</td>\n",
       "      <td>noqrtf</td>\n",
       "    </tr>\n",
       "    <tr>\n",
       "      <th>4947</th>\n",
       "      <td>TheSacredList</td>\n",
       "      <td>Stoicism</td>\n",
       "      <td>A stark example of how Ryan Holiday misrepresents Stoicism for profit.</td>\n",
       "      <td>A few weeks ago, I received this marketing email from Ryan Holiday's company, The Daily Stoic:\\n\\n\"Seneca said the path to wisdom was best traveled by acquiring one thing each day. Something that fortifies you against adversity, poverty, death, or whatever else life may throw at you. One might assume Seneca is talking about some physical or spiritual object of tremendous gravity, but we can see from his letters to Lucilius that what he was mostly talking about was quotes.\\n\\n\"One quote a day, he was saying (and sharing)—that's all we need to get better and wiser and stronger and more resilient...\"\\n\\nRyan then urges us to buy his Stoic quote-a-day calendar, one of many items of Stoicism-related merchandise he sells.\\n\\nBut reading \"one quote a day\" is the precise opposite of what Seneca advocated. See Letter 33: On the Futility of Learning Maxims:\\n\\n\"...give over hoping that you can skim, by means of epitomes, the wisdom of distinguished men. Look into their wisdom as a whole; study it as a whole...\\n\\n\"For a man... to chase after choice extracts and to prop his weakness by the best known and the briefest sayings and to depend upon his memory, is disgraceful...\"\\n\\nI know this is low-hanging fruit, but I felt Holiday should be called out on this particularly egregious misrepresentation of Stoicism.\\n\\nPersonally, I have derived some value from reading out-of-context quotes about Stoicism—including from Ryan himself—but merely skimming the titles of Seneca's letters shows that he did not endorse such activity.</td>\n",
       "      <td>1637160430</td>\n",
       "      <td>qw0ufb</td>\n",
       "    </tr>\n",
       "    <tr>\n",
       "      <th>3357</th>\n",
       "      <td>Arigintan</td>\n",
       "      <td>Stoicism</td>\n",
       "      <td>How do stoics handle women.</td>\n",
       "      <td>I am a young male and I have a dilemma. I very comfortable with being alone,but I also want a girlfriend. I am curious how you stoics approach love. Do you all believe that I have a women destained to be my bride? Do I have to go out and hunt her down?</td>\n",
       "      <td>1642397617</td>\n",
       "      <td>s5w4p7</td>\n",
       "    </tr>\n",
       "  </tbody>\n",
       "</table>\n",
       "</div>"
      ],
      "text/plain": [
       "              author subreddit  \\\n",
       "9367       stoic_Ram  Stoicism   \n",
       "4041  shittyfuckdick  Stoicism   \n",
       "9561         ellixit  Stoicism   \n",
       "4947   TheSacredList  Stoicism   \n",
       "3357       Arigintan  Stoicism   \n",
       "\n",
       "                                                                       title  \\\n",
       "9367                                How to not let caution slip into phobia?   \n",
       "4041                                            How to Cope With Going Deaf?   \n",
       "9561                                                    Help with Loneliness   \n",
       "4947  A stark example of how Ryan Holiday misrepresents Stoicism for profit.   \n",
       "3357                                             How do stoics handle women.   \n",
       "\n",
       "                                                                                                                                                                                                                                                                                                                                                                                                                                                                                                                                                                                                                                                                                                                                                                                                                                                                                                                                                                                                                                                                                                                                                                                                                                                                                                                                                                                                                                                                                                                                                                                                                                                                                                                                                                                                                                                                                                                                                                                                                                                                                                                                                                                                                                                                                           selftext  \\\n",
       "9367  This might seem like a minor problem, but I cannot function properly and I spend all of my time thinking about this.\\n\\nThe problem: \\n\\nI'm being hypervigilant about avoiding stuffs that MAY BE harmful to me.\\n\\nFor instance, ever since I learned plastics can leach harmful substances when it comes in contact with hot surface, I removed almost every plastic from my kitchen, even then, I supervise everytime my mom is cooking( thrice a day), to make sure she does not take the knife with plastic handle anywhere near the stove. It makes me very uncomfortable (anxious) if I find it anywhere near the stove. I spend entire  day thinking about it. \\n\\nThe real problem is I spend a lot of time debating with myself, if I should tell her to get a wooden handle knife, or if telling her to get a wooden handle knife will make me look like a stupid. \\n\\nWhen I try to apply stoic ideas here, I believe that telling her to get a wooden handle knife is within my control but I also feel like it is driven by my irrational fear( as the probability of the knife getting in contact with my food is very less and even if it happens the dose is going to be very less to be of concern) but I also think it would be against nature to not act towards self preservation. \\n\\nThis is just one example, there are limitless stuffs I think about every day which sucks time and energy from me ( I completely stopped eating anything with sugar, junk foods, I have not touched alcohol, started using shampoo with least chemicals etc.)\\nThough sometimes this EXTREME PHOBIA ( bordering OCD)  seems to help me avoid being addicted to bad stuffs, it takes away A LOT of time, energy and peace of mind. ( I'm unemployed and should be spending my time studying to make myself employable but I spend all my time thinking about these stuffs ) \\n\\nI wish I was driven by rationality, not fear to avoid stuffs that are harmful to me. \\n\\nAnd as  for attending therapy, \\n1.  I live in a rural town in India, I'd have to travel at least a hundred kilometres by bus to find a decent therapist.\\n\\n2. My parents do not believe in phobia/ OCD or other such mental illnesses and I'm unemployed so I cannot afford therapy without their help.   \n",
       "4041                                                                                                                                                                                                                                                                                                                                                                                                                                                                                                                                                                                                                                                                                                                                                                                                                                                                                                                                                                                                                                                                                                                                                                                                                                                                                                                                                                                                                    Last month I had a really bad flu. I woke up on morning and was completely deaf. \\n\\nThe docs put on my steroids and antibiotics which brought back a lot of my hearing, but I am still left with permanent hearing loss and very bad tinnitus. Really the worse part is the tinnitus. It’s loud and is there everyday to remind me of my new disability. \\n\\nI also can’t do things like use headphones or go to loud places anymore in fear of making it worse. I’m only 26 and I now have a lot of my life taken away from the something the seemingly happened out of nowhere. I was already very depressed before this happened, and this just feels like kicking my while I’m down. \\n\\nI know stoicism teaches to only focus on what we can control. But I’m having a hard time adapting to this, especially with the tinnitus there ruining every second of my day.   \n",
       "9561                                                                                                                                                                                                                                                                                                                                                                                                                                                                                                                                                                                                                                                                                                                                                                                                                                                                                                                                                                                  After first reading Meditations nearly three years ago, I made the choice to begin practicing Stoicism in my life. It has helped me through a great many things in my life since then, from getting distressing news about the well being of those close to me to being more grateful in my everyday life. Thanks to Stoicism, I made it through the majority of 2020 relatively emotionally unscathed.\\n\\nHowever, in the past few months I have been experiencing symptoms typically associated with depression, and although I have not been officially diagnosed, I believe it is the most likely cause of my symptoms. I have been a fairly devout Stoic up to this point in my life, but none of the wisdom and teachings I have read seem to help me. \\n\\nI had believed that my experience as a Stoic meant that I would be able to surmount any emotional obstacles, but clearly I was wrong. No matter how many times I read quotes of Epictetus or Marcus Aurelius, nothing leaves an impression long enough to counteract the overwhelming loneliness and dissatisfaction I now feel on a regular basis.\\n\\nI strongly believe that my philosophical beliefs will help me more than any therapy or medications, so I am asking whether anyone has information that may help me in this situation.   \n",
       "4947                                                                                                                                                                                                                                                                                                                                                                                                                                                                                                                                                                                                                                                                                                A few weeks ago, I received this marketing email from Ryan Holiday's company, The Daily Stoic:\\n\\n\"Seneca said the path to wisdom was best traveled by acquiring one thing each day. Something that fortifies you against adversity, poverty, death, or whatever else life may throw at you. One might assume Seneca is talking about some physical or spiritual object of tremendous gravity, but we can see from his letters to Lucilius that what he was mostly talking about was quotes.\\n\\n\"One quote a day, he was saying (and sharing)—that's all we need to get better and wiser and stronger and more resilient...\"\\n\\nRyan then urges us to buy his Stoic quote-a-day calendar, one of many items of Stoicism-related merchandise he sells.\\n\\nBut reading \"one quote a day\" is the precise opposite of what Seneca advocated. See Letter 33: On the Futility of Learning Maxims:\\n\\n\"...give over hoping that you can skim, by means of epitomes, the wisdom of distinguished men. Look into their wisdom as a whole; study it as a whole...\\n\\n\"For a man... to chase after choice extracts and to prop his weakness by the best known and the briefest sayings and to depend upon his memory, is disgraceful...\"\\n\\nI know this is low-hanging fruit, but I felt Holiday should be called out on this particularly egregious misrepresentation of Stoicism.\\n\\nPersonally, I have derived some value from reading out-of-context quotes about Stoicism—including from Ryan himself—but merely skimming the titles of Seneca's letters shows that he did not endorse such activity.   \n",
       "3357                                                                                                                                                                                                                                                                                                                                                                                                                                                                                                                                                                                                                                                                                                                                                                                                                                                                                                                                                                                                                                                                                                                                                                                                                                                                                                                                                                                                                                                                                                                                                                                                                                                                                                                                                                                                                                                                                                                                                                                                                                   I am a young male and I have a dilemma. I very comfortable with being alone,but I also want a girlfriend. I am curious how you stoics approach love. Do you all believe that I have a women destained to be my bride? Do I have to go out and hunt her down?   \n",
       "\n",
       "      created_utc      id  \n",
       "9367   1622990416  ntn7tx  \n",
       "4041   1640197037  rmb7ii  \n",
       "9561   1622428830  noqrtf  \n",
       "4947   1637160430  qw0ufb  \n",
       "3357   1642397617  s5w4p7  "
      ]
     },
     "execution_count": 71,
     "metadata": {},
     "output_type": "execute_result"
    }
   ],
   "source": [
    "# examine r/Stoicism\n",
    "print(df1.shape)\n",
    "df1.sample(5)"
   ]
  },
  {
   "cell_type": "code",
   "execution_count": 72,
   "id": "3bb81010-3311-4551-a1e4-a076bae3d9b9",
   "metadata": {},
   "outputs": [
    {
     "name": "stdout",
     "output_type": "stream",
     "text": [
      "(9992, 6)\n"
     ]
    },
    {
     "data": {
      "text/html": [
       "<div>\n",
       "<style scoped>\n",
       "    .dataframe tbody tr th:only-of-type {\n",
       "        vertical-align: middle;\n",
       "    }\n",
       "\n",
       "    .dataframe tbody tr th {\n",
       "        vertical-align: top;\n",
       "    }\n",
       "\n",
       "    .dataframe thead th {\n",
       "        text-align: right;\n",
       "    }\n",
       "</style>\n",
       "<table border=\"1\" class=\"dataframe\">\n",
       "  <thead>\n",
       "    <tr style=\"text-align: right;\">\n",
       "      <th></th>\n",
       "      <th>author</th>\n",
       "      <th>subreddit</th>\n",
       "      <th>title</th>\n",
       "      <th>selftext</th>\n",
       "      <th>created_utc</th>\n",
       "      <th>id</th>\n",
       "    </tr>\n",
       "  </thead>\n",
       "  <tbody>\n",
       "    <tr>\n",
       "      <th>9003</th>\n",
       "      <td>hhh6h</td>\n",
       "      <td>Buddhism</td>\n",
       "      <td>Prayers to \"God\" in the past have been answered. How do I make sense of this?</td>\n",
       "      <td>I ask this because Buddhism rejects the existence of the God of Abrahamic faiths. I am not alone in having experienced this.</td>\n",
       "      <td>1642885982</td>\n",
       "      <td>saca8y</td>\n",
       "    </tr>\n",
       "    <tr>\n",
       "      <th>7348</th>\n",
       "      <td>3-pointz</td>\n",
       "      <td>Buddhism</td>\n",
       "      <td>How should Who am I question be answered?</td>\n",
       "      <td>I was reading that our attachments to things are the cause of our misery in this way we should become detached from people objects external stimuli and even what we call the body we should try to escape the “l am” statement because this leads us to attachment toward ourself which can become unhealthy but when someone ask me Who am I? how should this question be answered if im detaching from the “I”</td>\n",
       "      <td>1645243213</td>\n",
       "      <td>sw0whc</td>\n",
       "    </tr>\n",
       "    <tr>\n",
       "      <th>509</th>\n",
       "      <td>SinofTruth11</td>\n",
       "      <td>Buddhism</td>\n",
       "      <td>What do you speculate might happen if I showed Moving levitation Siddhi?</td>\n",
       "      <td>I can't do it yet but I have been thinking on it and it wouldn't be wise to show the materialistic superficial masses just yet</td>\n",
       "      <td>1655269928</td>\n",
       "      <td>vcmuo7</td>\n",
       "    </tr>\n",
       "    <tr>\n",
       "      <th>5153</th>\n",
       "      <td>WhereIsTheBodyJon</td>\n",
       "      <td>Buddhism</td>\n",
       "      <td>Truly, the second noble truth is a truth</td>\n",
       "      <td>I have intellectually known theta the second noble truth, one of the four noble truths was very correct I think hat desire/attachment or craving brings suffering due to it being ultimately impermanent, but emotionally and spiritually I have not truly incorporated this concept\\nBut today at school, during lunch I bring my back back full of my papers and materials and when I go and get lunch it’s left on my cafeteria seat, this has brought me worry as to if it were to be stolen it would be devastating for me\\n\\nBut I left it in a counselors office accidentally so that I could do some work quietly but I forgot it, and i forgot about the backpack until my last period and then I took it from the office\\n\\nImmediately after that at some time at home or school, I realized that some gigantic mental weight was lifted from me during that time of not having my backpack allowing me some form of peace with my belongings(or nonexistent ones) \\n\\nit was so pleasant</td>\n",
       "      <td>1648607840</td>\n",
       "      <td>trwbhu</td>\n",
       "    </tr>\n",
       "    <tr>\n",
       "      <th>9976</th>\n",
       "      <td>buddhadharmapractice</td>\n",
       "      <td>Buddhism</td>\n",
       "      <td>12 Vows of Medicine Buddha - #1</td>\n",
       "      <td>&amp;gt;I vow that my body shall shine as beams of brilliant light on this infinite and boundless world, showering on all beings, getting rid of the ignorance and worries with my teachings. \\n\\n&amp;gt;May all beings be like me, with a perfect status and character, upright mind and soul, and finally attaining enlightenment like the Buddha.</td>\n",
       "      <td>1641518914</td>\n",
       "      <td>rxuv0f</td>\n",
       "    </tr>\n",
       "  </tbody>\n",
       "</table>\n",
       "</div>"
      ],
      "text/plain": [
       "                    author subreddit  \\\n",
       "9003                 hhh6h  Buddhism   \n",
       "7348              3-pointz  Buddhism   \n",
       "509           SinofTruth11  Buddhism   \n",
       "5153     WhereIsTheBodyJon  Buddhism   \n",
       "9976  buddhadharmapractice  Buddhism   \n",
       "\n",
       "                                                                              title  \\\n",
       "9003  Prayers to \"God\" in the past have been answered. How do I make sense of this?   \n",
       "7348                                      How should Who am I question be answered?   \n",
       "509        What do you speculate might happen if I showed Moving levitation Siddhi?   \n",
       "5153                                       Truly, the second noble truth is a truth   \n",
       "9976                                                12 Vows of Medicine Buddha - #1   \n",
       "\n",
       "                                                                                                                                                                                                                                                                                                                                                                                                                                                                                                                                                                                                                                                                                                                                                                                                                                                                                                                                                                                                  selftext  \\\n",
       "9003                                                                                                                                                                                                                                                                                                                                                                                                                                                                                                                                                                                                                                                                                                                                                                                                                                                                          I ask this because Buddhism rejects the existence of the God of Abrahamic faiths. I am not alone in having experienced this.   \n",
       "7348                                                                                                                                                                                                                                                                                                                                                                                                                                                                                                                                                                                     I was reading that our attachments to things are the cause of our misery in this way we should become detached from people objects external stimuli and even what we call the body we should try to escape the “l am” statement because this leads us to attachment toward ourself which can become unhealthy but when someone ask me Who am I? how should this question be answered if im detaching from the “I”   \n",
       "509                                                                                                                                                                                                                                                                                                                                                                                                                                                                                                                                                                                                                                                                                                                                                                                                                                                                         I can't do it yet but I have been thinking on it and it wouldn't be wise to show the materialistic superficial masses just yet   \n",
       "5153  I have intellectually known theta the second noble truth, one of the four noble truths was very correct I think hat desire/attachment or craving brings suffering due to it being ultimately impermanent, but emotionally and spiritually I have not truly incorporated this concept\\nBut today at school, during lunch I bring my back back full of my papers and materials and when I go and get lunch it’s left on my cafeteria seat, this has brought me worry as to if it were to be stolen it would be devastating for me\\n\\nBut I left it in a counselors office accidentally so that I could do some work quietly but I forgot it, and i forgot about the backpack until my last period and then I took it from the office\\n\\nImmediately after that at some time at home or school, I realized that some gigantic mental weight was lifted from me during that time of not having my backpack allowing me some form of peace with my belongings(or nonexistent ones) \\n\\nit was so pleasant   \n",
       "9976                                                                                                                                                                                                                                                                                                                                                                                                                                                                                                                                                                                                                                                         &gt;I vow that my body shall shine as beams of brilliant light on this infinite and boundless world, showering on all beings, getting rid of the ignorance and worries with my teachings. \\n\\n&gt;May all beings be like me, with a perfect status and character, upright mind and soul, and finally attaining enlightenment like the Buddha.   \n",
       "\n",
       "      created_utc      id  \n",
       "9003   1642885982  saca8y  \n",
       "7348   1645243213  sw0whc  \n",
       "509    1655269928  vcmuo7  \n",
       "5153   1648607840  trwbhu  \n",
       "9976   1641518914  rxuv0f  "
      ]
     },
     "execution_count": 72,
     "metadata": {},
     "output_type": "execute_result"
    }
   ],
   "source": [
    "# examine r/Buddhism\n",
    "print(df2.shape)\n",
    "df2.sample(5)"
   ]
  },
  {
   "cell_type": "markdown",
   "id": "95fb926f-6eac-4ff8-a2e8-7bba043e196d",
   "metadata": {},
   "source": [
    "### Check for missing values"
   ]
  },
  {
   "cell_type": "code",
   "execution_count": 73,
   "id": "37ed72a3-9b6f-4c49-a3c5-0dc5b8774739",
   "metadata": {},
   "outputs": [
    {
     "name": "stdout",
     "output_type": "stream",
     "text": [
      "<class 'pandas.core.frame.DataFrame'>\n",
      "RangeIndex: 9987 entries, 0 to 9986\n",
      "Data columns (total 6 columns):\n",
      " #   Column       Non-Null Count  Dtype \n",
      "---  ------       --------------  ----- \n",
      " 0   author       9987 non-null   object\n",
      " 1   subreddit    9987 non-null   object\n",
      " 2   title        9987 non-null   object\n",
      " 3   selftext     9183 non-null   object\n",
      " 4   created_utc  9987 non-null   int64 \n",
      " 5   id           9987 non-null   object\n",
      "dtypes: int64(1), object(5)\n",
      "memory usage: 468.3+ KB\n"
     ]
    }
   ],
   "source": [
    "df1.info()"
   ]
  },
  {
   "cell_type": "code",
   "execution_count": 74,
   "id": "c991f88e-ee47-490a-958d-3ef65466d732",
   "metadata": {},
   "outputs": [
    {
     "name": "stdout",
     "output_type": "stream",
     "text": [
      "<class 'pandas.core.frame.DataFrame'>\n",
      "RangeIndex: 9992 entries, 0 to 9991\n",
      "Data columns (total 6 columns):\n",
      " #   Column       Non-Null Count  Dtype \n",
      "---  ------       --------------  ----- \n",
      " 0   author       9992 non-null   object\n",
      " 1   subreddit    9992 non-null   object\n",
      " 2   title        9992 non-null   object\n",
      " 3   selftext     6505 non-null   object\n",
      " 4   created_utc  9992 non-null   int64 \n",
      " 5   id           9992 non-null   object\n",
      "dtypes: int64(1), object(5)\n",
      "memory usage: 468.5+ KB\n"
     ]
    }
   ],
   "source": [
    "df2.info()"
   ]
  },
  {
   "cell_type": "markdown",
   "id": "02d429f1-0e7c-4798-862a-66d250048dc6",
   "metadata": {},
   "source": [
    "On both dataframe, missing values are observed on the `selftext` column. It is possible for a post to contain the title only. The `selftext` column may provide information of each subreddit and it will not be dropped despite the amount of missing values. Instead, it will be merged with `title` later on."
   ]
  },
  {
   "cell_type": "markdown",
   "id": "4b19b7ba-f343-41bb-990b-6a801666a42c",
   "metadata": {},
   "source": [
    "### Check for duplicate"
   ]
  },
  {
   "cell_type": "code",
   "execution_count": 75,
   "id": "83dc6d61-61ad-4c2e-a43d-6cb45762e30c",
   "metadata": {},
   "outputs": [
    {
     "data": {
      "text/plain": [
       "author         4046\n",
       "subreddit      9986\n",
       "title           268\n",
       "selftext       1304\n",
       "created_utc       5\n",
       "id                0\n",
       "dtype: int64"
      ]
     },
     "execution_count": 75,
     "metadata": {},
     "output_type": "execute_result"
    }
   ],
   "source": [
    "df1.apply(lambda x:sum(x.duplicated()))"
   ]
  },
  {
   "cell_type": "code",
   "execution_count": 76,
   "id": "b2517bd6-26b0-40b3-9f57-a8b2af42d48b",
   "metadata": {},
   "outputs": [
    {
     "data": {
      "text/plain": [
       "author         5541\n",
       "subreddit      9991\n",
       "title           266\n",
       "selftext       4600\n",
       "created_utc       3\n",
       "id                0\n",
       "dtype: int64"
      ]
     },
     "execution_count": 76,
     "metadata": {},
     "output_type": "execute_result"
    }
   ],
   "source": [
    "df2.apply(lambda x:sum(x.duplicated()))"
   ]
  },
  {
   "cell_type": "markdown",
   "id": "cf8169a3-11a8-487c-97eb-a424a60cafd6",
   "metadata": {},
   "source": [
    "* Duplicate in `author`,  `subreddit` will be ignored\n",
    "* Duplicates in `title` could mean multiple post. We will use `author` to determine if the duplicated post comes from the same person\n",
    "* Duplicates in `created_utc` means posts created on the same time. It may be possible this may happen. As long as `title` and `author` is different, it can be assumed it is a unique post"
   ]
  },
  {
   "cell_type": "code",
   "execution_count": 77,
   "id": "baa44e74-4d57-4d19-8a4d-55dda2280929",
   "metadata": {},
   "outputs": [
    {
     "data": {
      "text/plain": [
       "170"
      ]
     },
     "execution_count": 77,
     "metadata": {},
     "output_type": "execute_result"
    }
   ],
   "source": [
    "# determine the number of duplicates  between author and title\n",
    "len(df1[df1.duplicated(subset=['title','author'])])"
   ]
  },
  {
   "cell_type": "code",
   "execution_count": 78,
   "id": "1dd78731-eb36-439d-b797-cb6bbed44d1f",
   "metadata": {},
   "outputs": [
    {
     "data": {
      "text/plain": [
       "194"
      ]
     },
     "execution_count": 78,
     "metadata": {},
     "output_type": "execute_result"
    }
   ],
   "source": [
    "len(df2[df2.duplicated(subset=['title','author'])])"
   ]
  },
  {
   "cell_type": "markdown",
   "id": "218b74e4-d343-4dc8-8081-24671251b63f",
   "metadata": {},
   "source": [
    "There are 170 and 194 duplicated posts in r/Stocism and r/Buddhism respectively which are made by the same author. We will assume these are duplicated post and will be dropped."
   ]
  },
  {
   "cell_type": "code",
   "execution_count": 79,
   "id": "442f63e4-2769-4cc2-a962-31984e109f94",
   "metadata": {},
   "outputs": [],
   "source": [
    "# drop duplicate for r/Stoicism\n",
    "df1.drop_duplicates(subset=['title', 'author'], inplace=True)"
   ]
  },
  {
   "cell_type": "code",
   "execution_count": 80,
   "id": "c1c4208d-3459-4e3b-9a9d-368606125efe",
   "metadata": {},
   "outputs": [],
   "source": [
    "# drop duplicate for r/Buddhism\n",
    "df2.drop_duplicates(subset=['title', 'author'], inplace=True)"
   ]
  },
  {
   "cell_type": "code",
   "execution_count": 81,
   "id": "275eff7a-5160-44ac-bb53-6011dbcf9db7",
   "metadata": {},
   "outputs": [
    {
     "data": {
      "text/plain": [
       "author         3876\n",
       "subreddit      9816\n",
       "title            98\n",
       "selftext       1161\n",
       "created_utc       3\n",
       "id                0\n",
       "dtype: int64"
      ]
     },
     "execution_count": 81,
     "metadata": {},
     "output_type": "execute_result"
    }
   ],
   "source": [
    "# reverify duplicates\n",
    "df1.apply(lambda x:sum(x.duplicated()))"
   ]
  },
  {
   "cell_type": "code",
   "execution_count": 82,
   "id": "68d0147f-e22e-4625-a484-773283499648",
   "metadata": {},
   "outputs": [
    {
     "data": {
      "text/plain": [
       "author         5347\n",
       "subreddit      9797\n",
       "title            72\n",
       "selftext       4423\n",
       "created_utc       1\n",
       "id                0\n",
       "dtype: int64"
      ]
     },
     "execution_count": 82,
     "metadata": {},
     "output_type": "execute_result"
    }
   ],
   "source": [
    "df2.apply(lambda x:sum(x.duplicated()))"
   ]
  },
  {
   "cell_type": "code",
   "execution_count": 83,
   "id": "3a37fda5-0fb7-4513-a22b-34a37b9fb4ab",
   "metadata": {},
   "outputs": [
    {
     "data": {
      "text/html": [
       "<div>\n",
       "<style scoped>\n",
       "    .dataframe tbody tr th:only-of-type {\n",
       "        vertical-align: middle;\n",
       "    }\n",
       "\n",
       "    .dataframe tbody tr th {\n",
       "        vertical-align: top;\n",
       "    }\n",
       "\n",
       "    .dataframe thead th {\n",
       "        text-align: right;\n",
       "    }\n",
       "</style>\n",
       "<table border=\"1\" class=\"dataframe\">\n",
       "  <thead>\n",
       "    <tr style=\"text-align: right;\">\n",
       "      <th></th>\n",
       "      <th>author</th>\n",
       "      <th>subreddit</th>\n",
       "      <th>title</th>\n",
       "      <th>selftext</th>\n",
       "      <th>created_utc</th>\n",
       "      <th>id</th>\n",
       "    </tr>\n",
       "  </thead>\n",
       "  <tbody>\n",
       "    <tr>\n",
       "      <th>12</th>\n",
       "      <td>AutoModerator</td>\n",
       "      <td>Stoicism</td>\n",
       "      <td>Agora: Weekly self-promotion thread</td>\n",
       "      <td>Please  post any content that falls under self-promotion as a first-level comment in this thread, and don't reference it anywhere else on the subreddit.\\n\\nPosted items must be relevant to Stoicism.\\n\\nPlease don't post the same item over and over again - the limit is one author/blog/youtube channel per week.\\n\\nEven if you liked something you saw in this thread very much, please don't repost it, and don't promote it in other threads.</td>\n",
       "      <td>1655941508</td>\n",
       "      <td>viiyp1</td>\n",
       "    </tr>\n",
       "    <tr>\n",
       "      <th>86</th>\n",
       "      <td>LawAgitated913</td>\n",
       "      <td>Stoicism</td>\n",
       "      <td>We don’t have power over our emotions but we do have power over how we respond to them.</td>\n",
       "      <td>\\nThe response is quick and of the nature of identification with the thought however observation is what works with regards to emotions. Mindfulness is required to sort the difference between the two. \\n\\nStoic principles and theory is great however I’ve found it most benefitial when I have power over my emotions. It turns out we don’t have power over out emotions but we do have power over how we respond to them. Either by identification or by observation. \\n\\nI’ve linked an ebook by a writer mark Manson.\\n\\nThe first idea in the book is about emotions and how to deal with them. It takes on the Buddhist perspective of observing the mind. \\n\\nI don’t know if stoicism advocates something similar, I haven’t come across anything like this in stoicism.\\n\\nWhen we are clear headed it’s easier to take note of things within and outside our power , making it easier to practice DOC</td>\n",
       "      <td>1655626582</td>\n",
       "      <td>vfqho7</td>\n",
       "    </tr>\n",
       "    <tr>\n",
       "      <th>87</th>\n",
       "      <td>Itshardtofindanametf</td>\n",
       "      <td>Stoicism</td>\n",
       "      <td>We don’t have power over our emotions but we do have power over how we respond to them.</td>\n",
       "      <td>\\nThe response is quick and of the nature of identification with the thought however observation is what works with regards to emotions. Mindfulness is required to sort the difference between the two. \\n\\nStoic principles and theory is great however I’ve found it most benefitial when I have power over my emotions. It turns out we don’t have power over out emotions but we do have power over how we respond to them. Either by identification or by observation. \\n\\nI’ve linked an ebook by a writer mark Manson.\\n\\nThe first idea in the book is about emotions and how to deal with them. It takes on the Buddhist perspective of observing the mind. \\n\\nI don’t know if stoicism advocates something similar, I haven’t come across anything like this in stoicism.\\n\\nWhen we are clear headed it’s easier to take note of things within and outside our power , making it easier to practice DOC</td>\n",
       "      <td>1655620887</td>\n",
       "      <td>vfp5xz</td>\n",
       "    </tr>\n",
       "    <tr>\n",
       "      <th>266</th>\n",
       "      <td>judeliddell</td>\n",
       "      <td>Stoicism</td>\n",
       "      <td>Addiction</td>\n",
       "      <td>\"It is within the intrests of the wise to resist pleasures, and the fool to be a slave to them\" - Epictetus\\n\\nI am currenently addicted to valium, alchohol and codiene. \\n\\nI am looking for stoic advice on how I rid myself of the shackles of addiction, give me your best quotes! Thank you. \\n\\nI've only just got into Stoicism and have read Ryan Holaday's DAILY STOIC about four times. I think I need to pick up M.A meditations. Any help would be great, I am twenty years old and I am very lost.</td>\n",
       "      <td>1654789827</td>\n",
       "      <td>v8ju9d</td>\n",
       "    </tr>\n",
       "    <tr>\n",
       "      <th>331</th>\n",
       "      <td>somethinghere02</td>\n",
       "      <td>Stoicism</td>\n",
       "      <td>H</td>\n",
       "      <td>H</td>\n",
       "      <td>1654549378</td>\n",
       "      <td>v6dlny</td>\n",
       "    </tr>\n",
       "  </tbody>\n",
       "</table>\n",
       "</div>"
      ],
      "text/plain": [
       "                   author subreddit  \\\n",
       "12          AutoModerator  Stoicism   \n",
       "86         LawAgitated913  Stoicism   \n",
       "87   Itshardtofindanametf  Stoicism   \n",
       "266           judeliddell  Stoicism   \n",
       "331       somethinghere02  Stoicism   \n",
       "\n",
       "                                                                                       title  \\\n",
       "12                                                       Agora: Weekly self-promotion thread   \n",
       "86   We don’t have power over our emotions but we do have power over how we respond to them.   \n",
       "87   We don’t have power over our emotions but we do have power over how we respond to them.   \n",
       "266                                                                                Addiction   \n",
       "331                                                                                        H   \n",
       "\n",
       "                                                                                                                                                                                                                                                                                                                                                                                                                                                                                                                                                                                                                                                                                                                                                                                                                                                                                                                 selftext  \\\n",
       "12                                                                                                                                                                                                                                                                                                                                                                                                                                                                 Please  post any content that falls under self-promotion as a first-level comment in this thread, and don't reference it anywhere else on the subreddit.\\n\\nPosted items must be relevant to Stoicism.\\n\\nPlease don't post the same item over and over again - the limit is one author/blog/youtube channel per week.\\n\\nEven if you liked something you saw in this thread very much, please don't repost it, and don't promote it in other threads.   \n",
       "86   \\nThe response is quick and of the nature of identification with the thought however observation is what works with regards to emotions. Mindfulness is required to sort the difference between the two. \\n\\nStoic principles and theory is great however I’ve found it most benefitial when I have power over my emotions. It turns out we don’t have power over out emotions but we do have power over how we respond to them. Either by identification or by observation. \\n\\nI’ve linked an ebook by a writer mark Manson.\\n\\nThe first idea in the book is about emotions and how to deal with them. It takes on the Buddhist perspective of observing the mind. \\n\\nI don’t know if stoicism advocates something similar, I haven’t come across anything like this in stoicism.\\n\\nWhen we are clear headed it’s easier to take note of things within and outside our power , making it easier to practice DOC   \n",
       "87   \\nThe response is quick and of the nature of identification with the thought however observation is what works with regards to emotions. Mindfulness is required to sort the difference between the two. \\n\\nStoic principles and theory is great however I’ve found it most benefitial when I have power over my emotions. It turns out we don’t have power over out emotions but we do have power over how we respond to them. Either by identification or by observation. \\n\\nI’ve linked an ebook by a writer mark Manson.\\n\\nThe first idea in the book is about emotions and how to deal with them. It takes on the Buddhist perspective of observing the mind. \\n\\nI don’t know if stoicism advocates something similar, I haven’t come across anything like this in stoicism.\\n\\nWhen we are clear headed it’s easier to take note of things within and outside our power , making it easier to practice DOC   \n",
       "266                                                                                                                                                                                                                                                                                                                                                                                                      \"It is within the intrests of the wise to resist pleasures, and the fool to be a slave to them\" - Epictetus\\n\\nI am currenently addicted to valium, alchohol and codiene. \\n\\nI am looking for stoic advice on how I rid myself of the shackles of addiction, give me your best quotes! Thank you. \\n\\nI've only just got into Stoicism and have read Ryan Holaday's DAILY STOIC about four times. I think I need to pick up M.A meditations. Any help would be great, I am twenty years old and I am very lost.   \n",
       "331                                                                                                                                                                                                                                                                                                                                                                                                                                                                                                                                                                                                                                                                                                                                                                                                                                                                                                                     H   \n",
       "\n",
       "     created_utc      id  \n",
       "12    1655941508  viiyp1  \n",
       "86    1655626582  vfqho7  \n",
       "87    1655620887  vfp5xz  \n",
       "266   1654789827  v8ju9d  \n",
       "331   1654549378  v6dlny  "
      ]
     },
     "execution_count": 83,
     "metadata": {},
     "output_type": "execute_result"
    }
   ],
   "source": [
    "# examine first 5 duplicate rows for r/Stoicism\n",
    "df1[df1['title'].duplicated(keep=False)].head()"
   ]
  },
  {
   "cell_type": "code",
   "execution_count": 84,
   "id": "44b9b5aa-7824-46e7-b1aa-3315e1e463ca",
   "metadata": {},
   "outputs": [
    {
     "data": {
      "text/html": [
       "<div>\n",
       "<style scoped>\n",
       "    .dataframe tbody tr th:only-of-type {\n",
       "        vertical-align: middle;\n",
       "    }\n",
       "\n",
       "    .dataframe tbody tr th {\n",
       "        vertical-align: top;\n",
       "    }\n",
       "\n",
       "    .dataframe thead th {\n",
       "        text-align: right;\n",
       "    }\n",
       "</style>\n",
       "<table border=\"1\" class=\"dataframe\">\n",
       "  <thead>\n",
       "    <tr style=\"text-align: right;\">\n",
       "      <th></th>\n",
       "      <th>author</th>\n",
       "      <th>subreddit</th>\n",
       "      <th>title</th>\n",
       "      <th>selftext</th>\n",
       "      <th>created_utc</th>\n",
       "      <th>id</th>\n",
       "    </tr>\n",
       "  </thead>\n",
       "  <tbody>\n",
       "    <tr>\n",
       "      <th>76</th>\n",
       "      <td>greattibettour2</td>\n",
       "      <td>Buddhism</td>\n",
       "      <td>Tsurphu Monastery - Where Reincarnation Began</td>\n",
       "      <td>NaN</td>\n",
       "      <td>1655863793</td>\n",
       "      <td>vhtuth</td>\n",
       "    </tr>\n",
       "    <tr>\n",
       "      <th>878</th>\n",
       "      <td>lilquestionaccount</td>\n",
       "      <td>Buddhism</td>\n",
       "      <td>I hope this is not insensitive, I was looking at christian audigier jeans and was wondering if the design on these might fall under cultural appropriation? I don’t want to disrespect any religion or culture. All answers appreciated! :)</td>\n",
       "      <td>NaN</td>\n",
       "      <td>1654727877</td>\n",
       "      <td>v81ykc</td>\n",
       "    </tr>\n",
       "    <tr>\n",
       "      <th>1170</th>\n",
       "      <td>Hopeful_Hour6270</td>\n",
       "      <td>Buddhism</td>\n",
       "      <td>Anger</td>\n",
       "      <td>How to deal with anger?</td>\n",
       "      <td>1654273855</td>\n",
       "      <td>v438sb</td>\n",
       "    </tr>\n",
       "    <tr>\n",
       "      <th>1171</th>\n",
       "      <td>SimonYap</td>\n",
       "      <td>Buddhism</td>\n",
       "      <td>There are 11 levels of practitioners in Buddhism and Christianity.</td>\n",
       "      <td>[removed]</td>\n",
       "      <td>1654273386</td>\n",
       "      <td>v432ne</td>\n",
       "    </tr>\n",
       "    <tr>\n",
       "      <th>1277</th>\n",
       "      <td>SimonYap</td>\n",
       "      <td>Buddhism</td>\n",
       "      <td>There are 11 levels of concentrations.</td>\n",
       "      <td>[removed]</td>\n",
       "      <td>1654120926</td>\n",
       "      <td>v2srbz</td>\n",
       "    </tr>\n",
       "  </tbody>\n",
       "</table>\n",
       "</div>"
      ],
      "text/plain": [
       "                  author subreddit  \\\n",
       "76       greattibettour2  Buddhism   \n",
       "878   lilquestionaccount  Buddhism   \n",
       "1170    Hopeful_Hour6270  Buddhism   \n",
       "1171            SimonYap  Buddhism   \n",
       "1277            SimonYap  Buddhism   \n",
       "\n",
       "                                                                                                                                                                                                                                            title  \\\n",
       "76                                                                                                                                                                                                  Tsurphu Monastery - Where Reincarnation Began   \n",
       "878   I hope this is not insensitive, I was looking at christian audigier jeans and was wondering if the design on these might fall under cultural appropriation? I don’t want to disrespect any religion or culture. All answers appreciated! :)   \n",
       "1170                                                                                                                                                                                                                                        Anger   \n",
       "1171                                                                                                                                                                           There are 11 levels of practitioners in Buddhism and Christianity.   \n",
       "1277                                                                                                                                                                                                       There are 11 levels of concentrations.   \n",
       "\n",
       "                     selftext  created_utc      id  \n",
       "76                        NaN   1655863793  vhtuth  \n",
       "878                       NaN   1654727877  v81ykc  \n",
       "1170  How to deal with anger?   1654273855  v438sb  \n",
       "1171                [removed]   1654273386  v432ne  \n",
       "1277                [removed]   1654120926  v2srbz  "
      ]
     },
     "execution_count": 84,
     "metadata": {},
     "output_type": "execute_result"
    }
   ],
   "source": [
    "# examine first 5 duplicate rows for r/Buddhism\n",
    "df2[df2['title'].duplicated(keep='first')].head()"
   ]
  },
  {
   "cell_type": "code",
   "execution_count": 85,
   "id": "5b617282-c025-43b8-a1a0-e2f1007d77f0",
   "metadata": {},
   "outputs": [
    {
     "data": {
      "text/plain": [
       "(11, 6)"
      ]
     },
     "execution_count": 85,
     "metadata": {},
     "output_type": "execute_result"
    }
   ],
   "source": [
    "# examine duplicate rows where selftext = title for r/Stoicism\n",
    "df1[df1.duplicated(['title', 'selftext'], keep=False)].shape"
   ]
  },
  {
   "cell_type": "code",
   "execution_count": 86,
   "id": "ba1967c5-361a-46af-a162-f01d9d488a89",
   "metadata": {},
   "outputs": [
    {
     "data": {
      "text/plain": [
       "(41, 6)"
      ]
     },
     "execution_count": 86,
     "metadata": {},
     "output_type": "execute_result"
    }
   ],
   "source": [
    "# examine duplicate rows where selftext = title for r/Buddhism\n",
    "df2[df2.duplicated(['title', 'selftext'], keep=False)].shape"
   ]
  },
  {
   "cell_type": "markdown",
   "id": "3dd2a07b-4a9d-44ab-9b0e-e1ffcd5d6bfe",
   "metadata": {},
   "source": [
    "After dropping duplicates rows where `author` and `title` are the same, 98 and 72 duplicated post are still observed in both subreddit. Even though it is likely for posts to have the same title, for example, multiple people asking the same question, it seems that some of the duplicated rows seen in both subreddit are personalized (in the sense that the questions being asked or experience being shared are unique to individuals.) and the chance of having duplicated title is questionable. This suggests that a person or a bot may have created multiple accounts asking the same question in the `title`. These rows will not be dropped and is assumed they are posted by unique indivudials and may provide insights to common topics. Further exploration could be done to examine the details of duplicates between `title`, `selftext` and `author`."
   ]
  },
  {
   "cell_type": "markdown",
   "id": "c604d80b-7045-4a32-a5ff-30b0a80c1166",
   "metadata": {},
   "source": [
    "### Examine and clean `selftext` column"
   ]
  },
  {
   "cell_type": "markdown",
   "id": "20051962-b3ff-4712-85b1-f995870ee4ad",
   "metadata": {},
   "source": [
    "Re-examine for duplicate or missing columns"
   ]
  },
  {
   "cell_type": "code",
   "execution_count": 87,
   "id": "3657aa88-df00-4bcd-81c6-c2e93539eb69",
   "metadata": {},
   "outputs": [
    {
     "data": {
      "text/plain": [
       "author           0\n",
       "subreddit        0\n",
       "title            0\n",
       "selftext       783\n",
       "created_utc      0\n",
       "id               0\n",
       "dtype: int64"
      ]
     },
     "execution_count": 87,
     "metadata": {},
     "output_type": "execute_result"
    }
   ],
   "source": [
    "# check for null values\n",
    "df1.isnull().sum()"
   ]
  },
  {
   "cell_type": "code",
   "execution_count": 88,
   "id": "158de4a9-1dca-4ca5-abb0-1ddb65ef8811",
   "metadata": {},
   "outputs": [
    {
     "data": {
      "text/plain": [
       "author         3876\n",
       "subreddit      9816\n",
       "title            98\n",
       "selftext       1161\n",
       "created_utc       3\n",
       "id                0\n",
       "dtype: int64"
      ]
     },
     "execution_count": 88,
     "metadata": {},
     "output_type": "execute_result"
    }
   ],
   "source": [
    "# check for duplicate values\n",
    "df1.apply(lambda x:sum(x.duplicated()))"
   ]
  },
  {
   "cell_type": "code",
   "execution_count": 89,
   "id": "9836f7c7-1d53-4510-abf3-f4c9700eca35",
   "metadata": {},
   "outputs": [
    {
     "data": {
      "text/plain": [
       "author            0\n",
       "subreddit         0\n",
       "title             0\n",
       "selftext       3408\n",
       "created_utc       0\n",
       "id                0\n",
       "dtype: int64"
      ]
     },
     "execution_count": 89,
     "metadata": {},
     "output_type": "execute_result"
    }
   ],
   "source": [
    "df2.isnull().sum()"
   ]
  },
  {
   "cell_type": "code",
   "execution_count": 90,
   "id": "caaf8e02-6dcd-49a5-a8cc-c9221e021932",
   "metadata": {},
   "outputs": [
    {
     "data": {
      "text/plain": [
       "author         5347\n",
       "subreddit      9797\n",
       "title            72\n",
       "selftext       4423\n",
       "created_utc       1\n",
       "id                0\n",
       "dtype: int64"
      ]
     },
     "execution_count": 90,
     "metadata": {},
     "output_type": "execute_result"
    }
   ],
   "source": [
    "df2.apply(lambda x:sum(x.duplicated()))"
   ]
  },
  {
   "cell_type": "markdown",
   "id": "d2a4f9d9-771f-4176-83a0-610dadd7727b",
   "metadata": {},
   "source": [
    "Much more duplicates and null values are observed in `selftext`, we will examine more below\n",
    "* 783 null values and 1161 duplicated columns are seen in the `selftext` column of r/Stocism\n",
    "* 3408 null values and 4423 duplicated columns are seen in the `selftext` column of r/Buddism"
   ]
  },
  {
   "cell_type": "code",
   "execution_count": 91,
   "id": "79e9257d-9b59-43cc-9dda-76bdc65772cb",
   "metadata": {},
   "outputs": [],
   "source": [
    "# examine duplicate columns\n",
    "dup_rows = pd.concat(x for _, x in df1.groupby(\"selftext\") if len(x) > 1)"
   ]
  },
  {
   "cell_type": "code",
   "execution_count": 92,
   "id": "c98341e8-0fc1-48da-9f7a-14b5052196e2",
   "metadata": {},
   "outputs": [
    {
     "name": "stdout",
     "output_type": "stream",
     "text": [
      "(417, 6)\n"
     ]
    }
   ],
   "source": [
    "print(dup_rows.shape)"
   ]
  },
  {
   "cell_type": "code",
   "execution_count": 93,
   "id": "345e5492-b0bd-49f8-bf41-d35ddc84bd84",
   "metadata": {},
   "outputs": [
    {
     "data": {
      "text/html": [
       "<div>\n",
       "<style scoped>\n",
       "    .dataframe tbody tr th:only-of-type {\n",
       "        vertical-align: middle;\n",
       "    }\n",
       "\n",
       "    .dataframe tbody tr th {\n",
       "        vertical-align: top;\n",
       "    }\n",
       "\n",
       "    .dataframe thead th {\n",
       "        text-align: right;\n",
       "    }\n",
       "</style>\n",
       "<table border=\"1\" class=\"dataframe\">\n",
       "  <thead>\n",
       "    <tr style=\"text-align: right;\">\n",
       "      <th></th>\n",
       "      <th>author</th>\n",
       "      <th>subreddit</th>\n",
       "      <th>title</th>\n",
       "      <th>selftext</th>\n",
       "      <th>created_utc</th>\n",
       "      <th>id</th>\n",
       "    </tr>\n",
       "  </thead>\n",
       "  <tbody>\n",
       "    <tr>\n",
       "      <th>86</th>\n",
       "      <td>LawAgitated913</td>\n",
       "      <td>Stoicism</td>\n",
       "      <td>We don’t have power over our emotions but we do have power over how we respond to them.</td>\n",
       "      <td>\\nThe response is quick and of the nature of identification with the thought however observation is what works with regards to emotions. Mindfulness is required to sort the difference between the two. \\n\\nStoic principles and theory is great however I’ve found it most benefitial when I have power over my emotions. It turns out we don’t have power over out emotions but we do have power over how we respond to them. Either by identification or by observation. \\n\\nI’ve linked an ebook by a writer mark Manson.\\n\\nThe first idea in the book is about emotions and how to deal with them. It takes on the Buddhist perspective of observing the mind. \\n\\nI don’t know if stoicism advocates something similar, I haven’t come across anything like this in stoicism.\\n\\nWhen we are clear headed it’s easier to take note of things within and outside our power , making it easier to practice DOC</td>\n",
       "      <td>1655626582</td>\n",
       "      <td>vfqho7</td>\n",
       "    </tr>\n",
       "    <tr>\n",
       "      <th>87</th>\n",
       "      <td>Itshardtofindanametf</td>\n",
       "      <td>Stoicism</td>\n",
       "      <td>We don’t have power over our emotions but we do have power over how we respond to them.</td>\n",
       "      <td>\\nThe response is quick and of the nature of identification with the thought however observation is what works with regards to emotions. Mindfulness is required to sort the difference between the two. \\n\\nStoic principles and theory is great however I’ve found it most benefitial when I have power over my emotions. It turns out we don’t have power over out emotions but we do have power over how we respond to them. Either by identification or by observation. \\n\\nI’ve linked an ebook by a writer mark Manson.\\n\\nThe first idea in the book is about emotions and how to deal with them. It takes on the Buddhist perspective of observing the mind. \\n\\nI don’t know if stoicism advocates something similar, I haven’t come across anything like this in stoicism.\\n\\nWhen we are clear headed it’s easier to take note of things within and outside our power , making it easier to practice DOC</td>\n",
       "      <td>1655620887</td>\n",
       "      <td>vfp5xz</td>\n",
       "    </tr>\n",
       "    <tr>\n",
       "      <th>9221</th>\n",
       "      <td>akareil</td>\n",
       "      <td>Stoicism</td>\n",
       "      <td>Spotted this on YSK sub and felt it belonged here. It may help with the perspective of thinking that Stoicism is about not feeling anything as compared to how we react to those feelings.</td>\n",
       "      <td>[**r/YouShouldKnow**](https://www.reddit.com/r/YouShouldKnow/)•Posted by[u/phenols](https://www.reddit.com/user/phenols/) [12 hours ago](https://www.reddit.com/r/YouShouldKnow/comments/nwxj4t/ysk_emotions_are_in_instinctive_and_based_on_our/)\\n\\n# YSK: Emotions are in instinctive and based on our prior experience. By reacting to them, we reinforce our past; yet by responding to situations, we take control of our future.\\n\\n📷[**Other**](https://www.reddit.com/r/YouShouldKnow/search?q=flair_name%3A%22Other%22&amp;amp;restrict_sr=1)\\n\\nWhy YSK: Emotions are instinct responses to everything around us and are rooted in our past experiences, even from early childhood. They are not true or false, but simply are.\\n\\nWhen we encounter an emotion and react to it, we reinforce the prior programming from the past. However, by learning to acknowledge why we feel this way about a given thing, we can take a moment to choose how we want to respond to the situation, not the emotion, thus taking control of our future.\\n\\nA tip is to allow yourself to experience the emotion and how you feel physiologically during it. This will help you to stay level headed, acknowledge it, and not react.</td>\n",
       "      <td>1623400665</td>\n",
       "      <td>nxb3cf</td>\n",
       "    </tr>\n",
       "    <tr>\n",
       "      <th>9222</th>\n",
       "      <td>akareil</td>\n",
       "      <td>Stoicism</td>\n",
       "      <td>Spotted this on YSK sub and felt it belonged here. It may with the perspective of thinking that Stoicism is about not feeling anything as compared to how we react to those feelings.</td>\n",
       "      <td>[**r/YouShouldKnow**](https://www.reddit.com/r/YouShouldKnow/)•Posted by[u/phenols](https://www.reddit.com/user/phenols/) [12 hours ago](https://www.reddit.com/r/YouShouldKnow/comments/nwxj4t/ysk_emotions_are_in_instinctive_and_based_on_our/)\\n\\n# YSK: Emotions are in instinctive and based on our prior experience. By reacting to them, we reinforce our past; yet by responding to situations, we take control of our future.\\n\\n📷[**Other**](https://www.reddit.com/r/YouShouldKnow/search?q=flair_name%3A%22Other%22&amp;amp;restrict_sr=1)\\n\\nWhy YSK: Emotions are instinct responses to everything around us and are rooted in our past experiences, even from early childhood. They are not true or false, but simply are.\\n\\nWhen we encounter an emotion and react to it, we reinforce the prior programming from the past. However, by learning to acknowledge why we feel this way about a given thing, we can take a moment to choose how we want to respond to the situation, not the emotion, thus taking control of our future.\\n\\nA tip is to allow yourself to experience the emotion and how you feel physiologically during it. This will help you to stay level headed, acknowledge it, and not react.</td>\n",
       "      <td>1623400580</td>\n",
       "      <td>nxb2n8</td>\n",
       "    </tr>\n",
       "    <tr>\n",
       "      <th>996</th>\n",
       "      <td>yashmehtaym</td>\n",
       "      <td>Stoicism</td>\n",
       "      <td>Stoicisim tells you to exercise and take care of your body more?</td>\n",
       "      <td>\"It is a mark of want of genius to spend much time in things relating to the body, as to be long in our exercises, in eating and drinking, and in the discharge of other animal functions. These should be done incidentally and slightly, and our whole attention be engaged in the care of the understanding.\" = Verse 41, The Enchiridion by Epictetus.\\n\\nI have trouble understanding archaic english. Does he mean that spending time related to the body is foolish and these people want to become genuiuses but are not. Also, what is he referring to when he says, \"care of the understanding\". Is he saying we should do minimal bodily functions for the care of understanding our body?\\n\\nPS: Unrelated to this post but does me pointing out i have trouble with something (in this case: archaic english) anti-stoic? Should I not mention my weaknesses to anyone?</td>\n",
       "      <td>1651821190</td>\n",
       "      <td>ujhtsk</td>\n",
       "    </tr>\n",
       "    <tr>\n",
       "      <th>1000</th>\n",
       "      <td>yashmehtaym</td>\n",
       "      <td>Stoicism</td>\n",
       "      <td>Meaning of this verse</td>\n",
       "      <td>\"It is a mark of want of genius to spend much time in things relating to the body, as to be long in our exercises, in eating and drinking, and in the discharge of other animal functions. These should be done incidentally and slightly, and our whole attention be engaged in the care of the understanding.\" = Verse 41, The Enchiridion by Epictetus.\\n\\nI have trouble understanding archaic english. Does he mean that spending time related to the body is foolish and these people want to become genuiuses but are not. Also, what is he referring to when he says, \"care of the understanding\". Is he saying we should do minimal bodily functions for the care of understanding our body?\\n\\nPS: Unrelated to this post but does me pointing out i have trouble with something (in this case: archaic english) anti-stoic? Should I not mention my weaknesses to anyone?</td>\n",
       "      <td>1651811397</td>\n",
       "      <td>ujfghw</td>\n",
       "    </tr>\n",
       "    <tr>\n",
       "      <th>332</th>\n",
       "      <td>Feisty-Isopod1409</td>\n",
       "      <td>Stoicism</td>\n",
       "      <td>Hypothetically, if you were hated by literally everyone on earth, do you think as a stoic you could survive?</td>\n",
       "      <td>.</td>\n",
       "      <td>1654549377</td>\n",
       "      <td>v6dlnj</td>\n",
       "    </tr>\n",
       "    <tr>\n",
       "      <th>561</th>\n",
       "      <td>Feisty-Isopod1409</td>\n",
       "      <td>Stoicism</td>\n",
       "      <td>I have hypersensitivity to noise and I've been recommended stoicism. Anyone else found it helped with this?</td>\n",
       "      <td>.</td>\n",
       "      <td>1653516877</td>\n",
       "      <td>uxslg9</td>\n",
       "    </tr>\n",
       "    <tr>\n",
       "      <th>827</th>\n",
       "      <td>AnxiousTask1147</td>\n",
       "      <td>Stoicism</td>\n",
       "      <td>how to deal with unfairness</td>\n",
       "      <td>.</td>\n",
       "      <td>1652504281</td>\n",
       "      <td>up9vx1</td>\n",
       "    </tr>\n",
       "    <tr>\n",
       "      <th>1157</th>\n",
       "      <td>Asclep1u5</td>\n",
       "      <td>Stoicism</td>\n",
       "      <td>People of r/stoicism what was the greatest lesson you learned studying stoicism ?</td>\n",
       "      <td>.</td>\n",
       "      <td>1651212743</td>\n",
       "      <td>uefhhj</td>\n",
       "    </tr>\n",
       "    <tr>\n",
       "      <th>1735</th>\n",
       "      <td>Stunnakidd</td>\n",
       "      <td>Stoicism</td>\n",
       "      <td>Would getting amor fati tattooed after the death of my father be inconsiderate</td>\n",
       "      <td>.</td>\n",
       "      <td>1648941405</td>\n",
       "      <td>tuw3n5</td>\n",
       "    </tr>\n",
       "    <tr>\n",
       "      <th>1736</th>\n",
       "      <td>Stunnakidd</td>\n",
       "      <td>Stoicism</td>\n",
       "      <td>Would getting amor fati tattooed for my dead father be inconsiderate?</td>\n",
       "      <td>.</td>\n",
       "      <td>1648941055</td>\n",
       "      <td>tuvz9e</td>\n",
       "    </tr>\n",
       "    <tr>\n",
       "      <th>2876</th>\n",
       "      <td>ihavetounderstand</td>\n",
       "      <td>Stoicism</td>\n",
       "      <td>What would the modern day Seneca look like? How and on what would he spend his time?</td>\n",
       "      <td>.</td>\n",
       "      <td>1644039891</td>\n",
       "      <td>skzgrh</td>\n",
       "    </tr>\n",
       "    <tr>\n",
       "      <th>3001</th>\n",
       "      <td>Leader_golden</td>\n",
       "      <td>Stoicism</td>\n",
       "      <td>How do I deal with being ignored alot in work by other colleagues?</td>\n",
       "      <td>.</td>\n",
       "      <td>1643640635</td>\n",
       "      <td>sh2ytr</td>\n",
       "    </tr>\n",
       "    <tr>\n",
       "      <th>3181</th>\n",
       "      <td>clonzana</td>\n",
       "      <td>Stoicism</td>\n",
       "      <td>Why should one wish for things to happen they way that they do, rather than the way that they’d like?</td>\n",
       "      <td>.</td>\n",
       "      <td>1642963116</td>\n",
       "      <td>sb0g8w</td>\n",
       "    </tr>\n",
       "  </tbody>\n",
       "</table>\n",
       "</div>"
      ],
      "text/plain": [
       "                    author subreddit  \\\n",
       "86          LawAgitated913  Stoicism   \n",
       "87    Itshardtofindanametf  Stoicism   \n",
       "9221               akareil  Stoicism   \n",
       "9222               akareil  Stoicism   \n",
       "996            yashmehtaym  Stoicism   \n",
       "1000           yashmehtaym  Stoicism   \n",
       "332      Feisty-Isopod1409  Stoicism   \n",
       "561      Feisty-Isopod1409  Stoicism   \n",
       "827        AnxiousTask1147  Stoicism   \n",
       "1157             Asclep1u5  Stoicism   \n",
       "1735            Stunnakidd  Stoicism   \n",
       "1736            Stunnakidd  Stoicism   \n",
       "2876     ihavetounderstand  Stoicism   \n",
       "3001         Leader_golden  Stoicism   \n",
       "3181              clonzana  Stoicism   \n",
       "\n",
       "                                                                                                                                                                                           title  \\\n",
       "86                                                                                                       We don’t have power over our emotions but we do have power over how we respond to them.   \n",
       "87                                                                                                       We don’t have power over our emotions but we do have power over how we respond to them.   \n",
       "9221  Spotted this on YSK sub and felt it belonged here. It may help with the perspective of thinking that Stoicism is about not feeling anything as compared to how we react to those feelings.   \n",
       "9222       Spotted this on YSK sub and felt it belonged here. It may with the perspective of thinking that Stoicism is about not feeling anything as compared to how we react to those feelings.   \n",
       "996                                                                                                                             Stoicisim tells you to exercise and take care of your body more?   \n",
       "1000                                                                                                                                                                       Meaning of this verse   \n",
       "332                                                                                 Hypothetically, if you were hated by literally everyone on earth, do you think as a stoic you could survive?   \n",
       "561                                                                                  I have hypersensitivity to noise and I've been recommended stoicism. Anyone else found it helped with this?   \n",
       "827                                                                                                                                                                  how to deal with unfairness   \n",
       "1157                                                                                                           People of r/stoicism what was the greatest lesson you learned studying stoicism ?   \n",
       "1735                                                                                                              Would getting amor fati tattooed after the death of my father be inconsiderate   \n",
       "1736                                                                                                                       Would getting amor fati tattooed for my dead father be inconsiderate?   \n",
       "2876                                                                                                        What would the modern day Seneca look like? How and on what would he spend his time?   \n",
       "3001                                                                                                                          How do I deal with being ignored alot in work by other colleagues?   \n",
       "3181                                                                                       Why should one wish for things to happen they way that they do, rather than the way that they’d like?   \n",
       "\n",
       "                                                                                                                                                                                                                                                                                                                                                                                                                                                                                                                                                                                                                                                                                                                                                                                                                                                                                                                                                                                                                                                                                                                                                                                                                              selftext  \\\n",
       "86                                                                                                                                                                                                                                                                                                                \\nThe response is quick and of the nature of identification with the thought however observation is what works with regards to emotions. Mindfulness is required to sort the difference between the two. \\n\\nStoic principles and theory is great however I’ve found it most benefitial when I have power over my emotions. It turns out we don’t have power over out emotions but we do have power over how we respond to them. Either by identification or by observation. \\n\\nI’ve linked an ebook by a writer mark Manson.\\n\\nThe first idea in the book is about emotions and how to deal with them. It takes on the Buddhist perspective of observing the mind. \\n\\nI don’t know if stoicism advocates something similar, I haven’t come across anything like this in stoicism.\\n\\nWhen we are clear headed it’s easier to take note of things within and outside our power , making it easier to practice DOC   \n",
       "87                                                                                                                                                                                                                                                                                                                \\nThe response is quick and of the nature of identification with the thought however observation is what works with regards to emotions. Mindfulness is required to sort the difference between the two. \\n\\nStoic principles and theory is great however I’ve found it most benefitial when I have power over my emotions. It turns out we don’t have power over out emotions but we do have power over how we respond to them. Either by identification or by observation. \\n\\nI’ve linked an ebook by a writer mark Manson.\\n\\nThe first idea in the book is about emotions and how to deal with them. It takes on the Buddhist perspective of observing the mind. \\n\\nI don’t know if stoicism advocates something similar, I haven’t come across anything like this in stoicism.\\n\\nWhen we are clear headed it’s easier to take note of things within and outside our power , making it easier to practice DOC   \n",
       "9221   [**r/YouShouldKnow**](https://www.reddit.com/r/YouShouldKnow/)•Posted by[u/phenols](https://www.reddit.com/user/phenols/) [12 hours ago](https://www.reddit.com/r/YouShouldKnow/comments/nwxj4t/ysk_emotions_are_in_instinctive_and_based_on_our/)\\n\\n# YSK: Emotions are in instinctive and based on our prior experience. By reacting to them, we reinforce our past; yet by responding to situations, we take control of our future.\\n\\n📷[**Other**](https://www.reddit.com/r/YouShouldKnow/search?q=flair_name%3A%22Other%22&amp;restrict_sr=1)\\n\\nWhy YSK: Emotions are instinct responses to everything around us and are rooted in our past experiences, even from early childhood. They are not true or false, but simply are.\\n\\nWhen we encounter an emotion and react to it, we reinforce the prior programming from the past. However, by learning to acknowledge why we feel this way about a given thing, we can take a moment to choose how we want to respond to the situation, not the emotion, thus taking control of our future.\\n\\nA tip is to allow yourself to experience the emotion and how you feel physiologically during it. This will help you to stay level headed, acknowledge it, and not react.   \n",
       "9222   [**r/YouShouldKnow**](https://www.reddit.com/r/YouShouldKnow/)•Posted by[u/phenols](https://www.reddit.com/user/phenols/) [12 hours ago](https://www.reddit.com/r/YouShouldKnow/comments/nwxj4t/ysk_emotions_are_in_instinctive_and_based_on_our/)\\n\\n# YSK: Emotions are in instinctive and based on our prior experience. By reacting to them, we reinforce our past; yet by responding to situations, we take control of our future.\\n\\n📷[**Other**](https://www.reddit.com/r/YouShouldKnow/search?q=flair_name%3A%22Other%22&amp;restrict_sr=1)\\n\\nWhy YSK: Emotions are instinct responses to everything around us and are rooted in our past experiences, even from early childhood. They are not true or false, but simply are.\\n\\nWhen we encounter an emotion and react to it, we reinforce the prior programming from the past. However, by learning to acknowledge why we feel this way about a given thing, we can take a moment to choose how we want to respond to the situation, not the emotion, thus taking control of our future.\\n\\nA tip is to allow yourself to experience the emotion and how you feel physiologically during it. This will help you to stay level headed, acknowledge it, and not react.   \n",
       "996                                                                                                                                                                                                                                                                                                                                               \"It is a mark of want of genius to spend much time in things relating to the body, as to be long in our exercises, in eating and drinking, and in the discharge of other animal functions. These should be done incidentally and slightly, and our whole attention be engaged in the care of the understanding.\" = Verse 41, The Enchiridion by Epictetus.\\n\\nI have trouble understanding archaic english. Does he mean that spending time related to the body is foolish and these people want to become genuiuses but are not. Also, what is he referring to when he says, \"care of the understanding\". Is he saying we should do minimal bodily functions for the care of understanding our body?\\n\\nPS: Unrelated to this post but does me pointing out i have trouble with something (in this case: archaic english) anti-stoic? Should I not mention my weaknesses to anyone?   \n",
       "1000                                                                                                                                                                                                                                                                                                                                              \"It is a mark of want of genius to spend much time in things relating to the body, as to be long in our exercises, in eating and drinking, and in the discharge of other animal functions. These should be done incidentally and slightly, and our whole attention be engaged in the care of the understanding.\" = Verse 41, The Enchiridion by Epictetus.\\n\\nI have trouble understanding archaic english. Does he mean that spending time related to the body is foolish and these people want to become genuiuses but are not. Also, what is he referring to when he says, \"care of the understanding\". Is he saying we should do minimal bodily functions for the care of understanding our body?\\n\\nPS: Unrelated to this post but does me pointing out i have trouble with something (in this case: archaic english) anti-stoic? Should I not mention my weaknesses to anyone?   \n",
       "332                                                                                                                                                                                                                                                                                                                                                                                                                                                                                                                                                                                                                                                                                                                                                                                                                                                                                                                                                                                                                                                                                                                                                                                                                                  .   \n",
       "561                                                                                                                                                                                                                                                                                                                                                                                                                                                                                                                                                                                                                                                                                                                                                                                                                                                                                                                                                                                                                                                                                                                                                                                                                                  .   \n",
       "827                                                                                                                                                                                                                                                                                                                                                                                                                                                                                                                                                                                                                                                                                                                                                                                                                                                                                                                                                                                                                                                                                                                                                                                                                                  .   \n",
       "1157                                                                                                                                                                                                                                                                                                                                                                                                                                                                                                                                                                                                                                                                                                                                                                                                                                                                                                                                                                                                                                                                                                                                                                                                                                 .   \n",
       "1735                                                                                                                                                                                                                                                                                                                                                                                                                                                                                                                                                                                                                                                                                                                                                                                                                                                                                                                                                                                                                                                                                                                                                                                                                                 .   \n",
       "1736                                                                                                                                                                                                                                                                                                                                                                                                                                                                                                                                                                                                                                                                                                                                                                                                                                                                                                                                                                                                                                                                                                                                                                                                                                 .   \n",
       "2876                                                                                                                                                                                                                                                                                                                                                                                                                                                                                                                                                                                                                                                                                                                                                                                                                                                                                                                                                                                                                                                                                                                                                                                                                                 .   \n",
       "3001                                                                                                                                                                                                                                                                                                                                                                                                                                                                                                                                                                                                                                                                                                                                                                                                                                                                                                                                                                                                                                                                                                                                                                                                                                 .   \n",
       "3181                                                                                                                                                                                                                                                                                                                                                                                                                                                                                                                                                                                                                                                                                                                                                                                                                                                                                                                                                                                                                                                                                                                                                                                                                                 .   \n",
       "\n",
       "      created_utc      id  \n",
       "86     1655626582  vfqho7  \n",
       "87     1655620887  vfp5xz  \n",
       "9221   1623400665  nxb3cf  \n",
       "9222   1623400580  nxb2n8  \n",
       "996    1651821190  ujhtsk  \n",
       "1000   1651811397  ujfghw  \n",
       "332    1654549377  v6dlnj  \n",
       "561    1653516877  uxslg9  \n",
       "827    1652504281  up9vx1  \n",
       "1157   1651212743  uefhhj  \n",
       "1735   1648941405  tuw3n5  \n",
       "1736   1648941055  tuvz9e  \n",
       "2876   1644039891  skzgrh  \n",
       "3001   1643640635  sh2ytr  \n",
       "3181   1642963116  sb0g8w  "
      ]
     },
     "execution_count": 93,
     "metadata": {},
     "output_type": "execute_result"
    }
   ],
   "source": [
    "# examine random 15 rows\n",
    "dup_rows.iloc[0:15, :]"
   ]
  },
  {
   "cell_type": "code",
   "execution_count": 94,
   "id": "832414f9-c696-4d30-b504-b03ddf0b9a27",
   "metadata": {
    "scrolled": true,
    "tags": []
   },
   "outputs": [
    {
     "data": {
      "text/html": [
       "<div>\n",
       "<style scoped>\n",
       "    .dataframe tbody tr th:only-of-type {\n",
       "        vertical-align: middle;\n",
       "    }\n",
       "\n",
       "    .dataframe tbody tr th {\n",
       "        vertical-align: top;\n",
       "    }\n",
       "\n",
       "    .dataframe thead th {\n",
       "        text-align: right;\n",
       "    }\n",
       "</style>\n",
       "<table border=\"1\" class=\"dataframe\">\n",
       "  <thead>\n",
       "    <tr style=\"text-align: right;\">\n",
       "      <th></th>\n",
       "      <th>author</th>\n",
       "      <th>subreddit</th>\n",
       "      <th>title</th>\n",
       "      <th>selftext</th>\n",
       "      <th>created_utc</th>\n",
       "      <th>id</th>\n",
       "    </tr>\n",
       "  </thead>\n",
       "  <tbody>\n",
       "    <tr>\n",
       "      <th>8529</th>\n",
       "      <td>Samuelhoffmann</td>\n",
       "      <td>Stoicism</td>\n",
       "      <td>\"We shouldn't control anger, but destroy it entirely. For what control is there for a rbijr that's fundamentally wicked? - Seneca</td>\n",
       "      <td>I don't exactly agree with Seneca here. \\n\\nWe shouldn't avoid anger. That isn't even possible. Emotjond are natural and inevitable. \\n\\nHowever we have it in our power to not act according to emotion yes, that's very difficult, because we've been doing it all our lives. But if we can discipline ourselves to recognise our emotions and reason with corresponding impressions in order to calm down, that's the way to go. We musnt let emotions control us. \\n\\nWhether Seneca meant this or not, this is how I consider it. While we cannot avoid emotions we must try to cease or reduce acting in anger. Acting according to negative emotion has its negative outcomes. Acting in anger, for instance, can lead to immoral, unpredictable or  violent behaviour. It can hurt relationships and its a bad habit.</td>\n",
       "      <td>1625537683</td>\n",
       "      <td>oelm8c</td>\n",
       "    </tr>\n",
       "    <tr>\n",
       "      <th>2634</th>\n",
       "      <td>RedDragonCast</td>\n",
       "      <td>Stoicism</td>\n",
       "      <td>Stoicism helped me truly open my eyes to the world around me</td>\n",
       "      <td>I was a pretty intensely political Twitter user at one point, with nearly 10k followers. I was greatly invested in left wing politics, as is evident from my avatar. I subscribed to modern Communist ideology, and thought I was part of a great movement. I was talking regularly to admirable journalists and I even had Peter Joseph of Zeitgeist fame give me a few tips and kind words on my own documentary I was making. \\n\\nBut then one day I was deplatformed for my views, with mass reports getting me branded as an antisemite for pushing pro Palestinian posts, and also as a right winger for mostly going after Labour and the Democrats (which I had explained was because the left should know better and the right just won't share my views). This was not only something that affected my Twitter, but even my entirely apolitical Facebook and Instagram accounts were taken offline too. \\n\\nSo I was devastated, as my entire life became revolved around politics and so I lost contact with many interesting and decent people. I had stupidly never agreed to chat off of the social media platforms themselves so was never able to contact them again as every time I went to make a new profile, it would get banned very quickly before I've even done anything remotely controversial. This happened on all 3 sites. \\n\\nThen one day I was listening to a Derren Brown audiobook called Happy, and he was constantly recommending Stoicism. I was very interested in this school of thought straight away and started watching Daily Stoic videos. I immediately got myself a copy of Meditations, and then worked my way into Seneca and Epictetus. I was absolutely mesmerised by the quality of the writing and how entirely relevant the majority of it was to today. \\n\\nThrough this experience, one quote from Marcus Aurelius particularly stood out to me...\\n\\n&amp;gt;The object of life is not to be on the side of the majority, but to escape finding oneself in the ranks of the insane.\\n\\nI realised that following these political ideologies so heavily was doing untold damage to my already fragile mental health, and now that I've stepped back I've realised that all political ideologies are flawed. Stoicism has helped me see that I don't have to join a political party just because some of their views reflect my own. I'd still be somewhat powerless to change things on a grand scale. \\n\\nSo instead, I've not only helped improve my mind with more reading and my health with the gym and a better diet, but I've also invested myself in my community, helping in homeless shelters, offering house help to the elderly, things like that.  It makes me feel productive in my free time, and it also makes me feel good to know I'm helping others instead of spending my days debating endlessly with faceless ideologues. \\n\\nThis is why to me the left/right thing is as meaningless as the Labour/Tory or Democrat/Republican label. The true thinkers and visionaries with nuanced progressive and achievable goals seem to follow no sp...</td>\n",
       "      <td>1644958713</td>\n",
       "      <td>std68o</td>\n",
       "    </tr>\n",
       "    <tr>\n",
       "      <th>2635</th>\n",
       "      <td>RedDragonCast</td>\n",
       "      <td>Stoicism</td>\n",
       "      <td>Stoicism opened my eyes to the world around meadow</td>\n",
       "      <td>I was a pretty intensely political Twitter user at one point, with nearly 10k followers. I was greatly invested in left wing politics, as is evident from my avatar. I subscribed to modern Communist ideology, and thought I was part of a great movement. I was talking regularly to admirable journalists and I even had Peter Joseph of Zeitgeist fame give me a few tips and kind words on my own documentary I was making. \\n\\nBut then one day I was deplatformed for my views, with mass reports getting me branded as an antisemite for pushing pro Palestinian posts, and also as a right winger for mostly going after Labour and the Democrats (which I had explained was because the left should know better and the right just won't share my views). This was not only something that affected my Twitter, but even my entirely apolitical Facebook and Instagram accounts were taken offline too. \\n\\nSo I was devastated, as my entire life became revolved around politics and so I lost contact with many interesting and decent people. I had stupidly never agreed to chat off of the social media platforms themselves so was never able to contact them again as every time I went to make a new profile, it would get banned very quickly before I've even done anything remotely controversial. This happened on all 3 sites. \\n\\nThen one day I was listening to a Derren Brown audiobook called Happy, and he was constantly recommending Stoicism. I was very interested in this school of thought straight away and started watching Daily Stoic videos. I immediately got myself a copy of Meditations, and then worked my way into Seneca and Epictetus. I was absolutely mesmerised by the quality of the writing and how entirely relevant the majority of it was to today. \\n\\nThrough this experience, one quote from Marcus Aurelius particularly stood out to me...\\n\\n&amp;gt;The object of life is not to be on the side of the majority, but to escape finding oneself in the ranks of the insane.\\n\\nI realised that following these political ideologies so heavily was doing untold damage to my already fragile mental health, and now that I've stepped back I've realised that all political ideologies are flawed. Stoicism has helped me see that I don't have to join a political party just because some of their views reflect my own. I'd still be somewhat powerless to change things on a grand scale. \\n\\nSo instead, I've not only helped improve my mind with more reading and my health with the gym and a better diet, but I've also invested myself in my community, helping in homeless shelters, offering house help to the elderly, things like that.  It makes me feel productive in my free time, and it also makes me feel good to know I'm helping others instead of spending my days debating endlessly with faceless ideologues. \\n\\nThis is why to me the left/right thing is as meaningless as the Labour/Tory or Democrat/Republican label. The true thinkers and visionaries with nuanced progressive and achievable goals seem to follow no sp...</td>\n",
       "      <td>1644958592</td>\n",
       "      <td>std4lk</td>\n",
       "    </tr>\n",
       "    <tr>\n",
       "      <th>7401</th>\n",
       "      <td>Stasirr</td>\n",
       "      <td>Stoicism</td>\n",
       "      <td>How to deal with unsolved anger?</td>\n",
       "      <td>I was in a toxic friendship like a year ago where i was beaten just because the other thought it was fun, was told how stupid and worthless i and the thing i like are. \\nI got and hung in this friendship due to loneliness and fear of beeing alone because my former friendships where dieing and my former best friend tried to kill himself. \\nIt endet wirh me realising i was just bering used to suply weed where i endet the friendship.\\nIm in a better place than i was a year ago and i try to forgive and forget but sometimes this feeling of absolute hatered overcomes me and i feel unable to just keep moving on.</td>\n",
       "      <td>1629114440</td>\n",
       "      <td>p5efqf</td>\n",
       "    </tr>\n",
       "    <tr>\n",
       "      <th>7405</th>\n",
       "      <td>Ok_Job2254</td>\n",
       "      <td>Stoicism</td>\n",
       "      <td>How to deal with undolved anger?</td>\n",
       "      <td>I was in a toxic friendship like a year ago where i was beaten just because the other thought it was fun, was told how stupid and worthless i and the thing i like are. \\nI got and hung in this friendship due to loneliness and fear of beeing alone because my former friendships where dieing and my former best friend tried to kill himself. \\nIt endet wirh me realising i was just bering used to suply weed where i endet the friendship.\\nIm in a better place than i was a year ago and i try to forgive and forget but sometimes this feeling of absolute hatered overcomes me and i feel unable to just keep moving on.</td>\n",
       "      <td>1629110137</td>\n",
       "      <td>p5dgoq</td>\n",
       "    </tr>\n",
       "    <tr>\n",
       "      <th>4747</th>\n",
       "      <td>donvito00</td>\n",
       "      <td>Stoicism</td>\n",
       "      <td>I want to be a Stoic</td>\n",
       "      <td>I'm new to all of this, so I don't really know much, but I think I understand enought. Two phrases are stuck in my head, 3rd day in a row, they pop up in my head countless times a day, and those are: Memento mori and Amor fati\\n\\nI've read Meditations, and the whole time I was reading it I thought how it was so cool that I'm able to read thoughts from a Roman emperor/philosopher from the 2nd century, it was just amazing.\\n\\nI was into Buddhism till recently, and I really respect it of course. The moral virtue, meditation, wisdom the noble eightfold path is teaching is really great, some things from Stoicism really reminded me of Buddhism. But Buddhism is too extreme for me. I kill a fly and I feel like an awful human being.\\n\\nI plan to read - Discourses and Selected Writings, Epictetus\\n\\nBut more book recommendations wouldn't hurt, I really want to get into reading more.\\n\\nMaybe even some good speaches on YouTube or something. Anything that can help me think and act like a stoic.</td>\n",
       "      <td>1637912549</td>\n",
       "      <td>r2hwwf</td>\n",
       "    </tr>\n",
       "    <tr>\n",
       "      <th>4748</th>\n",
       "      <td>donvito00</td>\n",
       "      <td>Stoicism</td>\n",
       "      <td>Any book recommendations?</td>\n",
       "      <td>I'm new to all of this, so I don't really know much, but I think I understand enought. Two phrases are stuck in my head, 3rd day in a row, they pop up in my head countless times a day, and those are: Memento mori and Amor fati\\n\\nI've read Meditations, and the whole time I was reading it I thought how it was so cool that I'm able to read thoughts from a Roman emperor/philosopher from the 2nd century, it was just amazing.\\n\\nI was into Buddhism till recently, and I really respect it of course. The moral virtue, meditation, wisdom the noble eightfold path is teaching is really great, some things from Stoicism really reminded me of Buddhism. But Buddhism is too extreme for me. I kill a fly and I feel like an awful human being.\\n\\nI plan to read - Discourses and Selected Writings, Epictetus\\n\\nBut more book recommendations wouldn't hurt, I really want to get into reading more.\\n\\nMaybe even some good speaches on YouTube or something. Anything that can help me think and act like a stoic.</td>\n",
       "      <td>1637911916</td>\n",
       "      <td>r2hr27</td>\n",
       "    </tr>\n",
       "    <tr>\n",
       "      <th>9344</th>\n",
       "      <td>RedNeck_Styles</td>\n",
       "      <td>Stoicism</td>\n",
       "      <td>Need recommendations.</td>\n",
       "      <td>I've been really fascinated by stoicism and feel like this the only philosophy that can completely change my life and help me to become the person that I aspire to be.\\n\\nI want to get into this but as a newbie, I want to be more practical about stoicism and want to dig further into history after that. (A little history won't do much harm)\\n\\nAnd I can't afford  \"A guide to the good life - William B. Irvine\" and \"The Practicing Stoic - Ward Farnsworth\", those are pretty expensive here.\\n\\nSo, what books do you guys suggest, and also there's this book \"The stoic Guide to a Happy life: 53 brief lessons for living - Massimo Pigliucci\" which sounds pretty good to me, what are your opinions?</td>\n",
       "      <td>1623038624</td>\n",
       "      <td>nu3fw9</td>\n",
       "    </tr>\n",
       "    <tr>\n",
       "      <th>9524</th>\n",
       "      <td>RedNeck_Styles</td>\n",
       "      <td>Stoicism</td>\n",
       "      <td>Need suggestions for books.</td>\n",
       "      <td>I've been really fascinated by stoicism and feel like this the only philosophy that can completely change my life and help me to become the person that I aspire to be.\\n\\nI want to get into this but as a newbie, I want to be more practical about stoicism and want to dig further into history after that. (A little history won't do much harm)\\n\\nAnd I can't afford  \"A guide to the good life - William B. Irvine\" and \"The Practicing Stoic - Ward Farnsworth\", those are pretty expensive here.\\n\\nSo, what books do you guys suggest, and also there's this book \"The stoic Guide to a Happy life: 53 brief lessons for living - Massimo Pigliucci\" which sounds pretty good to me, what are your opinions?</td>\n",
       "      <td>1622533813</td>\n",
       "      <td>npolv8</td>\n",
       "    </tr>\n",
       "    <tr>\n",
       "      <th>9777</th>\n",
       "      <td>lilevilmochi</td>\n",
       "      <td>Stoicism</td>\n",
       "      <td>How to live without friends the stoic way.</td>\n",
       "      <td>I've been trying to practice stoicism, but it is really hard not to feel miserable. I ended up having 0 friends and I'm studying abroad, so I have no family here and I don't know anyone here and this course's year has finished. I couldn't meet anyone in my course since most of them are in their countries and the few ones that are here are adults with their own busy lives.\\n\\nI know that I won't have friends who knows how long so I need to keep on living but I have 0 energy to do anything. I just pass my days watching tv shows feeling miserable and craving good friends to have fun, play videogames or go on adventures, whatever.</td>\n",
       "      <td>1621849849</td>\n",
       "      <td>nju6v8</td>\n",
       "    </tr>\n",
       "    <tr>\n",
       "      <th>9778</th>\n",
       "      <td>lilevilmochi</td>\n",
       "      <td>Stoicism</td>\n",
       "      <td>How to live without having friends the stoic say</td>\n",
       "      <td>I've been trying to practice stoicism, but it is really hard not to feel miserable. I ended up having 0 friends and I'm studying abroad, so I have no family here and I don't know anyone here and this course's year has finished. I couldn't meet anyone in my course since most of them are in their countries and the few ones that are here are adults with their own busy lives.\\n\\nI know that I won't have friends who knows how long so I need to keep on living but I have 0 energy to do anything. I just pass my days watching tv shows feeling miserable and craving good friends to have fun, play videogames or go on adventures, whatever.</td>\n",
       "      <td>1621849795</td>\n",
       "      <td>nju6ea</td>\n",
       "    </tr>\n",
       "    <tr>\n",
       "      <th>8299</th>\n",
       "      <td>jenthedoglover</td>\n",
       "      <td>Stoicism</td>\n",
       "      <td>Interested in tools/apps/systems you utilize that seem to align with you stoic lifestyle. Example, for me YNAB has been awesome in helping me pay down debt and also assign my dollars to things that are important to me</td>\n",
       "      <td>Interested in tools/apps/systems you utilize that seem to align with you stoic lifestyle. Example, for me YNAB has been awesome in helping me pay down debt and also assign my dollars to things that are important to me. I recently stumbled upon Get Things Done, however I am still confused about it, but I HAVE adopted the two minute rule, basically if it only takes two minutes, NIKE---JUST DO IT. This has made my apartment clean AF which is awesome.  Curious to know any other resources/apps/ways of thinking/tools that are not specifically stoic but align with your stoic lifestyle and you use regularly.</td>\n",
       "      <td>1626214909</td>\n",
       "      <td>ojqhmz</td>\n",
       "    </tr>\n",
       "    <tr>\n",
       "      <th>8300</th>\n",
       "      <td>jenthedoglover</td>\n",
       "      <td>Stoicism</td>\n",
       "      <td>Discussion about apps/systems that reflect stoicism in daily life. (Example, You Need A Budget YNABB gives me control of my dollars that reflect my values/lofe goals.)</td>\n",
       "      <td>Interested in tools/apps/systems you utilize that seem to align with you stoic lifestyle. Example, for me YNAB has been awesome in helping me pay down debt and also assign my dollars to things that are important to me. I recently stumbled upon Get Things Done, however I am still confused about it, but I HAVE adopted the two minute rule, basically if it only takes two minutes, NIKE---JUST DO IT. This has made my apartment clean AF which is awesome.  Curious to know any other resources/apps/ways of thinking/tools that are not specifically stoic but align with your stoic lifestyle and you use regularly.</td>\n",
       "      <td>1626214796</td>\n",
       "      <td>ojqgaz</td>\n",
       "    </tr>\n",
       "    <tr>\n",
       "      <th>5884</th>\n",
       "      <td>colossus609</td>\n",
       "      <td>Stoicism</td>\n",
       "      <td>Any example of moral dilemma that can be related to stoicism?</td>\n",
       "      <td>Is there any example of a situation a stoic can face where it is hard to make a choice and all the options seem to be the right thing to do?</td>\n",
       "      <td>1634139879</td>\n",
       "      <td>q7dxum</td>\n",
       "    </tr>\n",
       "    <tr>\n",
       "      <th>5890</th>\n",
       "      <td>the_big_stoic</td>\n",
       "      <td>Stoicism</td>\n",
       "      <td>Any example moral dilemma that can be related to stoicism?</td>\n",
       "      <td>Is there any example of a situation a stoic can face where it is hard to make a choice and all the options seem to be the right thing to do?</td>\n",
       "      <td>1634121763</td>\n",
       "      <td>q78fr2</td>\n",
       "    </tr>\n",
       "  </tbody>\n",
       "</table>\n",
       "</div>"
      ],
      "text/plain": [
       "              author subreddit  \\\n",
       "8529  Samuelhoffmann  Stoicism   \n",
       "2634   RedDragonCast  Stoicism   \n",
       "2635   RedDragonCast  Stoicism   \n",
       "7401         Stasirr  Stoicism   \n",
       "7405      Ok_Job2254  Stoicism   \n",
       "4747       donvito00  Stoicism   \n",
       "4748       donvito00  Stoicism   \n",
       "9344  RedNeck_Styles  Stoicism   \n",
       "9524  RedNeck_Styles  Stoicism   \n",
       "9777    lilevilmochi  Stoicism   \n",
       "9778    lilevilmochi  Stoicism   \n",
       "8299  jenthedoglover  Stoicism   \n",
       "8300  jenthedoglover  Stoicism   \n",
       "5884     colossus609  Stoicism   \n",
       "5890   the_big_stoic  Stoicism   \n",
       "\n",
       "                                                                                                                                                                                                                          title  \\\n",
       "8529                                                                                          \"We shouldn't control anger, but destroy it entirely. For what control is there for a rbijr that's fundamentally wicked? - Seneca   \n",
       "2634                                                                                                                                                               Stoicism helped me truly open my eyes to the world around me   \n",
       "2635                                                                                                                                                                         Stoicism opened my eyes to the world around meadow   \n",
       "7401                                                                                                                                                                                           How to deal with unsolved anger?   \n",
       "7405                                                                                                                                                                                           How to deal with undolved anger?   \n",
       "4747                                                                                                                                                                                                       I want to be a Stoic   \n",
       "4748                                                                                                                                                                                                  Any book recommendations?   \n",
       "9344                                                                                                                                                                                                      Need recommendations.   \n",
       "9524                                                                                                                                                                                                Need suggestions for books.   \n",
       "9777                                                                                                                                                                                 How to live without friends the stoic way.   \n",
       "9778                                                                                                                                                                           How to live without having friends the stoic say   \n",
       "8299  Interested in tools/apps/systems you utilize that seem to align with you stoic lifestyle. Example, for me YNAB has been awesome in helping me pay down debt and also assign my dollars to things that are important to me   \n",
       "8300                                                    Discussion about apps/systems that reflect stoicism in daily life. (Example, You Need A Budget YNABB gives me control of my dollars that reflect my values/lofe goals.)   \n",
       "5884                                                                                                                                                              Any example of moral dilemma that can be related to stoicism?   \n",
       "5890                                                                                                                                                                 Any example moral dilemma that can be related to stoicism?   \n",
       "\n",
       "                                                                                                                                                                                                                                                                                                                                                                                                                                                                                                                                                                                                                                                                                                                                                                                                                                                                                                                                                                                                                                                                                                                                                                                                                                                                                                                                                                                                                                                                                                                                                                                                                                                                                                                                                                                                                                                                                                                                                                                                                                                                                                                                                                                                                                                                                                                                                                                                                                                                                                                                                                                                                                                                                                                                                                                                                                                                                                                                                                                                                                                                                                                     selftext  \\\n",
       "8529                                                                                                                                                                                                                                                                                                                                                                                                                                                                                                                                                                                                                                                                                                                                                                                                                                                                                                                                                                                                                                                                                                                                                                                                                                                                                                                                                                                                                                                                                                                                                                                                                                                                                                                                                                                                                                                                                                                                                                                                                                                                                                                                                                                                                                                                                           I don't exactly agree with Seneca here. \\n\\nWe shouldn't avoid anger. That isn't even possible. Emotjond are natural and inevitable. \\n\\nHowever we have it in our power to not act according to emotion yes, that's very difficult, because we've been doing it all our lives. But if we can discipline ourselves to recognise our emotions and reason with corresponding impressions in order to calm down, that's the way to go. We musnt let emotions control us. \\n\\nWhether Seneca meant this or not, this is how I consider it. While we cannot avoid emotions we must try to cease or reduce acting in anger. Acting according to negative emotion has its negative outcomes. Acting in anger, for instance, can lead to immoral, unpredictable or  violent behaviour. It can hurt relationships and its a bad habit.    \n",
       "2634  I was a pretty intensely political Twitter user at one point, with nearly 10k followers. I was greatly invested in left wing politics, as is evident from my avatar. I subscribed to modern Communist ideology, and thought I was part of a great movement. I was talking regularly to admirable journalists and I even had Peter Joseph of Zeitgeist fame give me a few tips and kind words on my own documentary I was making. \\n\\nBut then one day I was deplatformed for my views, with mass reports getting me branded as an antisemite for pushing pro Palestinian posts, and also as a right winger for mostly going after Labour and the Democrats (which I had explained was because the left should know better and the right just won't share my views). This was not only something that affected my Twitter, but even my entirely apolitical Facebook and Instagram accounts were taken offline too. \\n\\nSo I was devastated, as my entire life became revolved around politics and so I lost contact with many interesting and decent people. I had stupidly never agreed to chat off of the social media platforms themselves so was never able to contact them again as every time I went to make a new profile, it would get banned very quickly before I've even done anything remotely controversial. This happened on all 3 sites. \\n\\nThen one day I was listening to a Derren Brown audiobook called Happy, and he was constantly recommending Stoicism. I was very interested in this school of thought straight away and started watching Daily Stoic videos. I immediately got myself a copy of Meditations, and then worked my way into Seneca and Epictetus. I was absolutely mesmerised by the quality of the writing and how entirely relevant the majority of it was to today. \\n\\nThrough this experience, one quote from Marcus Aurelius particularly stood out to me...\\n\\n&gt;The object of life is not to be on the side of the majority, but to escape finding oneself in the ranks of the insane.\\n\\nI realised that following these political ideologies so heavily was doing untold damage to my already fragile mental health, and now that I've stepped back I've realised that all political ideologies are flawed. Stoicism has helped me see that I don't have to join a political party just because some of their views reflect my own. I'd still be somewhat powerless to change things on a grand scale. \\n\\nSo instead, I've not only helped improve my mind with more reading and my health with the gym and a better diet, but I've also invested myself in my community, helping in homeless shelters, offering house help to the elderly, things like that.  It makes me feel productive in my free time, and it also makes me feel good to know I'm helping others instead of spending my days debating endlessly with faceless ideologues. \\n\\nThis is why to me the left/right thing is as meaningless as the Labour/Tory or Democrat/Republican label. The true thinkers and visionaries with nuanced progressive and achievable goals seem to follow no sp...   \n",
       "2635  I was a pretty intensely political Twitter user at one point, with nearly 10k followers. I was greatly invested in left wing politics, as is evident from my avatar. I subscribed to modern Communist ideology, and thought I was part of a great movement. I was talking regularly to admirable journalists and I even had Peter Joseph of Zeitgeist fame give me a few tips and kind words on my own documentary I was making. \\n\\nBut then one day I was deplatformed for my views, with mass reports getting me branded as an antisemite for pushing pro Palestinian posts, and also as a right winger for mostly going after Labour and the Democrats (which I had explained was because the left should know better and the right just won't share my views). This was not only something that affected my Twitter, but even my entirely apolitical Facebook and Instagram accounts were taken offline too. \\n\\nSo I was devastated, as my entire life became revolved around politics and so I lost contact with many interesting and decent people. I had stupidly never agreed to chat off of the social media platforms themselves so was never able to contact them again as every time I went to make a new profile, it would get banned very quickly before I've even done anything remotely controversial. This happened on all 3 sites. \\n\\nThen one day I was listening to a Derren Brown audiobook called Happy, and he was constantly recommending Stoicism. I was very interested in this school of thought straight away and started watching Daily Stoic videos. I immediately got myself a copy of Meditations, and then worked my way into Seneca and Epictetus. I was absolutely mesmerised by the quality of the writing and how entirely relevant the majority of it was to today. \\n\\nThrough this experience, one quote from Marcus Aurelius particularly stood out to me...\\n\\n&gt;The object of life is not to be on the side of the majority, but to escape finding oneself in the ranks of the insane.\\n\\nI realised that following these political ideologies so heavily was doing untold damage to my already fragile mental health, and now that I've stepped back I've realised that all political ideologies are flawed. Stoicism has helped me see that I don't have to join a political party just because some of their views reflect my own. I'd still be somewhat powerless to change things on a grand scale. \\n\\nSo instead, I've not only helped improve my mind with more reading and my health with the gym and a better diet, but I've also invested myself in my community, helping in homeless shelters, offering house help to the elderly, things like that.  It makes me feel productive in my free time, and it also makes me feel good to know I'm helping others instead of spending my days debating endlessly with faceless ideologues. \\n\\nThis is why to me the left/right thing is as meaningless as the Labour/Tory or Democrat/Republican label. The true thinkers and visionaries with nuanced progressive and achievable goals seem to follow no sp...   \n",
       "7401                                                                                                                                                                                                                                                                                                                                                                                                                                                                                                                                                                                                                                                                                                                                                                                                                                                                                                                                                                                                                                                                                                                                                                                                                                                                                                                                                                                                                                                                                                                                                                                                                                                                                                                                                                                                                                                                                                                                                                                                                                                                                                                                                                                                                                                                                                                                                                                                                                                                                     I was in a toxic friendship like a year ago where i was beaten just because the other thought it was fun, was told how stupid and worthless i and the thing i like are. \\nI got and hung in this friendship due to loneliness and fear of beeing alone because my former friendships where dieing and my former best friend tried to kill himself. \\nIt endet wirh me realising i was just bering used to suply weed where i endet the friendship.\\nIm in a better place than i was a year ago and i try to forgive and forget but sometimes this feeling of absolute hatered overcomes me and i feel unable to just keep moving on.   \n",
       "7405                                                                                                                                                                                                                                                                                                                                                                                                                                                                                                                                                                                                                                                                                                                                                                                                                                                                                                                                                                                                                                                                                                                                                                                                                                                                                                                                                                                                                                                                                                                                                                                                                                                                                                                                                                                                                                                                                                                                                                                                                                                                                                                                                                                                                                                                                                                                                                                                                                                                                     I was in a toxic friendship like a year ago where i was beaten just because the other thought it was fun, was told how stupid and worthless i and the thing i like are. \\nI got and hung in this friendship due to loneliness and fear of beeing alone because my former friendships where dieing and my former best friend tried to kill himself. \\nIt endet wirh me realising i was just bering used to suply weed where i endet the friendship.\\nIm in a better place than i was a year ago and i try to forgive and forget but sometimes this feeling of absolute hatered overcomes me and i feel unable to just keep moving on.   \n",
       "4747                                                                                                                                                                                                                                                                                                                                                                                                                                                                                                                                                                                                                                                                                                                                                                                                                                                                                                                                                                                                                                                                                                                                                                                                                                                                                                                                                                                                                                                                                                                                                                                                                                                                                                                                                                                                                                                                                                                                                                                                                                                                                    I'm new to all of this, so I don't really know much, but I think I understand enought. Two phrases are stuck in my head, 3rd day in a row, they pop up in my head countless times a day, and those are: Memento mori and Amor fati\\n\\nI've read Meditations, and the whole time I was reading it I thought how it was so cool that I'm able to read thoughts from a Roman emperor/philosopher from the 2nd century, it was just amazing.\\n\\nI was into Buddhism till recently, and I really respect it of course. The moral virtue, meditation, wisdom the noble eightfold path is teaching is really great, some things from Stoicism really reminded me of Buddhism. But Buddhism is too extreme for me. I kill a fly and I feel like an awful human being.\\n\\nI plan to read - Discourses and Selected Writings, Epictetus\\n\\nBut more book recommendations wouldn't hurt, I really want to get into reading more.\\n\\nMaybe even some good speaches on YouTube or something. Anything that can help me think and act like a stoic.   \n",
       "4748                                                                                                                                                                                                                                                                                                                                                                                                                                                                                                                                                                                                                                                                                                                                                                                                                                                                                                                                                                                                                                                                                                                                                                                                                                                                                                                                                                                                                                                                                                                                                                                                                                                                                                                                                                                                                                                                                                                                                                                                                                                                                    I'm new to all of this, so I don't really know much, but I think I understand enought. Two phrases are stuck in my head, 3rd day in a row, they pop up in my head countless times a day, and those are: Memento mori and Amor fati\\n\\nI've read Meditations, and the whole time I was reading it I thought how it was so cool that I'm able to read thoughts from a Roman emperor/philosopher from the 2nd century, it was just amazing.\\n\\nI was into Buddhism till recently, and I really respect it of course. The moral virtue, meditation, wisdom the noble eightfold path is teaching is really great, some things from Stoicism really reminded me of Buddhism. But Buddhism is too extreme for me. I kill a fly and I feel like an awful human being.\\n\\nI plan to read - Discourses and Selected Writings, Epictetus\\n\\nBut more book recommendations wouldn't hurt, I really want to get into reading more.\\n\\nMaybe even some good speaches on YouTube or something. Anything that can help me think and act like a stoic.   \n",
       "9344                                                                                                                                                                                                                                                                                                                                                                                                                                                                                                                                                                                                                                                                                                                                                                                                                                                                                                                                                                                                                                                                                                                                                                                                                                                                                                                                                                                                                                                                                                                                                                                                                                                                                                                                                                                                                                                                                                                                                                                                                                                                                                                                                                                                                                                                                                                                                                                                  I've been really fascinated by stoicism and feel like this the only philosophy that can completely change my life and help me to become the person that I aspire to be.\\n\\nI want to get into this but as a newbie, I want to be more practical about stoicism and want to dig further into history after that. (A little history won't do much harm)\\n\\nAnd I can't afford  \"A guide to the good life - William B. Irvine\" and \"The Practicing Stoic - Ward Farnsworth\", those are pretty expensive here.\\n\\nSo, what books do you guys suggest, and also there's this book \"The stoic Guide to a Happy life: 53 brief lessons for living - Massimo Pigliucci\" which sounds pretty good to me, what are your opinions?   \n",
       "9524                                                                                                                                                                                                                                                                                                                                                                                                                                                                                                                                                                                                                                                                                                                                                                                                                                                                                                                                                                                                                                                                                                                                                                                                                                                                                                                                                                                                                                                                                                                                                                                                                                                                                                                                                                                                                                                                                                                                                                                                                                                                                                                                                                                                                                                                                                                                                                                                  I've been really fascinated by stoicism and feel like this the only philosophy that can completely change my life and help me to become the person that I aspire to be.\\n\\nI want to get into this but as a newbie, I want to be more practical about stoicism and want to dig further into history after that. (A little history won't do much harm)\\n\\nAnd I can't afford  \"A guide to the good life - William B. Irvine\" and \"The Practicing Stoic - Ward Farnsworth\", those are pretty expensive here.\\n\\nSo, what books do you guys suggest, and also there's this book \"The stoic Guide to a Happy life: 53 brief lessons for living - Massimo Pigliucci\" which sounds pretty good to me, what are your opinions?   \n",
       "9777                                                                                                                                                                                                                                                                                                                                                                                                                                                                                                                                                                                                                                                                                                                                                                                                                                                                                                                                                                                                                                                                                                                                                                                                                                                                                                                                                                                                                                                                                                                                                                                                                                                                                                                                                                                                                                                                                                                                                                                                                                                                                                                                                                                                                                                                                                                                                                                                                                                               I've been trying to practice stoicism, but it is really hard not to feel miserable. I ended up having 0 friends and I'm studying abroad, so I have no family here and I don't know anyone here and this course's year has finished. I couldn't meet anyone in my course since most of them are in their countries and the few ones that are here are adults with their own busy lives.\\n\\nI know that I won't have friends who knows how long so I need to keep on living but I have 0 energy to do anything. I just pass my days watching tv shows feeling miserable and craving good friends to have fun, play videogames or go on adventures, whatever.   \n",
       "9778                                                                                                                                                                                                                                                                                                                                                                                                                                                                                                                                                                                                                                                                                                                                                                                                                                                                                                                                                                                                                                                                                                                                                                                                                                                                                                                                                                                                                                                                                                                                                                                                                                                                                                                                                                                                                                                                                                                                                                                                                                                                                                                                                                                                                                                                                                                                                                                                                                                               I've been trying to practice stoicism, but it is really hard not to feel miserable. I ended up having 0 friends and I'm studying abroad, so I have no family here and I don't know anyone here and this course's year has finished. I couldn't meet anyone in my course since most of them are in their countries and the few ones that are here are adults with their own busy lives.\\n\\nI know that I won't have friends who knows how long so I need to keep on living but I have 0 energy to do anything. I just pass my days watching tv shows feeling miserable and craving good friends to have fun, play videogames or go on adventures, whatever.   \n",
       "8299                                                                                                                                                                                                                                                                                                                                                                                                                                                                                                                                                                                                                                                                                                                                                                                                                                                                                                                                                                                                                                                                                                                                                                                                                                                                                                                                                                                                                                                                                                                                                                                                                                                                                                                                                                                                                                                                                                                                                                                                                                                                                                                                                                                                                                                                                                                                                                                                                                                                                          Interested in tools/apps/systems you utilize that seem to align with you stoic lifestyle. Example, for me YNAB has been awesome in helping me pay down debt and also assign my dollars to things that are important to me. I recently stumbled upon Get Things Done, however I am still confused about it, but I HAVE adopted the two minute rule, basically if it only takes two minutes, NIKE---JUST DO IT. This has made my apartment clean AF which is awesome.  Curious to know any other resources/apps/ways of thinking/tools that are not specifically stoic but align with your stoic lifestyle and you use regularly.   \n",
       "8300                                                                                                                                                                                                                                                                                                                                                                                                                                                                                                                                                                                                                                                                                                                                                                                                                                                                                                                                                                                                                                                                                                                                                                                                                                                                                                                                                                                                                                                                                                                                                                                                                                                                                                                                                                                                                                                                                                                                                                                                                                                                                                                                                                                                                                                                                                                                                                                                                                                                                          Interested in tools/apps/systems you utilize that seem to align with you stoic lifestyle. Example, for me YNAB has been awesome in helping me pay down debt and also assign my dollars to things that are important to me. I recently stumbled upon Get Things Done, however I am still confused about it, but I HAVE adopted the two minute rule, basically if it only takes two minutes, NIKE---JUST DO IT. This has made my apartment clean AF which is awesome.  Curious to know any other resources/apps/ways of thinking/tools that are not specifically stoic but align with your stoic lifestyle and you use regularly.   \n",
       "5884                                                                                                                                                                                                                                                                                                                                                                                                                                                                                                                                                                                                                                                                                                                                                                                                                                                                                                                                                                                                                                                                                                                                                                                                                                                                                                                                                                                                                                                                                                                                                                                                                                                                                                                                                                                                                                                                                                                                                                                                                                                                                                                                                                                                                                                                                                                                                                                                                                                                                                                                                                                                                                                                                                                                                                                                                                                                                                                                                                             Is there any example of a situation a stoic can face where it is hard to make a choice and all the options seem to be the right thing to do?   \n",
       "5890                                                                                                                                                                                                                                                                                                                                                                                                                                                                                                                                                                                                                                                                                                                                                                                                                                                                                                                                                                                                                                                                                                                                                                                                                                                                                                                                                                                                                                                                                                                                                                                                                                                                                                                                                                                                                                                                                                                                                                                                                                                                                                                                                                                                                                                                                                                                                                                                                                                                                                                                                                                                                                                                                                                                                                                                                                                                                                                                                                             Is there any example of a situation a stoic can face where it is hard to make a choice and all the options seem to be the right thing to do?   \n",
       "\n",
       "      created_utc      id  \n",
       "8529   1625537683  oelm8c  \n",
       "2634   1644958713  std68o  \n",
       "2635   1644958592  std4lk  \n",
       "7401   1629114440  p5efqf  \n",
       "7405   1629110137  p5dgoq  \n",
       "4747   1637912549  r2hwwf  \n",
       "4748   1637911916  r2hr27  \n",
       "9344   1623038624  nu3fw9  \n",
       "9524   1622533813  npolv8  \n",
       "9777   1621849849  nju6v8  \n",
       "9778   1621849795  nju6ea  \n",
       "8299   1626214909  ojqhmz  \n",
       "8300   1626214796  ojqgaz  \n",
       "5884   1634139879  q7dxum  \n",
       "5890   1634121763  q78fr2  "
      ]
     },
     "execution_count": 94,
     "metadata": {},
     "output_type": "execute_result"
    }
   ],
   "source": [
    "dup_rows.iloc[50:65, :]"
   ]
  },
  {
   "cell_type": "code",
   "execution_count": 95,
   "id": "b9925d2c-af84-43df-bc4c-3b11fc8f2e1d",
   "metadata": {
    "scrolled": true,
    "tags": []
   },
   "outputs": [
    {
     "data": {
      "text/html": [
       "<div>\n",
       "<style scoped>\n",
       "    .dataframe tbody tr th:only-of-type {\n",
       "        vertical-align: middle;\n",
       "    }\n",
       "\n",
       "    .dataframe tbody tr th {\n",
       "        vertical-align: top;\n",
       "    }\n",
       "\n",
       "    .dataframe thead th {\n",
       "        text-align: right;\n",
       "    }\n",
       "</style>\n",
       "<table border=\"1\" class=\"dataframe\">\n",
       "  <thead>\n",
       "    <tr style=\"text-align: right;\">\n",
       "      <th></th>\n",
       "      <th>author</th>\n",
       "      <th>subreddit</th>\n",
       "      <th>title</th>\n",
       "      <th>selftext</th>\n",
       "      <th>created_utc</th>\n",
       "      <th>id</th>\n",
       "    </tr>\n",
       "  </thead>\n",
       "  <tbody>\n",
       "    <tr>\n",
       "      <th>1832</th>\n",
       "      <td>[deleted]</td>\n",
       "      <td>Stoicism</td>\n",
       "      <td>I have an irrational fear, how can I control it</td>\n",
       "      <td>[deleted]</td>\n",
       "      <td>1648583727</td>\n",
       "      <td>trg7y4</td>\n",
       "    </tr>\n",
       "    <tr>\n",
       "      <th>1837</th>\n",
       "      <td>[deleted]</td>\n",
       "      <td>Stoicism</td>\n",
       "      <td>I need advice on the worst period of my life</td>\n",
       "      <td>[deleted]</td>\n",
       "      <td>1648571567</td>\n",
       "      <td>tr6w25</td>\n",
       "    </tr>\n",
       "    <tr>\n",
       "      <th>4362</th>\n",
       "      <td>[deleted]</td>\n",
       "      <td>Stoicism</td>\n",
       "      <td>Keeping calm</td>\n",
       "      <td>[deleted]</td>\n",
       "      <td>1639011634</td>\n",
       "      <td>rc5qle</td>\n",
       "    </tr>\n",
       "    <tr>\n",
       "      <th>4373</th>\n",
       "      <td>[deleted]</td>\n",
       "      <td>Stoicism</td>\n",
       "      <td>Was stoicism taught in some form in some US schools in the 1900s? I understand how open ended that sounds, but I can box it in….</td>\n",
       "      <td>[deleted]</td>\n",
       "      <td>1638973542</td>\n",
       "      <td>rbsh9p</td>\n",
       "    </tr>\n",
       "    <tr>\n",
       "      <th>4378</th>\n",
       "      <td>[deleted]</td>\n",
       "      <td>Stoicism</td>\n",
       "      <td>Books about stoicism</td>\n",
       "      <td>[deleted]</td>\n",
       "      <td>1638967240</td>\n",
       "      <td>rbqhhk</td>\n",
       "    </tr>\n",
       "    <tr>\n",
       "      <th>4390</th>\n",
       "      <td>[deleted]</td>\n",
       "      <td>Stoicism</td>\n",
       "      <td>Over-responsibility and caretaking for others - Stoic quote or thought?</td>\n",
       "      <td>[deleted]</td>\n",
       "      <td>1638919119</td>\n",
       "      <td>rbcdzq</td>\n",
       "    </tr>\n",
       "    <tr>\n",
       "      <th>4403</th>\n",
       "      <td>[deleted]</td>\n",
       "      <td>Stoicism</td>\n",
       "      <td>Is it better to walk like the king, or walk like you don’t care who the king is .?</td>\n",
       "      <td>[deleted]</td>\n",
       "      <td>1638887168</td>\n",
       "      <td>rb0c44</td>\n",
       "    </tr>\n",
       "    <tr>\n",
       "      <th>5355</th>\n",
       "      <td>[deleted]</td>\n",
       "      <td>Stoicism</td>\n",
       "      <td>Advice on how to stop caring about what my ex-girlfriend thinks of me?</td>\n",
       "      <td>[deleted]</td>\n",
       "      <td>1635796537</td>\n",
       "      <td>qkm98f</td>\n",
       "    </tr>\n",
       "    <tr>\n",
       "      <th>6045</th>\n",
       "      <td>[deleted]</td>\n",
       "      <td>Stoicism</td>\n",
       "      <td>Altruism is an Illusion, what would the Stoics say to this?</td>\n",
       "      <td>[deleted]</td>\n",
       "      <td>1633542272</td>\n",
       "      <td>q2pj9v</td>\n",
       "    </tr>\n",
       "    <tr>\n",
       "      <th>6046</th>\n",
       "      <td>[deleted]</td>\n",
       "      <td>Stoicism</td>\n",
       "      <td>Altruism is an Illusion, what would Stoics say to this?</td>\n",
       "      <td>[deleted]</td>\n",
       "      <td>1633542039</td>\n",
       "      <td>q2pgkx</td>\n",
       "    </tr>\n",
       "    <tr>\n",
       "      <th>6079</th>\n",
       "      <td>[deleted]</td>\n",
       "      <td>Stoicism</td>\n",
       "      <td>Baruch Spinoza: What \"Living in accordance with Nature\" means, And why many live a substandard life</td>\n",
       "      <td>[deleted]</td>\n",
       "      <td>1633440695</td>\n",
       "      <td>q1wg8t</td>\n",
       "    </tr>\n",
       "    <tr>\n",
       "      <th>6085</th>\n",
       "      <td>[deleted]</td>\n",
       "      <td>Stoicism</td>\n",
       "      <td>What \"Living in accordance with nature\" meant to me.</td>\n",
       "      <td>[deleted]</td>\n",
       "      <td>1633429116</td>\n",
       "      <td>q1tgk0</td>\n",
       "    </tr>\n",
       "    <tr>\n",
       "      <th>6379</th>\n",
       "      <td>[deleted]</td>\n",
       "      <td>Stoicism</td>\n",
       "      <td>Contraindications in viewing a life's purpose</td>\n",
       "      <td>[deleted]</td>\n",
       "      <td>1632349649</td>\n",
       "      <td>pthdfi</td>\n",
       "    </tr>\n",
       "    <tr>\n",
       "      <th>6943</th>\n",
       "      <td>[deleted]</td>\n",
       "      <td>Stoicism</td>\n",
       "      <td>Notes on \"Meditations: A New Translation\" by Marcus Aurelius</td>\n",
       "      <td>[deleted]</td>\n",
       "      <td>1630362492</td>\n",
       "      <td>pesrri</td>\n",
       "    </tr>\n",
       "    <tr>\n",
       "      <th>7240</th>\n",
       "      <td>[deleted]</td>\n",
       "      <td>Stoicism</td>\n",
       "      <td>How to let go of past hurt ?</td>\n",
       "      <td>[deleted]</td>\n",
       "      <td>1629516635</td>\n",
       "      <td>p8k6i7</td>\n",
       "    </tr>\n",
       "  </tbody>\n",
       "</table>\n",
       "</div>"
      ],
      "text/plain": [
       "         author subreddit  \\\n",
       "1832  [deleted]  Stoicism   \n",
       "1837  [deleted]  Stoicism   \n",
       "4362  [deleted]  Stoicism   \n",
       "4373  [deleted]  Stoicism   \n",
       "4378  [deleted]  Stoicism   \n",
       "4390  [deleted]  Stoicism   \n",
       "4403  [deleted]  Stoicism   \n",
       "5355  [deleted]  Stoicism   \n",
       "6045  [deleted]  Stoicism   \n",
       "6046  [deleted]  Stoicism   \n",
       "6079  [deleted]  Stoicism   \n",
       "6085  [deleted]  Stoicism   \n",
       "6379  [deleted]  Stoicism   \n",
       "6943  [deleted]  Stoicism   \n",
       "7240  [deleted]  Stoicism   \n",
       "\n",
       "                                                                                                                                 title  \\\n",
       "1832                                                                                   I have an irrational fear, how can I control it   \n",
       "1837                                                                                      I need advice on the worst period of my life   \n",
       "4362                                                                                                                      Keeping calm   \n",
       "4373  Was stoicism taught in some form in some US schools in the 1900s? I understand how open ended that sounds, but I can box it in….   \n",
       "4378                                                                                                              Books about stoicism   \n",
       "4390                                                           Over-responsibility and caretaking for others - Stoic quote or thought?   \n",
       "4403                                                Is it better to walk like the king, or walk like you don’t care who the king is .?   \n",
       "5355                                                            Advice on how to stop caring about what my ex-girlfriend thinks of me?   \n",
       "6045                                                                       Altruism is an Illusion, what would the Stoics say to this?   \n",
       "6046                                                                           Altruism is an Illusion, what would Stoics say to this?   \n",
       "6079                               Baruch Spinoza: What \"Living in accordance with Nature\" means, And why many live a substandard life   \n",
       "6085                                                                              What \"Living in accordance with nature\" meant to me.   \n",
       "6379                                                                                     Contraindications in viewing a life's purpose   \n",
       "6943                                                                      Notes on \"Meditations: A New Translation\" by Marcus Aurelius   \n",
       "7240                                                                                                      How to let go of past hurt ?   \n",
       "\n",
       "       selftext  created_utc      id  \n",
       "1832  [deleted]   1648583727  trg7y4  \n",
       "1837  [deleted]   1648571567  tr6w25  \n",
       "4362  [deleted]   1639011634  rc5qle  \n",
       "4373  [deleted]   1638973542  rbsh9p  \n",
       "4378  [deleted]   1638967240  rbqhhk  \n",
       "4390  [deleted]   1638919119  rbcdzq  \n",
       "4403  [deleted]   1638887168  rb0c44  \n",
       "5355  [deleted]   1635796537  qkm98f  \n",
       "6045  [deleted]   1633542272  q2pj9v  \n",
       "6046  [deleted]   1633542039  q2pgkx  \n",
       "6079  [deleted]   1633440695  q1wg8t  \n",
       "6085  [deleted]   1633429116  q1tgk0  \n",
       "6379  [deleted]   1632349649  pthdfi  \n",
       "6943  [deleted]   1630362492  pesrri  \n",
       "7240  [deleted]   1629516635  p8k6i7  "
      ]
     },
     "execution_count": 95,
     "metadata": {},
     "output_type": "execute_result"
    }
   ],
   "source": [
    "dup_rows.iloc[100:115, :]"
   ]
  },
  {
   "cell_type": "code",
   "execution_count": 96,
   "id": "c3ab1a6c-ac73-4656-8035-1e7198c2b7b4",
   "metadata": {
    "scrolled": true,
    "tags": []
   },
   "outputs": [
    {
     "data": {
      "text/html": [
       "<div>\n",
       "<style scoped>\n",
       "    .dataframe tbody tr th:only-of-type {\n",
       "        vertical-align: middle;\n",
       "    }\n",
       "\n",
       "    .dataframe tbody tr th {\n",
       "        vertical-align: top;\n",
       "    }\n",
       "\n",
       "    .dataframe thead th {\n",
       "        text-align: right;\n",
       "    }\n",
       "</style>\n",
       "<table border=\"1\" class=\"dataframe\">\n",
       "  <thead>\n",
       "    <tr style=\"text-align: right;\">\n",
       "      <th></th>\n",
       "      <th>author</th>\n",
       "      <th>subreddit</th>\n",
       "      <th>title</th>\n",
       "      <th>selftext</th>\n",
       "      <th>created_utc</th>\n",
       "      <th>id</th>\n",
       "    </tr>\n",
       "  </thead>\n",
       "  <tbody>\n",
       "    <tr>\n",
       "      <th>3099</th>\n",
       "      <td>deearpeas</td>\n",
       "      <td>Stoicism</td>\n",
       "      <td>It’s hard to be kind</td>\n",
       "      <td>[removed]</td>\n",
       "      <td>1643218397</td>\n",
       "      <td>sdbfmc</td>\n",
       "    </tr>\n",
       "    <tr>\n",
       "      <th>3105</th>\n",
       "      <td>aSimpleTraveler</td>\n",
       "      <td>Stoicism</td>\n",
       "      <td>The Gambler: A stoic meditation?</td>\n",
       "      <td>[removed]</td>\n",
       "      <td>1643208204</td>\n",
       "      <td>sd7j50</td>\n",
       "    </tr>\n",
       "    <tr>\n",
       "      <th>3110</th>\n",
       "      <td>CRBthoughts</td>\n",
       "      <td>Stoicism</td>\n",
       "      <td>Fabius: \"I didn’t think it would happen\"</td>\n",
       "      <td>[removed]</td>\n",
       "      <td>1643189237</td>\n",
       "      <td>sd212m</td>\n",
       "    </tr>\n",
       "    <tr>\n",
       "      <th>3111</th>\n",
       "      <td>cybrexi</td>\n",
       "      <td>Stoicism</td>\n",
       "      <td>Best books to read</td>\n",
       "      <td>[removed]</td>\n",
       "      <td>1643182867</td>\n",
       "      <td>sd0hvt</td>\n",
       "    </tr>\n",
       "    <tr>\n",
       "      <th>3113</th>\n",
       "      <td>he_sayn_who_sayn</td>\n",
       "      <td>Stoicism</td>\n",
       "      <td>Whats your mantra?</td>\n",
       "      <td>[removed]</td>\n",
       "      <td>1643174793</td>\n",
       "      <td>scybt7</td>\n",
       "    </tr>\n",
       "    <tr>\n",
       "      <th>3114</th>\n",
       "      <td>neon_protocol</td>\n",
       "      <td>Stoicism</td>\n",
       "      <td>A time of struggle?</td>\n",
       "      <td>[removed]</td>\n",
       "      <td>1643173614</td>\n",
       "      <td>scxzc6</td>\n",
       "    </tr>\n",
       "    <tr>\n",
       "      <th>3116</th>\n",
       "      <td>007_BMT216A</td>\n",
       "      <td>Stoicism</td>\n",
       "      <td>Am I upholding stoic values during these types of scenarios?</td>\n",
       "      <td>[removed]</td>\n",
       "      <td>1643167571</td>\n",
       "      <td>scw2gw</td>\n",
       "    </tr>\n",
       "    <tr>\n",
       "      <th>3117</th>\n",
       "      <td>supertempo</td>\n",
       "      <td>Stoicism</td>\n",
       "      <td>Negative visualization *after* an event is really effective</td>\n",
       "      <td>[removed]</td>\n",
       "      <td>1643164506</td>\n",
       "      <td>scv0nb</td>\n",
       "    </tr>\n",
       "    <tr>\n",
       "      <th>3121</th>\n",
       "      <td>absolute_degen210</td>\n",
       "      <td>Stoicism</td>\n",
       "      <td>How do you apply to your life the quote \"choose not to be harmed\"</td>\n",
       "      <td>[removed]</td>\n",
       "      <td>1643157329</td>\n",
       "      <td>scsiw2</td>\n",
       "    </tr>\n",
       "    <tr>\n",
       "      <th>3123</th>\n",
       "      <td>QuesadillaRob</td>\n",
       "      <td>Stoicism</td>\n",
       "      <td>Things Can Easily Flatspin</td>\n",
       "      <td>[removed]</td>\n",
       "      <td>1643151034</td>\n",
       "      <td>scq7vl</td>\n",
       "    </tr>\n",
       "    <tr>\n",
       "      <th>3125</th>\n",
       "      <td>ChrysolorasOfCorsica</td>\n",
       "      <td>Stoicism</td>\n",
       "      <td>A Meditation on Efforts and Outcomes</td>\n",
       "      <td>[removed]</td>\n",
       "      <td>1643145377</td>\n",
       "      <td>sco5vy</td>\n",
       "    </tr>\n",
       "    <tr>\n",
       "      <th>3127</th>\n",
       "      <td>SatisfactionNo183</td>\n",
       "      <td>Stoicism</td>\n",
       "      <td>Please hear my story.</td>\n",
       "      <td>[removed]</td>\n",
       "      <td>1643136834</td>\n",
       "      <td>scky5g</td>\n",
       "    </tr>\n",
       "    <tr>\n",
       "      <th>3128</th>\n",
       "      <td>driftingintothebag</td>\n",
       "      <td>Stoicism</td>\n",
       "      <td>How do Stoics deal with social media addiction and the need for stimulation?</td>\n",
       "      <td>[removed]</td>\n",
       "      <td>1643136413</td>\n",
       "      <td>scksd3</td>\n",
       "    </tr>\n",
       "    <tr>\n",
       "      <th>3131</th>\n",
       "      <td>Prokopton2</td>\n",
       "      <td>Stoicism</td>\n",
       "      <td>I was overwhelmed</td>\n",
       "      <td>[removed]</td>\n",
       "      <td>1643125749</td>\n",
       "      <td>scgpuk</td>\n",
       "    </tr>\n",
       "    <tr>\n",
       "      <th>3136</th>\n",
       "      <td>lostbehelit</td>\n",
       "      <td>Stoicism</td>\n",
       "      <td>How does a stoic approach tackling the feelings of guilt and shame?</td>\n",
       "      <td>[removed]</td>\n",
       "      <td>1643109357</td>\n",
       "      <td>scbe4w</td>\n",
       "    </tr>\n",
       "  </tbody>\n",
       "</table>\n",
       "</div>"
      ],
      "text/plain": [
       "                    author subreddit  \\\n",
       "3099             deearpeas  Stoicism   \n",
       "3105       aSimpleTraveler  Stoicism   \n",
       "3110           CRBthoughts  Stoicism   \n",
       "3111               cybrexi  Stoicism   \n",
       "3113      he_sayn_who_sayn  Stoicism   \n",
       "3114         neon_protocol  Stoicism   \n",
       "3116           007_BMT216A  Stoicism   \n",
       "3117            supertempo  Stoicism   \n",
       "3121     absolute_degen210  Stoicism   \n",
       "3123         QuesadillaRob  Stoicism   \n",
       "3125  ChrysolorasOfCorsica  Stoicism   \n",
       "3127     SatisfactionNo183  Stoicism   \n",
       "3128    driftingintothebag  Stoicism   \n",
       "3131            Prokopton2  Stoicism   \n",
       "3136           lostbehelit  Stoicism   \n",
       "\n",
       "                                                                             title  \\\n",
       "3099                                                          It’s hard to be kind   \n",
       "3105                                              The Gambler: A stoic meditation?   \n",
       "3110                                      Fabius: \"I didn’t think it would happen\"   \n",
       "3111                                                            Best books to read   \n",
       "3113                                                            Whats your mantra?   \n",
       "3114                                                           A time of struggle?   \n",
       "3116                  Am I upholding stoic values during these types of scenarios?   \n",
       "3117                   Negative visualization *after* an event is really effective   \n",
       "3121             How do you apply to your life the quote \"choose not to be harmed\"   \n",
       "3123                                                    Things Can Easily Flatspin   \n",
       "3125                                          A Meditation on Efforts and Outcomes   \n",
       "3127                                                         Please hear my story.   \n",
       "3128  How do Stoics deal with social media addiction and the need for stimulation?   \n",
       "3131                                                             I was overwhelmed   \n",
       "3136           How does a stoic approach tackling the feelings of guilt and shame?   \n",
       "\n",
       "       selftext  created_utc      id  \n",
       "3099  [removed]   1643218397  sdbfmc  \n",
       "3105  [removed]   1643208204  sd7j50  \n",
       "3110  [removed]   1643189237  sd212m  \n",
       "3111  [removed]   1643182867  sd0hvt  \n",
       "3113  [removed]   1643174793  scybt7  \n",
       "3114  [removed]   1643173614  scxzc6  \n",
       "3116  [removed]   1643167571  scw2gw  \n",
       "3117  [removed]   1643164506  scv0nb  \n",
       "3121  [removed]   1643157329  scsiw2  \n",
       "3123  [removed]   1643151034  scq7vl  \n",
       "3125  [removed]   1643145377  sco5vy  \n",
       "3127  [removed]   1643136834  scky5g  \n",
       "3128  [removed]   1643136413  scksd3  \n",
       "3131  [removed]   1643125749  scgpuk  \n",
       "3136  [removed]   1643109357  scbe4w  "
      ]
     },
     "execution_count": 96,
     "metadata": {},
     "output_type": "execute_result"
    }
   ],
   "source": [
    "dup_rows.iloc[200:215, :]"
   ]
  },
  {
   "cell_type": "code",
   "execution_count": 97,
   "id": "1d6496f9-7607-4531-96d4-046bf134f6d8",
   "metadata": {
    "scrolled": true,
    "tags": []
   },
   "outputs": [
    {
     "data": {
      "text/html": [
       "<div>\n",
       "<style scoped>\n",
       "    .dataframe tbody tr th:only-of-type {\n",
       "        vertical-align: middle;\n",
       "    }\n",
       "\n",
       "    .dataframe tbody tr th {\n",
       "        vertical-align: top;\n",
       "    }\n",
       "\n",
       "    .dataframe thead th {\n",
       "        text-align: right;\n",
       "    }\n",
       "</style>\n",
       "<table border=\"1\" class=\"dataframe\">\n",
       "  <thead>\n",
       "    <tr style=\"text-align: right;\">\n",
       "      <th></th>\n",
       "      <th>author</th>\n",
       "      <th>subreddit</th>\n",
       "      <th>title</th>\n",
       "      <th>selftext</th>\n",
       "      <th>created_utc</th>\n",
       "      <th>id</th>\n",
       "    </tr>\n",
       "  </thead>\n",
       "  <tbody>\n",
       "    <tr>\n",
       "      <th>9503</th>\n",
       "      <td>freedemocracy2021</td>\n",
       "      <td>Stoicism</td>\n",
       "      <td>Why We are Addicted to Murder Porn</td>\n",
       "      <td>[removed]</td>\n",
       "      <td>1622605794</td>\n",
       "      <td>nqcniq</td>\n",
       "    </tr>\n",
       "    <tr>\n",
       "      <th>9513</th>\n",
       "      <td>Web_Tech_Enthusiast</td>\n",
       "      <td>Stoicism</td>\n",
       "      <td>Jordan Peterson - Memento mori</td>\n",
       "      <td>[removed]</td>\n",
       "      <td>1622571690</td>\n",
       "      <td>nq0qkc</td>\n",
       "    </tr>\n",
       "    <tr>\n",
       "      <th>9544</th>\n",
       "      <td>YesImeanitx1000</td>\n",
       "      <td>Stoicism</td>\n",
       "      <td>Acceptance</td>\n",
       "      <td>[removed]</td>\n",
       "      <td>1622486914</td>\n",
       "      <td>npaepa</td>\n",
       "    </tr>\n",
       "    <tr>\n",
       "      <th>9574</th>\n",
       "      <td>CoderLifterz</td>\n",
       "      <td>Stoicism</td>\n",
       "      <td>How to improve socially?</td>\n",
       "      <td>[removed]</td>\n",
       "      <td>1622388942</td>\n",
       "      <td>nodobi</td>\n",
       "    </tr>\n",
       "    <tr>\n",
       "      <th>9604</th>\n",
       "      <td>downwardfox</td>\n",
       "      <td>Stoicism</td>\n",
       "      <td>After reading Seneca's letters (while having covid), I came up with this.</td>\n",
       "      <td>[removed]</td>\n",
       "      <td>1622308736</td>\n",
       "      <td>nnrzrz</td>\n",
       "    </tr>\n",
       "    <tr>\n",
       "      <th>9673</th>\n",
       "      <td>StoicSpacePirate</td>\n",
       "      <td>Stoicism</td>\n",
       "      <td>Best avialable works/translations - Epicurus</td>\n",
       "      <td>[removed]</td>\n",
       "      <td>1622109778</td>\n",
       "      <td>nm42kj</td>\n",
       "    </tr>\n",
       "    <tr>\n",
       "      <th>9674</th>\n",
       "      <td>StoicSpacePirate</td>\n",
       "      <td>Stoicism</td>\n",
       "      <td>Best writings of Epicurus?</td>\n",
       "      <td>[removed]</td>\n",
       "      <td>1622108192</td>\n",
       "      <td>nm3py6</td>\n",
       "    </tr>\n",
       "    <tr>\n",
       "      <th>9686</th>\n",
       "      <td>Superb_Cook6909</td>\n",
       "      <td>Stoicism</td>\n",
       "      <td>Stoic practical advice on achieving calm?</td>\n",
       "      <td>[removed]</td>\n",
       "      <td>1622078060</td>\n",
       "      <td>nlwcpz</td>\n",
       "    </tr>\n",
       "    <tr>\n",
       "      <th>9731</th>\n",
       "      <td>StoicSpacePirate</td>\n",
       "      <td>Stoicism</td>\n",
       "      <td>Why did this way of thinking/living not strive?</td>\n",
       "      <td>[removed]</td>\n",
       "      <td>1621980960</td>\n",
       "      <td>nl1iip</td>\n",
       "    </tr>\n",
       "    <tr>\n",
       "      <th>9735</th>\n",
       "      <td>Emergency-Ad5118</td>\n",
       "      <td>Stoicism</td>\n",
       "      <td>Ten Relaxation Techniques</td>\n",
       "      <td>[removed]</td>\n",
       "      <td>1621971759</td>\n",
       "      <td>nky8lj</td>\n",
       "    </tr>\n",
       "    <tr>\n",
       "      <th>9741</th>\n",
       "      <td>n5tonhf</td>\n",
       "      <td>Stoicism</td>\n",
       "      <td>Camus' Suicide Solution- The Absurdist Philosophy</td>\n",
       "      <td>[removed]</td>\n",
       "      <td>1621961348</td>\n",
       "      <td>nkuamh</td>\n",
       "    </tr>\n",
       "    <tr>\n",
       "      <th>9779</th>\n",
       "      <td>Psychedelic_Retard7</td>\n",
       "      <td>Stoicism</td>\n",
       "      <td>Do you have a problem with caring too much? Here is how I managed to control it</td>\n",
       "      <td>[removed]</td>\n",
       "      <td>1621848915</td>\n",
       "      <td>njtysy</td>\n",
       "    </tr>\n",
       "    <tr>\n",
       "      <th>9847</th>\n",
       "      <td>meintellectualan</td>\n",
       "      <td>Stoicism</td>\n",
       "      <td>[Book] When breath becomes air - good reflection on \"remember death\"</td>\n",
       "      <td>[removed]</td>\n",
       "      <td>1621633738</td>\n",
       "      <td>ni3sgi</td>\n",
       "    </tr>\n",
       "    <tr>\n",
       "      <th>9942</th>\n",
       "      <td>RevolutionaryGrab113</td>\n",
       "      <td>Stoicism</td>\n",
       "      <td>How to stop taking life for granted and never forget how priceless is our time</td>\n",
       "      <td>[removed]</td>\n",
       "      <td>1621348069</td>\n",
       "      <td>nfc3ro</td>\n",
       "    </tr>\n",
       "    <tr>\n",
       "      <th>9947</th>\n",
       "      <td>Current_Bonus</td>\n",
       "      <td>Stoicism</td>\n",
       "      <td>When you are reminded of your weakness or mistakes again and again.</td>\n",
       "      <td>[removed]</td>\n",
       "      <td>1621340851</td>\n",
       "      <td>nf9epf</td>\n",
       "    </tr>\n",
       "  </tbody>\n",
       "</table>\n",
       "</div>"
      ],
      "text/plain": [
       "                    author subreddit  \\\n",
       "9503     freedemocracy2021  Stoicism   \n",
       "9513   Web_Tech_Enthusiast  Stoicism   \n",
       "9544       YesImeanitx1000  Stoicism   \n",
       "9574          CoderLifterz  Stoicism   \n",
       "9604           downwardfox  Stoicism   \n",
       "9673      StoicSpacePirate  Stoicism   \n",
       "9674      StoicSpacePirate  Stoicism   \n",
       "9686       Superb_Cook6909  Stoicism   \n",
       "9731      StoicSpacePirate  Stoicism   \n",
       "9735      Emergency-Ad5118  Stoicism   \n",
       "9741               n5tonhf  Stoicism   \n",
       "9779   Psychedelic_Retard7  Stoicism   \n",
       "9847      meintellectualan  Stoicism   \n",
       "9942  RevolutionaryGrab113  Stoicism   \n",
       "9947         Current_Bonus  Stoicism   \n",
       "\n",
       "                                                                                title  \\\n",
       "9503                                               Why We are Addicted to Murder Porn   \n",
       "9513                                                   Jordan Peterson - Memento mori   \n",
       "9544                                                                       Acceptance   \n",
       "9574                                                         How to improve socially?   \n",
       "9604        After reading Seneca's letters (while having covid), I came up with this.   \n",
       "9673                                     Best avialable works/translations - Epicurus   \n",
       "9674                                                       Best writings of Epicurus?   \n",
       "9686                                        Stoic practical advice on achieving calm?   \n",
       "9731                                  Why did this way of thinking/living not strive?   \n",
       "9735                                                        Ten Relaxation Techniques   \n",
       "9741                                Camus' Suicide Solution- The Absurdist Philosophy   \n",
       "9779  Do you have a problem with caring too much? Here is how I managed to control it   \n",
       "9847             [Book] When breath becomes air - good reflection on \"remember death\"   \n",
       "9942   How to stop taking life for granted and never forget how priceless is our time   \n",
       "9947              When you are reminded of your weakness or mistakes again and again.   \n",
       "\n",
       "       selftext  created_utc      id  \n",
       "9503  [removed]   1622605794  nqcniq  \n",
       "9513  [removed]   1622571690  nq0qkc  \n",
       "9544  [removed]   1622486914  npaepa  \n",
       "9574  [removed]   1622388942  nodobi  \n",
       "9604  [removed]   1622308736  nnrzrz  \n",
       "9673  [removed]   1622109778  nm42kj  \n",
       "9674  [removed]   1622108192  nm3py6  \n",
       "9686  [removed]   1622078060  nlwcpz  \n",
       "9731  [removed]   1621980960  nl1iip  \n",
       "9735  [removed]   1621971759  nky8lj  \n",
       "9741  [removed]   1621961348  nkuamh  \n",
       "9779  [removed]   1621848915  njtysy  \n",
       "9847  [removed]   1621633738  ni3sgi  \n",
       "9942  [removed]   1621348069  nfc3ro  \n",
       "9947  [removed]   1621340851  nf9epf  "
      ]
     },
     "execution_count": 97,
     "metadata": {},
     "output_type": "execute_result"
    }
   ],
   "source": [
    "dup_rows.iloc[400:415, :]"
   ]
  },
  {
   "cell_type": "markdown",
   "id": "6ee032e0-dba8-4aa0-9276-f11fffb69b26",
   "metadata": {},
   "source": [
    "Looking at random duplicated columns, we can observe the following - \n",
    "* There are posts which can still be considered as duplicated post by the same author. There are differences (e.g: spelling correction, removal/addition of puncutation or rephrasing of the sentence) which earlier data cleaning did not pick up.\n",
    "* Secondly, further consideration can be made to remove duplicates between `author` and `selftext`. In this scenario, the author posted the same content under a different title. \n",
    "* Next, there are posts of the same `title` and `selftext` but with different `author`. It is unlikely a coincidence and could mean the same person posted the content under a different account. Further exploration could be made to narrow these post down. \n",
    "* Lastly, there are [deleted] and [removed] in the `selftext` column. This means either the `author` has removed the content, or is deleted by the moderator after posting. \n",
    "\n",
    "We will treat duplicated rows with `[deleted]` and `[removed]`. They are considered noise and should be removed before further processing. These will be replaced by NaN. The `title` and `selftext` columns will be merged later.\n",
    "\n",
    "All the NaN will be replaced with a blank. Other unwanted characters such as ? or . will be removed using `regex` later"
   ]
  },
  {
   "cell_type": "code",
   "execution_count": 98,
   "id": "7ce8e773-0ff5-463a-a0bc-6de625717e41",
   "metadata": {},
   "outputs": [],
   "source": [
    "# replace [removed] with NaN\n",
    "df1['selftext'].replace(['[removed]'], np.nan, inplace=True)"
   ]
  },
  {
   "cell_type": "code",
   "execution_count": 99,
   "id": "d1d64566-9505-4c01-9842-9f1047d5d1dc",
   "metadata": {},
   "outputs": [],
   "source": [
    "# replace [removed] with NaN\n",
    "df1['selftext'].replace(['[deleted]'], np.nan, inplace=True)"
   ]
  },
  {
   "cell_type": "markdown",
   "id": "08dbe09c-b04c-42ca-b7ac-dff89c32ccd2",
   "metadata": {},
   "source": [
    "Perform the same treatment for r/Buddism"
   ]
  },
  {
   "cell_type": "code",
   "execution_count": 100,
   "id": "6071cb32-cf17-4a15-9e2e-b3b6cebbe2ab",
   "metadata": {},
   "outputs": [],
   "source": [
    "df2['selftext'].replace(['[removed]'], np.nan, inplace=True)"
   ]
  },
  {
   "cell_type": "code",
   "execution_count": 101,
   "id": "d6adc6d1-107c-4bc6-a945-d3fd36cc0a26",
   "metadata": {},
   "outputs": [],
   "source": [
    "df2['selftext'].replace(['[deleted]'], np.nan, inplace=True)"
   ]
  },
  {
   "cell_type": "markdown",
   "id": "09fb6b78-fd4a-43e5-b87f-10f0f3dbd7ce",
   "metadata": {},
   "source": [
    "Replace NaN with blank for both subreddits"
   ]
  },
  {
   "cell_type": "code",
   "execution_count": 102,
   "id": "faff5100-19a9-4ba1-80b5-ae07aa2ad9a3",
   "metadata": {},
   "outputs": [],
   "source": [
    "# replace NaN with blank\n",
    "df1['selftext'].fillna('', inplace=True)"
   ]
  },
  {
   "cell_type": "code",
   "execution_count": 103,
   "id": "cc15fea4-e5d4-46c2-8b98-197618eb985c",
   "metadata": {},
   "outputs": [],
   "source": [
    "df2['selftext'].fillna('', inplace=True)"
   ]
  },
  {
   "cell_type": "code",
   "execution_count": 104,
   "id": "93640b0f-e4fb-41cc-9829-63323ba4e84d",
   "metadata": {},
   "outputs": [
    {
     "data": {
      "text/plain": [
       "0"
      ]
     },
     "execution_count": 104,
     "metadata": {},
     "output_type": "execute_result"
    }
   ],
   "source": [
    "# verify that nulls are filled\n",
    "df1['selftext'].isnull().sum()"
   ]
  },
  {
   "cell_type": "code",
   "execution_count": 105,
   "id": "e543cc8c-558e-4600-a8e3-4d24c1de1c04",
   "metadata": {},
   "outputs": [
    {
     "data": {
      "text/plain": [
       "0"
      ]
     },
     "execution_count": 105,
     "metadata": {},
     "output_type": "execute_result"
    }
   ],
   "source": [
    "df2['selftext'].isnull().sum()"
   ]
  },
  {
   "cell_type": "markdown",
   "id": "f7d879a8-42a1-4903-94b7-dc058bd90f47",
   "metadata": {},
   "source": [
    "## Exploratory Data Analysis\n",
    "---"
   ]
  },
  {
   "cell_type": "markdown",
   "id": "41727da6-5912-4b8d-9952-ac1a81a9c6ec",
   "metadata": {},
   "source": [
    "### Date of posts"
   ]
  },
  {
   "cell_type": "code",
   "execution_count": 106,
   "id": "ba62dc16-234c-4807-95a8-228e70d7c6a8",
   "metadata": {},
   "outputs": [
    {
     "data": {
      "text/plain": [
       "(9817, 6)"
      ]
     },
     "execution_count": 106,
     "metadata": {},
     "output_type": "execute_result"
    }
   ],
   "source": [
    "# verify the rows and columns\n",
    "df1.shape"
   ]
  },
  {
   "cell_type": "code",
   "execution_count": 107,
   "id": "8f6da569-ec4b-435c-add3-5baf0ae856ae",
   "metadata": {},
   "outputs": [
    {
     "data": {
      "text/plain": [
       "(9798, 6)"
      ]
     },
     "execution_count": 107,
     "metadata": {},
     "output_type": "execute_result"
    }
   ],
   "source": [
    "# verify the rows and columns\n",
    "df2.shape"
   ]
  },
  {
   "cell_type": "code",
   "execution_count": 108,
   "id": "5eeb09b2-6d5f-4db3-9d0a-82a879aa74d3",
   "metadata": {},
   "outputs": [
    {
     "data": {
      "text/plain": [
       "0      2022-06-23 17:25:38\n",
       "1      2022-06-23 17:23:58\n",
       "2      2022-06-23 17:03:47\n",
       "3      2022-06-23 16:51:41\n",
       "4      2022-06-23 16:37:52\n",
       "               ...        \n",
       "9987   2022-01-06 20:46:49\n",
       "9988   2022-01-06 20:38:45\n",
       "9989   2022-01-06 20:29:05\n",
       "9990   2022-01-06 20:20:19\n",
       "9991   2022-01-06 18:30:37\n",
       "Name: created_date, Length: 9798, dtype: datetime64[ns]"
      ]
     },
     "execution_count": 108,
     "metadata": {},
     "output_type": "execute_result"
    }
   ],
   "source": [
    "# convert epoch to datetime format\n",
    "epoch_to_date(df1)\n",
    "epoch_to_date(df2)"
   ]
  },
  {
   "cell_type": "code",
   "execution_count": 109,
   "id": "8c68c0a1-34bf-46f7-8f06-067923ee7c9a",
   "metadata": {},
   "outputs": [
    {
     "data": {
      "text/plain": [
       "array(['2022-06-23T17:25:38.000000000', '2022-06-23T17:23:58.000000000',\n",
       "       '2022-06-23T17:03:47.000000000', ...,\n",
       "       '2022-01-06T20:29:05.000000000', '2022-01-06T20:20:19.000000000',\n",
       "       '2022-01-06T18:30:37.000000000'], dtype='datetime64[ns]')"
      ]
     },
     "execution_count": 109,
     "metadata": {},
     "output_type": "execute_result"
    }
   ],
   "source": [
    "df2['created_date'].unique()"
   ]
  },
  {
   "cell_type": "code",
   "execution_count": 110,
   "id": "01c667dc-6176-452e-9a8b-c62459f36dc9",
   "metadata": {},
   "outputs": [
    {
     "name": "stdout",
     "output_type": "stream",
     "text": [
      "2021-05-17 05:22:21\n",
      "2022-06-23 17:01:43\n"
     ]
    }
   ],
   "source": [
    "# determine the date range of the posts extracted\n",
    "print(df1['created_date'].min())\n",
    "print(df1['created_date'].max())"
   ]
  },
  {
   "cell_type": "code",
   "execution_count": 111,
   "id": "fc308745-5dc7-4fb4-a715-a13c6fb10ced",
   "metadata": {},
   "outputs": [
    {
     "name": "stdout",
     "output_type": "stream",
     "text": [
      "2022-01-06 18:30:37\n",
      "2022-06-23 17:25:38\n"
     ]
    }
   ],
   "source": [
    "# determine the date range of the posts extracted\n",
    "print(df2['created_date'].min())\n",
    "print(df2['created_date'].max())"
   ]
  },
  {
   "cell_type": "markdown",
   "id": "8ba5b9f7-358b-4f09-ae86-95f64b3490ae",
   "metadata": {},
   "source": [
    "Given the same number of post extracted, the range of the date is quite difference between the two subreddits - \n",
    "* r/Stocism data is extracted between 2021-05-17 to 2022-06-24, based on 9817 posts after initial cleaning\n",
    "* r/Buddism data is extracted between 2022-01-07 to 2022-06-24 based on 9798 posts after initial cleaning\n",
    "* The difference between the oldest post in r/Stocism and r/Buddism is roughly 8 months, with r/Stocism having the older post. r/Buddism has 34% more members which could explain the increased activity."
   ]
  },
  {
   "cell_type": "markdown",
   "id": "abcc6297-a3b6-4b96-aabb-d348b6dfbfe8",
   "metadata": {},
   "source": [
    "### Word cloud"
   ]
  },
  {
   "cell_type": "markdown",
   "id": "d6f5483d-a199-425d-b1f9-1957a7946f5d",
   "metadata": {},
   "source": [
    "Word cloud provides a visual overview of the most popular word in each subreddit (without stopword)"
   ]
  },
  {
   "cell_type": "code",
   "execution_count": 112,
   "id": "fc3023a7-49bc-4604-8c45-ec92365b23ab",
   "metadata": {},
   "outputs": [
    {
     "data": {
      "image/png": "[encoded data removed]",
      "text/plain": [
       "<Figure size 864x864 with 1 Axes>"
      ]
     },
     "metadata": {
      "needs_background": "light"
     },
     "output_type": "display_data"
    }
   ],
   "source": [
    "# word cloud for r/Stoicism\n",
    "show_wordcloud(df1['title'])"
   ]
  },
  {
   "cell_type": "code",
   "execution_count": 113,
   "id": "50aeb2f1-9ed8-4750-b055-3d665f219cde",
   "metadata": {},
   "outputs": [
    {
     "data": {
      "image/png": "[encoded data removed]",
      "text/plain": [
       "<Figure size 864x864 with 1 Axes>"
      ]
     },
     "metadata": {
      "needs_background": "light"
     },
     "output_type": "display_data"
    }
   ],
   "source": [
    "# word cloud for r/Buddhism\n",
    "show_wordcloud(df2['title'])"
   ]
  },
  {
   "cell_type": "markdown",
   "id": "f270f38c-08db-44e2-9e15-ddab1581d6ff",
   "metadata": {},
   "source": [
    "Some observation can be made here - It is no surprise that `Stoic` and `Buddhism`/ `Buddhist` appears as the most mentioned word in their respective subreddit. We will explore other top most occuring words.\n",
    "\n",
    "Curiously, words such as `Quotes`, `Ryan`, and `Experience` appears as the most frequent word in r/Stocism. Pairing these words with `stocism`, research shows that Ryan Holiday is an author of a popular book 'The Daily Stoic' which offers stocisim excercises and insights from many philosophers. Next, Joe Rogan is a podcaster has hosted subjects on stocism on his podcast titled 'The Joe Rogan Experience'.\n",
    "\n",
    "In r/Buddhism, `Abdomen` is one of the key muscle groups in certain meditation poses and to acheive controlled breathing techniques. Buddhists believe that human life is a cycle of suffering and rebirth and could explain the keyword `life`. Similarly, `water` symbolises purity, clarity and calmness in buddhism. \n",
    "\n",
    "By looking at this the keywords, initial insights suggests that r/Stocisim focuses on the covering the content from 'The Daily Stoic' and the podcasts 'The Joe Rogan Experience'. It also seems that dealing with rejection or guilt may be part of the common topics.\n",
    "\n",
    "In r/Buddism, the keywords suggest that meditation and the concept of life and suffering is frequently mentioned.\n",
    "\n",
    "We are able to use this information to provide the relevant phrases or quotes to the User - for example, if the person has conflicted feelings he/she is dealing with, we may choose to provide excersises from the 'The Daily Stoic' to practice or be reflected on. Whereas if a person is feeling overwhelmed with life or seek to meditate or seek peacefulness, we may choose to provide relevant Buddhism phrases to the User.\n",
    "\n",
    "https://spice.fsi.stanford.edu/docs/introduction_to_buddhism  \n",
    "https://www.buddhanet.net/vmed_2.htm  \n",
    "https://swedishwaterhouse.se/wp-content/uploads/The-significance-of-water-Buddhism_-ENG-and-SVE.pdf\n",
    " "
   ]
  },
  {
   "cell_type": "markdown",
   "id": "3122d4c7-bcfd-480b-b484-e0730d6e0daf",
   "metadata": {},
   "source": [
    "### Top authors"
   ]
  },
  {
   "cell_type": "code",
   "execution_count": 114,
   "id": "618a42dd-d3ad-463f-8b6b-9163abeaae12",
   "metadata": {},
   "outputs": [],
   "source": [
    "def top_author(df):\n",
    "    \"\"\"\n",
    "    Get the number and percentage of the post made by top 10 author in a subreddit\n",
    "    \"\"\"\n",
    "    count = df['author'].value_counts().head(10)\n",
    "    percent = round(df['author'].value_counts().head(10)/ len(df)*100,2)\n",
    "    total = pd.concat([count, percent], axis=1,\n",
    "                  keys=['count', 'percentage'])\n",
    "    return total"
   ]
  },
  {
   "cell_type": "code",
   "execution_count": 115,
   "id": "87cfc579-ab33-4bb1-bed7-56f233af8fe0",
   "metadata": {},
   "outputs": [
    {
     "data": {
      "text/html": [
       "<div>\n",
       "<style scoped>\n",
       "    .dataframe tbody tr th:only-of-type {\n",
       "        vertical-align: middle;\n",
       "    }\n",
       "\n",
       "    .dataframe tbody tr th {\n",
       "        vertical-align: top;\n",
       "    }\n",
       "\n",
       "    .dataframe thead th {\n",
       "        text-align: right;\n",
       "    }\n",
       "</style>\n",
       "<table border=\"1\" class=\"dataframe\">\n",
       "  <thead>\n",
       "    <tr style=\"text-align: right;\">\n",
       "      <th></th>\n",
       "      <th>count</th>\n",
       "      <th>percentage</th>\n",
       "    </tr>\n",
       "  </thead>\n",
       "  <tbody>\n",
       "    <tr>\n",
       "      <th>SolutionsCBT</th>\n",
       "      <td>82</td>\n",
       "      <td>0.84</td>\n",
       "    </tr>\n",
       "    <tr>\n",
       "      <th>Samuelhoffmann</th>\n",
       "      <td>55</td>\n",
       "      <td>0.56</td>\n",
       "    </tr>\n",
       "    <tr>\n",
       "      <th>alternatekicks87</th>\n",
       "      <td>51</td>\n",
       "      <td>0.52</td>\n",
       "    </tr>\n",
       "    <tr>\n",
       "      <th>pest_throwaw</th>\n",
       "      <td>49</td>\n",
       "      <td>0.50</td>\n",
       "    </tr>\n",
       "    <tr>\n",
       "      <th>[deleted]</th>\n",
       "      <td>48</td>\n",
       "      <td>0.49</td>\n",
       "    </tr>\n",
       "    <tr>\n",
       "      <th>GD_WoTS</th>\n",
       "      <td>43</td>\n",
       "      <td>0.44</td>\n",
       "    </tr>\n",
       "    <tr>\n",
       "      <th>SecretChaosFolder</th>\n",
       "      <td>42</td>\n",
       "      <td>0.43</td>\n",
       "    </tr>\n",
       "    <tr>\n",
       "      <th>Kromulent</th>\n",
       "      <td>32</td>\n",
       "      <td>0.33</td>\n",
       "    </tr>\n",
       "    <tr>\n",
       "      <th>Itshardtofindanametf</th>\n",
       "      <td>31</td>\n",
       "      <td>0.32</td>\n",
       "    </tr>\n",
       "    <tr>\n",
       "      <th>envatted_love</th>\n",
       "      <td>28</td>\n",
       "      <td>0.29</td>\n",
       "    </tr>\n",
       "  </tbody>\n",
       "</table>\n",
       "</div>"
      ],
      "text/plain": [
       "                      count  percentage\n",
       "SolutionsCBT             82        0.84\n",
       "Samuelhoffmann           55        0.56\n",
       "alternatekicks87         51        0.52\n",
       "pest_throwaw             49        0.50\n",
       "[deleted]                48        0.49\n",
       "GD_WoTS                  43        0.44\n",
       "SecretChaosFolder        42        0.43\n",
       "Kromulent                32        0.33\n",
       "Itshardtofindanametf     31        0.32\n",
       "envatted_love            28        0.29"
      ]
     },
     "execution_count": 115,
     "metadata": {},
     "output_type": "execute_result"
    }
   ],
   "source": [
    "# get the top 10 author in r/Stocism\n",
    "top_author(df1)"
   ]
  },
  {
   "cell_type": "code",
   "execution_count": 116,
   "id": "a2d2ce89-fc01-46d0-b4dc-1d84552cbebc",
   "metadata": {},
   "outputs": [
    {
     "data": {
      "text/html": [
       "<div>\n",
       "<style scoped>\n",
       "    .dataframe tbody tr th:only-of-type {\n",
       "        vertical-align: middle;\n",
       "    }\n",
       "\n",
       "    .dataframe tbody tr th {\n",
       "        vertical-align: top;\n",
       "    }\n",
       "\n",
       "    .dataframe thead th {\n",
       "        text-align: right;\n",
       "    }\n",
       "</style>\n",
       "<table border=\"1\" class=\"dataframe\">\n",
       "  <thead>\n",
       "    <tr style=\"text-align: right;\">\n",
       "      <th></th>\n",
       "      <th>count</th>\n",
       "      <th>percentage</th>\n",
       "    </tr>\n",
       "  </thead>\n",
       "  <tbody>\n",
       "    <tr>\n",
       "      <th>buddhadharmapractice</th>\n",
       "      <td>204</td>\n",
       "      <td>2.08</td>\n",
       "    </tr>\n",
       "    <tr>\n",
       "      <th>buddhadharmastudy</th>\n",
       "      <td>153</td>\n",
       "      <td>1.56</td>\n",
       "    </tr>\n",
       "    <tr>\n",
       "      <th>BuddhistFirst</th>\n",
       "      <td>132</td>\n",
       "      <td>1.35</td>\n",
       "    </tr>\n",
       "    <tr>\n",
       "      <th>Lethemyr</th>\n",
       "      <td>105</td>\n",
       "      <td>1.07</td>\n",
       "    </tr>\n",
       "    <tr>\n",
       "      <th>Rattedruide</th>\n",
       "      <td>100</td>\n",
       "      <td>1.02</td>\n",
       "    </tr>\n",
       "    <tr>\n",
       "      <th>kooka777</th>\n",
       "      <td>67</td>\n",
       "      <td>0.68</td>\n",
       "    </tr>\n",
       "    <tr>\n",
       "      <th>Old_Sick_Dead</th>\n",
       "      <td>65</td>\n",
       "      <td>0.66</td>\n",
       "    </tr>\n",
       "    <tr>\n",
       "      <th>SimonYap</th>\n",
       "      <td>52</td>\n",
       "      <td>0.53</td>\n",
       "    </tr>\n",
       "    <tr>\n",
       "      <th>Much_Walk1823</th>\n",
       "      <td>50</td>\n",
       "      <td>0.51</td>\n",
       "    </tr>\n",
       "    <tr>\n",
       "      <th>Jhana4</th>\n",
       "      <td>47</td>\n",
       "      <td>0.48</td>\n",
       "    </tr>\n",
       "  </tbody>\n",
       "</table>\n",
       "</div>"
      ],
      "text/plain": [
       "                      count  percentage\n",
       "buddhadharmapractice    204        2.08\n",
       "buddhadharmastudy       153        1.56\n",
       "BuddhistFirst           132        1.35\n",
       "Lethemyr                105        1.07\n",
       "Rattedruide             100        1.02\n",
       "kooka777                 67        0.68\n",
       "Old_Sick_Dead            65        0.66\n",
       "SimonYap                 52        0.53\n",
       "Much_Walk1823            50        0.51\n",
       "Jhana4                   47        0.48"
      ]
     },
     "execution_count": 116,
     "metadata": {},
     "output_type": "execute_result"
    }
   ],
   "source": [
    "# get top 10 author r/Buddism\n",
    "top_author(df2)"
   ]
  },
  {
   "cell_type": "markdown",
   "id": "ca26d9ac-2e86-4f7a-9513-95d1b312ca9d",
   "metadata": {},
   "source": [
    "No significance is seen in `author`. The top authors in each subreddits only contributed a small percentage of the post. This indicates the posts are usually made by a different person or account. "
   ]
  },
  {
   "cell_type": "code",
   "execution_count": 117,
   "id": "1348e5c3-3812-40cd-abaf-b2b081340682",
   "metadata": {},
   "outputs": [],
   "source": [
    "# Plot top 10 authors\n",
    "# plt.figure(figsize=(8,5))\n",
    "# ax = sns.countplot(y=df1['author'], order=df1['author'].value_counts().iloc[:10].index, palette='rocket')"
   ]
  },
  {
   "cell_type": "code",
   "execution_count": 118,
   "id": "08ae93c8-abee-4d41-abbe-1ca7057a809e",
   "metadata": {},
   "outputs": [],
   "source": [
    "# Plot top 10 authors \n",
    "# plt.figure(figsize=(8,5))\n",
    "# ax = sns.countplot(y=df2['author'], order=df2['author'].value_counts().iloc[:10].index, palette='rocket')"
   ]
  },
  {
   "cell_type": "code",
   "execution_count": 119,
   "id": "3bbc0b41-6c04-48f5-b723-e6d598cf33f1",
   "metadata": {},
   "outputs": [
    {
     "data": {
      "image/png": "[encoded data removed]",
      "text/plain": [
       "<Figure size 432x288 with 1 Axes>"
      ]
     },
     "metadata": {
      "needs_background": "light"
     },
     "output_type": "display_data"
    }
   ],
   "source": [
    "sns.histplot(df1['created_date'].dt.month);"
   ]
  },
  {
   "cell_type": "code",
   "execution_count": 120,
   "id": "f0789c45-d47b-48b4-a804-cfb7f3341bad",
   "metadata": {},
   "outputs": [
    {
     "data": {
      "image/png": "[encoded data removed]",
      "text/plain": [
       "<Figure size 432x288 with 1 Axes>"
      ]
     },
     "metadata": {
      "needs_background": "light"
     },
     "output_type": "display_data"
    }
   ],
   "source": [
    "sns.histplot(df2['created_date'].dt.month);"
   ]
  },
  {
   "cell_type": "markdown",
   "id": "d321af26-5dbf-47f6-9f39-bc7cc531a5a9",
   "metadata": {},
   "source": [
    "In r/Stoicism, there is an increased in posts in the June period compared the the rest of the month. Initial research could not find any link between the month of June and stoicism.  \n",
    "In r/Buddhism, the data collected suggests that posts only occured between Jan-June for the ~10,000 posts collected. It is unlikely this could happen because it has a sizable member. It is possible that the data extraction earlier could have went wrong. (To be looked into in the future).\n",
    "\n",
    "Overall, no significance is found between the date posted between the subreddits"
   ]
  },
  {
   "cell_type": "markdown",
   "id": "857e131c-fb66-425a-b56b-3c50ffe845bf",
   "metadata": {},
   "source": [
    "## Merging Dataframe \n",
    "---"
   ]
  },
  {
   "cell_type": "markdown",
   "id": "d6a43f54-87b4-4ffb-970e-9acf8c236168",
   "metadata": {},
   "source": [
    "After intial cleaning, both dataframe will be merged for further processing"
   ]
  },
  {
   "cell_type": "code",
   "execution_count": 122,
   "id": "91d46b6d-72e4-4a24-ba21-55dadbd13dc7",
   "metadata": {},
   "outputs": [],
   "source": [
    "# concat df from r/Stoicism and r/Buddhism\n",
    "combined_df = pd.concat([df1, df2])"
   ]
  },
  {
   "cell_type": "code",
   "execution_count": 123,
   "id": "60725ca6-26cb-46ce-bef6-0856a7a77358",
   "metadata": {},
   "outputs": [
    {
     "name": "stdout",
     "output_type": "stream",
     "text": [
      "(19615, 7)\n"
     ]
    },
    {
     "data": {
      "text/html": [
       "<div>\n",
       "<style scoped>\n",
       "    .dataframe tbody tr th:only-of-type {\n",
       "        vertical-align: middle;\n",
       "    }\n",
       "\n",
       "    .dataframe tbody tr th {\n",
       "        vertical-align: top;\n",
       "    }\n",
       "\n",
       "    .dataframe thead th {\n",
       "        text-align: right;\n",
       "    }\n",
       "</style>\n",
       "<table border=\"1\" class=\"dataframe\">\n",
       "  <thead>\n",
       "    <tr style=\"text-align: right;\">\n",
       "      <th></th>\n",
       "      <th>author</th>\n",
       "      <th>subreddit</th>\n",
       "      <th>title</th>\n",
       "      <th>selftext</th>\n",
       "      <th>created_utc</th>\n",
       "      <th>id</th>\n",
       "      <th>created_date</th>\n",
       "    </tr>\n",
       "  </thead>\n",
       "  <tbody>\n",
       "    <tr>\n",
       "      <th>0</th>\n",
       "      <td>tylerdhenry</td>\n",
       "      <td>Stoicism</td>\n",
       "      <td>Joe Rogan Experience #1836 - Ryan Holiday</td>\n",
       "      <td></td>\n",
       "      <td>1656003703</td>\n",
       "      <td>vj1nlr</td>\n",
       "      <td>2022-06-23 17:01:43</td>\n",
       "    </tr>\n",
       "    <tr>\n",
       "      <th>1</th>\n",
       "      <td>Kriispy66</td>\n",
       "      <td>Stoicism</td>\n",
       "      <td>Quotes from the man himself!</td>\n",
       "      <td></td>\n",
       "      <td>1656003060</td>\n",
       "      <td>vj1etd</td>\n",
       "      <td>2022-06-23 16:51:00</td>\n",
       "    </tr>\n",
       "    <tr>\n",
       "      <th>2</th>\n",
       "      <td>Tristan6252</td>\n",
       "      <td>Stoicism</td>\n",
       "      <td>Stoic approach to dealing with guilt. I got an internship but didn't tell my friend to increase my chances of getting it.</td>\n",
       "      <td>Recently, my friend and I were eagerly awaiting information regarding an internship opportunity from our lecturer in college. Upon receiving the details of the internship, we both seemed a little hesitant about applying and ultimately decided not to. If you don't get an internship for the next semester, you can do a certificate as a backup plan anyway, so we both weren't too concerned.\\n\\nHowever, on the final day to apply for the internship, I started to second-guess myself as I felt like I would be missing out on a huge opportunity to learn if I didn't at least try to get it. I also did a little more research into the job and it started to look more and more interesting the longer I looked into it, which I didn't mention to my friend. Ultimately, I decided to send in my CV and cover letter without notifying my friend and I got an email back to schedule an interview with the company which I did a few days later. Meanwhile, my friend doesn't know that I applied for the internship and thinks I'm doing the certificate with him because we both decided - on our own - that we just weren't interested in the jobs specifications.\\n\\nFast-forward a few more days and I end up getting the internship! I feel delighted to get it because I worked very hard throughout my course and I will put everything I can into this internship to make it worth my while and the companies time/resources. However, over the past few days, I've been feeling quite shameful and guilty because deep down, I know I didn't mention my application for the job to my friend because I knew that if he applied, there'd be a lower chance of me getting it. The more candidates, the less chance of winning, if that makes sense.\\n\\nI ended up telling him the truth a few days ago about the whole matter and deeply apologized to him for withholding information about the job and my application for it. He said that it was totally fine and that he would have probably done the same thing if he were in my shoes. He also mentioned that he just wasn't interested in the internship regardless. However, even him saying all this still doesn't allow my mind to rest. I feel incredible guilt over it and feel as though I don't deserve the internship because of it.  \\n\\n\\nThanks for reading all of this. I'd like to ask if any of you have some Stoic tips and insight to put my mind at ease?</td>\n",
       "      <td>1656000799</td>\n",
       "      <td>vj0jvj</td>\n",
       "      <td>2022-06-23 16:13:19</td>\n",
       "    </tr>\n",
       "  </tbody>\n",
       "</table>\n",
       "</div>"
      ],
      "text/plain": [
       "        author subreddit  \\\n",
       "0  tylerdhenry  Stoicism   \n",
       "1    Kriispy66  Stoicism   \n",
       "2  Tristan6252  Stoicism   \n",
       "\n",
       "                                                                                                                       title  \\\n",
       "0                                                                                  Joe Rogan Experience #1836 - Ryan Holiday   \n",
       "1                                                                                               Quotes from the man himself!   \n",
       "2  Stoic approach to dealing with guilt. I got an internship but didn't tell my friend to increase my chances of getting it.   \n",
       "\n",
       "                                                                                                                                                                                                                                                                                                                                                                                                                                                                                                                                                                                                                                                                                                                                                                                                                                                                                                                                                                                                                                                                                                                                                                                                                                                                                                                                                                                                                                                                                                                                                                                                                                                                                                                                                                                                                                                                                                                                                                                                                                                                                                                                                                                                                                                                                                                                                                                                                                                  selftext  \\\n",
       "0                                                                                                                                                                                                                                                                                                                                                                                                                                                                                                                                                                                                                                                                                                                                                                                                                                                                                                                                                                                                                                                                                                                                                                                                                                                                                                                                                                                                                                                                                                                                                                                                                                                                                                                                                                                                                                                                                                                                                                                                                                                                                                                                                                                                                                                                                                                                                                                                                                                            \n",
       "1                                                                                                                                                                                                                                                                                                                                                                                                                                                                                                                                                                                                                                                                                                                                                                                                                                                                                                                                                                                                                                                                                                                                                                                                                                                                                                                                                                                                                                                                                                                                                                                                                                                                                                                                                                                                                                                                                                                                                                                                                                                                                                                                                                                                                                                                                                                                                                                                                                                            \n",
       "2  Recently, my friend and I were eagerly awaiting information regarding an internship opportunity from our lecturer in college. Upon receiving the details of the internship, we both seemed a little hesitant about applying and ultimately decided not to. If you don't get an internship for the next semester, you can do a certificate as a backup plan anyway, so we both weren't too concerned.\\n\\nHowever, on the final day to apply for the internship, I started to second-guess myself as I felt like I would be missing out on a huge opportunity to learn if I didn't at least try to get it. I also did a little more research into the job and it started to look more and more interesting the longer I looked into it, which I didn't mention to my friend. Ultimately, I decided to send in my CV and cover letter without notifying my friend and I got an email back to schedule an interview with the company which I did a few days later. Meanwhile, my friend doesn't know that I applied for the internship and thinks I'm doing the certificate with him because we both decided - on our own - that we just weren't interested in the jobs specifications.\\n\\nFast-forward a few more days and I end up getting the internship! I feel delighted to get it because I worked very hard throughout my course and I will put everything I can into this internship to make it worth my while and the companies time/resources. However, over the past few days, I've been feeling quite shameful and guilty because deep down, I know I didn't mention my application for the job to my friend because I knew that if he applied, there'd be a lower chance of me getting it. The more candidates, the less chance of winning, if that makes sense.\\n\\nI ended up telling him the truth a few days ago about the whole matter and deeply apologized to him for withholding information about the job and my application for it. He said that it was totally fine and that he would have probably done the same thing if he were in my shoes. He also mentioned that he just wasn't interested in the internship regardless. However, even him saying all this still doesn't allow my mind to rest. I feel incredible guilt over it and feel as though I don't deserve the internship because of it.  \\n\\n\\nThanks for reading all of this. I'd like to ask if any of you have some Stoic tips and insight to put my mind at ease?   \n",
       "\n",
       "   created_utc      id        created_date  \n",
       "0   1656003703  vj1nlr 2022-06-23 17:01:43  \n",
       "1   1656003060  vj1etd 2022-06-23 16:51:00  \n",
       "2   1656000799  vj0jvj 2022-06-23 16:13:19  "
      ]
     },
     "execution_count": 123,
     "metadata": {},
     "output_type": "execute_result"
    }
   ],
   "source": [
    "print(combined_df.shape)\n",
    "combined_df.head(3)"
   ]
  },
  {
   "cell_type": "markdown",
   "id": "a5d9416e-c073-4724-821a-28fe6cd2abb1",
   "metadata": {},
   "source": [
    "## Merging `title` and `selftext`\n",
    "---"
   ]
  },
  {
   "cell_type": "markdown",
   "id": "965039df-4524-4bd1-a485-e42080ea4ee0",
   "metadata": {},
   "source": [
    "We wish to retain text from both columns, hence we will merge them into a column"
   ]
  },
  {
   "cell_type": "code",
   "execution_count": 124,
   "id": "e5a89157-2e22-4f3a-8dc6-5a8efd4bf748",
   "metadata": {},
   "outputs": [],
   "source": [
    "# create a new column 'content' by merging title and selftext\n",
    "combined_df['content'] = combined_df[['title', 'selftext']].apply(' '.join, axis=1)"
   ]
  },
  {
   "cell_type": "code",
   "execution_count": 125,
   "id": "dc5c5312-bbb6-4e70-ab3c-1d37c56232af",
   "metadata": {
    "scrolled": true,
    "tags": []
   },
   "outputs": [
    {
     "data": {
      "text/html": [
       "<div>\n",
       "<style scoped>\n",
       "    .dataframe tbody tr th:only-of-type {\n",
       "        vertical-align: middle;\n",
       "    }\n",
       "\n",
       "    .dataframe tbody tr th {\n",
       "        vertical-align: top;\n",
       "    }\n",
       "\n",
       "    .dataframe thead th {\n",
       "        text-align: right;\n",
       "    }\n",
       "</style>\n",
       "<table border=\"1\" class=\"dataframe\">\n",
       "  <thead>\n",
       "    <tr style=\"text-align: right;\">\n",
       "      <th></th>\n",
       "      <th>author</th>\n",
       "      <th>subreddit</th>\n",
       "      <th>title</th>\n",
       "      <th>selftext</th>\n",
       "      <th>created_utc</th>\n",
       "      <th>id</th>\n",
       "      <th>created_date</th>\n",
       "      <th>content</th>\n",
       "    </tr>\n",
       "  </thead>\n",
       "  <tbody>\n",
       "    <tr>\n",
       "      <th>8908</th>\n",
       "      <td>kooka777</td>\n",
       "      <td>Buddhism</td>\n",
       "      <td>Defeating army of Mara</td>\n",
       "      <td>Mendicants, I will teach you a path for crushing Māra’s army. Listen …\\n\\nAnd what is that path? It is the seven awakening factors. What seven? The awakening factors of mindfulness, investigation of principles, energy, rapture, tranquility, immersion, and equanimity. This is the path for crushing Māra’s army.”\\n\\n[source](https://suttacentral.net/sn46.43/en/sujato?layout=plain&amp;amp;reference=none&amp;amp;notes=asterisk&amp;amp;highlight=false&amp;amp;script=latin)</td>\n",
       "      <td>1643031392</td>\n",
       "      <td>sbmdit</td>\n",
       "      <td>2022-01-24 13:36:32</td>\n",
       "      <td>Defeating army of Mara Mendicants, I will teach you a path for crushing Māra’s army. Listen …\\n\\nAnd what is that path? It is the seven awakening factors. What seven? The awakening factors of mindfulness, investigation of principles, energy, rapture, tranquility, immersion, and equanimity. This is the path for crushing Māra’s army.”\\n\\n[source](https://suttacentral.net/sn46.43/en/sujato?layout=plain&amp;amp;reference=none&amp;amp;notes=asterisk&amp;amp;highlight=false&amp;amp;script=latin)</td>\n",
       "    </tr>\n",
       "    <tr>\n",
       "      <th>5978</th>\n",
       "      <td>Procariot</td>\n",
       "      <td>Stoicism</td>\n",
       "      <td>What do you think of misanthropy as a stoic?</td>\n",
       "      <td>I've had an interest in stoicism for quite a time since I was born naturaly aphatic, it kinda suits me. And I have read about it.\\n\\nBut Im not sure if I could apply some things. And in this case would be the concept of Oikeiosis. I cannot treat strangers as family because I dont trust people.\\n\\nI dont hate others because Im incapable of feeling hate. Im not really sure if the feeling of hate really exists or its just hyperbole for disagreeing. I just dont expect anything from others and assume they are evil. And generally Im right so thats not changing.</td>\n",
       "      <td>1633807786</td>\n",
       "      <td>q4s7rs</td>\n",
       "      <td>2021-10-09 19:29:46</td>\n",
       "      <td>What do you think of misanthropy as a stoic? I've had an interest in stoicism for quite a time since I was born naturaly aphatic, it kinda suits me. And I have read about it.\\n\\nBut Im not sure if I could apply some things. And in this case would be the concept of Oikeiosis. I cannot treat strangers as family because I dont trust people.\\n\\nI dont hate others because Im incapable of feeling hate. Im not really sure if the feeling of hate really exists or its just hyperbole for disagreeing. I just dont expect anything from others and assume they are evil. And generally Im right so thats not changing.</td>\n",
       "    </tr>\n",
       "    <tr>\n",
       "      <th>8560</th>\n",
       "      <td>Firelordozai87</td>\n",
       "      <td>Buddhism</td>\n",
       "      <td>How would our Zen brothers and sisters rate this quick run down of Zen?</td>\n",
       "      <td></td>\n",
       "      <td>1643490563</td>\n",
       "      <td>sfrs3d</td>\n",
       "      <td>2022-01-29 21:09:23</td>\n",
       "      <td>How would our Zen brothers and sisters rate this quick run down of Zen?</td>\n",
       "    </tr>\n",
       "  </tbody>\n",
       "</table>\n",
       "</div>"
      ],
      "text/plain": [
       "              author subreddit  \\\n",
       "8908        kooka777  Buddhism   \n",
       "5978       Procariot  Stoicism   \n",
       "8560  Firelordozai87  Buddhism   \n",
       "\n",
       "                                                                        title  \\\n",
       "8908                                                   Defeating army of Mara   \n",
       "5978                             What do you think of misanthropy as a stoic?   \n",
       "8560  How would our Zen brothers and sisters rate this quick run down of Zen?   \n",
       "\n",
       "                                                                                                                                                                                                                                                                                                                                                                                                                                                                                                                                                                               selftext  \\\n",
       "8908                                                                                                            Mendicants, I will teach you a path for crushing Māra’s army. Listen …\\n\\nAnd what is that path? It is the seven awakening factors. What seven? The awakening factors of mindfulness, investigation of principles, energy, rapture, tranquility, immersion, and equanimity. This is the path for crushing Māra’s army.”\\n\\n[source](https://suttacentral.net/sn46.43/en/sujato?layout=plain&amp;reference=none&amp;notes=asterisk&amp;highlight=false&amp;script=latin)   \n",
       "5978  I've had an interest in stoicism for quite a time since I was born naturaly aphatic, it kinda suits me. And I have read about it.\\n\\nBut Im not sure if I could apply some things. And in this case would be the concept of Oikeiosis. I cannot treat strangers as family because I dont trust people.\\n\\nI dont hate others because Im incapable of feeling hate. Im not really sure if the feeling of hate really exists or its just hyperbole for disagreeing. I just dont expect anything from others and assume they are evil. And generally Im right so thats not changing.   \n",
       "8560                                                                                                                                                                                                                                                                                                                                                                                                                                                                                                                                                                                      \n",
       "\n",
       "      created_utc      id        created_date  \\\n",
       "8908   1643031392  sbmdit 2022-01-24 13:36:32   \n",
       "5978   1633807786  q4s7rs 2021-10-09 19:29:46   \n",
       "8560   1643490563  sfrs3d 2022-01-29 21:09:23   \n",
       "\n",
       "                                                                                                                                                                                                                                                                                                                                                                                                                                                                                                                                                                                                                             content  \n",
       "8908                                                                                                                                  Defeating army of Mara Mendicants, I will teach you a path for crushing Māra’s army. Listen …\\n\\nAnd what is that path? It is the seven awakening factors. What seven? The awakening factors of mindfulness, investigation of principles, energy, rapture, tranquility, immersion, and equanimity. This is the path for crushing Māra’s army.”\\n\\n[source](https://suttacentral.net/sn46.43/en/sujato?layout=plain&amp;reference=none&amp;notes=asterisk&amp;highlight=false&amp;script=latin)  \n",
       "5978  What do you think of misanthropy as a stoic? I've had an interest in stoicism for quite a time since I was born naturaly aphatic, it kinda suits me. And I have read about it.\\n\\nBut Im not sure if I could apply some things. And in this case would be the concept of Oikeiosis. I cannot treat strangers as family because I dont trust people.\\n\\nI dont hate others because Im incapable of feeling hate. Im not really sure if the feeling of hate really exists or its just hyperbole for disagreeing. I just dont expect anything from others and assume they are evil. And generally Im right so thats not changing.  \n",
       "8560                                                                                                                                                                                                                                                                                                                                                                                                                                                                                                                                                        How would our Zen brothers and sisters rate this quick run down of Zen?   "
      ]
     },
     "execution_count": 125,
     "metadata": {},
     "output_type": "execute_result"
    }
   ],
   "source": [
    "# verify that collumn is created and merged\n",
    "combined_df.sample(3)"
   ]
  },
  {
   "cell_type": "code",
   "execution_count": 126,
   "id": "80d572c6-ff2c-4cd7-8621-cdb96009b696",
   "metadata": {},
   "outputs": [
    {
     "data": {
      "text/plain": [
       "Index(['author', 'subreddit', 'title', 'selftext', 'created_utc', 'id',\n",
       "       'created_date', 'content'],\n",
       "      dtype='object')"
      ]
     },
     "execution_count": 126,
     "metadata": {},
     "output_type": "execute_result"
    }
   ],
   "source": [
    "# verify remaining columns\n",
    "combined_df.columns"
   ]
  },
  {
   "cell_type": "markdown",
   "id": "f7650bdf-48df-42bf-8379-d23938518c5b",
   "metadata": {},
   "source": [
    "`author`, `title`, `selftext`, `created_utc` and `id` can now be dropped"
   ]
  },
  {
   "cell_type": "code",
   "execution_count": 127,
   "id": "0ec9c916-48e9-46d5-a0a8-e2a3e49be715",
   "metadata": {},
   "outputs": [],
   "source": [
    "# drop columns\n",
    "combined_df.drop(['author', 'title', 'selftext', 'created_utc', 'id'], axis=1, inplace=True)"
   ]
  },
  {
   "cell_type": "code",
   "execution_count": 128,
   "id": "1b459723-2a91-488b-8942-2d033a49fa50",
   "metadata": {},
   "outputs": [
    {
     "data": {
      "text/html": [
       "<div>\n",
       "<style scoped>\n",
       "    .dataframe tbody tr th:only-of-type {\n",
       "        vertical-align: middle;\n",
       "    }\n",
       "\n",
       "    .dataframe tbody tr th {\n",
       "        vertical-align: top;\n",
       "    }\n",
       "\n",
       "    .dataframe thead th {\n",
       "        text-align: right;\n",
       "    }\n",
       "</style>\n",
       "<table border=\"1\" class=\"dataframe\">\n",
       "  <thead>\n",
       "    <tr style=\"text-align: right;\">\n",
       "      <th></th>\n",
       "      <th>subreddit</th>\n",
       "      <th>created_date</th>\n",
       "      <th>content</th>\n",
       "    </tr>\n",
       "  </thead>\n",
       "  <tbody>\n",
       "    <tr>\n",
       "      <th>6970</th>\n",
       "      <td>Buddhism</td>\n",
       "      <td>2022-02-26 10:06:10</td>\n",
       "      <td>Manifesting money</td>\n",
       "    </tr>\n",
       "    <tr>\n",
       "      <th>4007</th>\n",
       "      <td>Stoicism</td>\n",
       "      <td>2021-12-23 22:21:14</td>\n",
       "      <td>What is stoicisms’ perspective on any necessary evil? Question</td>\n",
       "    </tr>\n",
       "    <tr>\n",
       "      <th>8387</th>\n",
       "      <td>Stoicism</td>\n",
       "      <td>2021-07-11 12:17:37</td>\n",
       "      <td>Stoic advice or mantras to deal with uncertain financial future I have decided I am going to drop my fulltime job to become a freelancer, things at work are rough, they found I am taking work on the side and are suspicious (even though our contract states I can do such)\\nIts not good for my mental wellbeing, it's costing me my peace, but this post isnt about that.\\n\\nDo you have any texts or quotes I can ground myself with when during times of drought of work, I dont lose my edge and confidence for having no clients?\\nI have work scheduled for the future but I want to prepare for a realistic view, that not everything may turn out roses, even though my business plan is solid in the big view of the year span.</td>\n",
       "    </tr>\n",
       "  </tbody>\n",
       "</table>\n",
       "</div>"
      ],
      "text/plain": [
       "     subreddit        created_date  \\\n",
       "6970  Buddhism 2022-02-26 10:06:10   \n",
       "4007  Stoicism 2021-12-23 22:21:14   \n",
       "8387  Stoicism 2021-07-11 12:17:37   \n",
       "\n",
       "                                                                                                                                                                                                                                                                                                                                                                                                                                                                                                                                                                                                                                                                                                                                           content  \n",
       "6970                                                                                                                                                                                                                                                                                                                                                                                                                                                                                                                                                                                                                                                                                                                            Manifesting money   \n",
       "4007                                                                                                                                                                                                                                                                                                                                                                                                                                                                                                                                                                                                                                                                                What is stoicisms’ perspective on any necessary evil? Question  \n",
       "8387  Stoic advice or mantras to deal with uncertain financial future I have decided I am going to drop my fulltime job to become a freelancer, things at work are rough, they found I am taking work on the side and are suspicious (even though our contract states I can do such)\\nIts not good for my mental wellbeing, it's costing me my peace, but this post isnt about that.\\n\\nDo you have any texts or quotes I can ground myself with when during times of drought of work, I dont lose my edge and confidence for having no clients?\\nI have work scheduled for the future but I want to prepare for a realistic view, that not everything may turn out roses, even though my business plan is solid in the big view of the year span.  "
      ]
     },
     "execution_count": 128,
     "metadata": {},
     "output_type": "execute_result"
    }
   ],
   "source": [
    "# verify remaining columns\n",
    "combined_df.sample(3)"
   ]
  },
  {
   "cell_type": "markdown",
   "id": "bb668232-695d-472f-9afb-15aa8fa003ea",
   "metadata": {},
   "source": [
    "## NLP Pre-Processing \n",
    "---"
   ]
  },
  {
   "cell_type": "markdown",
   "id": "17d3bbc8-ae06-421f-8f67-5137f6a7c49b",
   "metadata": {},
   "source": [
    "Since we are trying to train a model to identify between two possible responses - r/Stocisim and r/Buddhism, it is a binary classification and we will map the responses into 1 (r/Stoicism) and 0 (r/Buddhism). "
   ]
  },
  {
   "cell_type": "markdown",
   "id": "ba8376ad-7d8c-46d2-ac30-a17d42628ed5",
   "metadata": {},
   "source": [
    "### Map categorical feature"
   ]
  },
  {
   "cell_type": "code",
   "execution_count": 129,
   "id": "7c071625-94f8-4510-939c-d64c8fc1996d",
   "metadata": {},
   "outputs": [],
   "source": [
    "# map response variable\n",
    "combined_df['subreddit'] = combined_df['subreddit'].map({'Stoicism': 1, 'Buddhism':0})"
   ]
  },
  {
   "cell_type": "code",
   "execution_count": 130,
   "id": "5b6aa708-5651-4220-8703-094401ae5c59",
   "metadata": {},
   "outputs": [
    {
     "data": {
      "text/plain": [
       "array([1, 0], dtype=int64)"
      ]
     },
     "execution_count": 130,
     "metadata": {},
     "output_type": "execute_result"
    }
   ],
   "source": [
    "# verify mapping is performed \n",
    "combined_df['subreddit'].unique()"
   ]
  },
  {
   "cell_type": "markdown",
   "id": "c69fa3e7-4f38-4d24-bc79-411df75dd840",
   "metadata": {},
   "source": [
    "### Remove special characters, symbols"
   ]
  },
  {
   "cell_type": "markdown",
   "id": "da6b47ff-f338-4341-ac2f-69cbfe7288ef",
   "metadata": {},
   "source": [
    "Before inserting the text in modelling, we will have to strip away any symbols, special characters or numbers. The following code attempts to do that"
   ]
  },
  {
   "cell_type": "code",
   "execution_count": 131,
   "id": "50b6ac55-faa4-4a62-951c-ce1b144a8b71",
   "metadata": {},
   "outputs": [],
   "source": [
    "# apply regex function to clean text\n",
    "combined_df['content'] = combined_df['content'].apply(clean_text)"
   ]
  },
  {
   "cell_type": "code",
   "execution_count": 132,
   "id": "4be43d79-03d2-469b-96d5-5f1e0e299c31",
   "metadata": {},
   "outputs": [],
   "source": [
    "# apply regex function to remove all emojis and symbols\n",
    "combined_df['content'] = combined_df['content'].apply(remove_symbols)"
   ]
  },
  {
   "cell_type": "code",
   "execution_count": 133,
   "id": "85c8ebde-c038-4841-a5d0-9986ae861a60",
   "metadata": {},
   "outputs": [
    {
     "data": {
      "text/html": [
       "<div>\n",
       "<style scoped>\n",
       "    .dataframe tbody tr th:only-of-type {\n",
       "        vertical-align: middle;\n",
       "    }\n",
       "\n",
       "    .dataframe tbody tr th {\n",
       "        vertical-align: top;\n",
       "    }\n",
       "\n",
       "    .dataframe thead th {\n",
       "        text-align: right;\n",
       "    }\n",
       "</style>\n",
       "<table border=\"1\" class=\"dataframe\">\n",
       "  <thead>\n",
       "    <tr style=\"text-align: right;\">\n",
       "      <th></th>\n",
       "      <th>content</th>\n",
       "    </tr>\n",
       "  </thead>\n",
       "  <tbody>\n",
       "    <tr>\n",
       "      <th>9453</th>\n",
       "      <td>questions about karma so i am hindu born into hindu family but i dont exactly understand the concepts of karma fullyi have been dealing with intense guilt and shame for past actions since the last  months and desperate for reliefi did bad things i thought bad things and i said bad things in the pastbut now everytime i want to move forward with my life i think that i cant because this guilt is my karma that i deserve iti have irrational thoughts like if you get out of bed karma will come get you how do i deal with this im stuck in a cycle or self hatred and shame and guilt  have therapist i speak to about this and i speak with my mother about it but nothing is workingso these are my questionshow do i deal with my fear of karmais harming yourself part of your karma and is it what i deserve or is it giving you bad karma for example if i was to do something bad and then hurt myself purposefully would that be instant karmaam i misunderstanding karma</td>\n",
       "    </tr>\n",
       "    <tr>\n",
       "      <th>8249</th>\n",
       "      <td>what is the best way to deal with people who criticize you or who are just critical in general i think this is a big one that buddism teaches whether its criticism that is directed at me or not i can just feel the bad energy naturally you get defensive but it doesnt make things better i hear stuff like be compassionate and dont react</td>\n",
       "    </tr>\n",
       "    <tr>\n",
       "      <th>4564</th>\n",
       "      <td>i recently came across a song i believe is rather stoic i would love to hear your thoughts on it i posted a while ago asking about the nature of relationships and detatchment as a stoic i was told that you can love people but must accept that it may not be forever and thats ok recently i came across this song see lyrics below and i interpret it to be about the fleeting nature of life and that it is more beautiful because its fleeting rather than forever id love to hear your thoughts on this lyrics we were born to bloomdestined to deteriorateno beauty in plastic flowersno honey made from fake bouquetswe were born to bloombut we were never meant to stayno wine from fruit made out of waxno honey made from fake bouquetswhat do they say about apples and treeshow do you grow when youre severed from the roots underneathand if the tether of love can never truly breakdid it slip from my hands the day you went awaywhy do they speak about a love that never diesand what the fuck do they know about the afterlifehave they ever spent the night screaming at the sky asking whywe were born to bloomdestined to deteriorateno beauty in plastic flowersno honey made from fake bouquetswe were born to bloombut we were never meant to stayno wine from fruit made out of waxno honey made from fake bouquetswhat do they say about the heart and its strengthwhat do you do when your love rots to into ragehow do you water the garden that famine takeshow do you feed your soul with dust and claywe blossom then wither like the rosedeath written into our blood like poemsa soliloquy of ancient ancestral painthe price of love paid over and over againwe were born to bloomdestined to deteriorateno beauty in plastic flowersno honey made from fake bouquetswe were born to bloombut we were never meant to stayno wine from fruit made out of waxno honey made from fake bouquetslove is watching the petals falllove is watching the petals falllove is watching the petals falllove is watching the petals fall</td>\n",
       "    </tr>\n",
       "    <tr>\n",
       "      <th>8316</th>\n",
       "      <td>apply stoicism from the previous post ive realized that we cant take everything stoics said as gospel and we shouldnt treat it as a religion but rather a guideline to base our actions on not something from which can get answers for every event in lifei want to know what are the lessons that you guys personally derived from this philosophy  share with me</td>\n",
       "    </tr>\n",
       "    <tr>\n",
       "      <th>5582</th>\n",
       "      <td>things had never been this bad i am going through a tough time and i had never felt this low ever university seems too tough for me i dont know if ill even pass i may end up being a disappointment to my parents my girlfriend is now interested in another guy the breakup is just a matter of time im just avoiding whats inevitable i have nothing to look forward toany kind of stoic advicerecommendations booksquotes will be appreciated thank you</td>\n",
       "    </tr>\n",
       "  </tbody>\n",
       "</table>\n",
       "</div>"
      ],
      "text/plain": [
       "                                                                                                                                                                                                                                                                                                                                                                                                                                                                                                                                                                                                                                                                                                                                                                                                                                                                                                                                                                                                                                                                                                                                                                                                                                                                                                                                                                                                                                                                                                                                                                                                                                                                                                                                                                                                                                                                                                                                                                                                                                                                  content\n",
       "9453                                                                                                                                                                                                                                                                                                                                                                                                                                                                                                                                                                                                                                                                                                                                                                                                                                                                                                                                                                                                                                                                       questions about karma so i am hindu born into hindu family but i dont exactly understand the concepts of karma fullyi have been dealing with intense guilt and shame for past actions since the last  months and desperate for reliefi did bad things i thought bad things and i said bad things in the pastbut now everytime i want to move forward with my life i think that i cant because this guilt is my karma that i deserve iti have irrational thoughts like if you get out of bed karma will come get you how do i deal with this im stuck in a cycle or self hatred and shame and guilt  have therapist i speak to about this and i speak with my mother about it but nothing is workingso these are my questionshow do i deal with my fear of karmais harming yourself part of your karma and is it what i deserve or is it giving you bad karma for example if i was to do something bad and then hurt myself purposefully would that be instant karmaam i misunderstanding karma\n",
       "8249                                                                                                                                                                                                                                                                                                                                                                                                                                                                                                                                                                                                                                                                                                                                                                                                                                                                                                                                                                                                                                                                                                                                                                                                                                                                                                                                                                                                                                                                                                                                                                                                                                                                                                                      what is the best way to deal with people who criticize you or who are just critical in general i think this is a big one that buddism teaches whether its criticism that is directed at me or not i can just feel the bad energy naturally you get defensive but it doesnt make things better i hear stuff like be compassionate and dont react\n",
       "4564  i recently came across a song i believe is rather stoic i would love to hear your thoughts on it i posted a while ago asking about the nature of relationships and detatchment as a stoic i was told that you can love people but must accept that it may not be forever and thats ok recently i came across this song see lyrics below and i interpret it to be about the fleeting nature of life and that it is more beautiful because its fleeting rather than forever id love to hear your thoughts on this lyrics we were born to bloomdestined to deteriorateno beauty in plastic flowersno honey made from fake bouquetswe were born to bloombut we were never meant to stayno wine from fruit made out of waxno honey made from fake bouquetswhat do they say about apples and treeshow do you grow when youre severed from the roots underneathand if the tether of love can never truly breakdid it slip from my hands the day you went awaywhy do they speak about a love that never diesand what the fuck do they know about the afterlifehave they ever spent the night screaming at the sky asking whywe were born to bloomdestined to deteriorateno beauty in plastic flowersno honey made from fake bouquetswe were born to bloombut we were never meant to stayno wine from fruit made out of waxno honey made from fake bouquetswhat do they say about the heart and its strengthwhat do you do when your love rots to into ragehow do you water the garden that famine takeshow do you feed your soul with dust and claywe blossom then wither like the rosedeath written into our blood like poemsa soliloquy of ancient ancestral painthe price of love paid over and over againwe were born to bloomdestined to deteriorateno beauty in plastic flowersno honey made from fake bouquetswe were born to bloombut we were never meant to stayno wine from fruit made out of waxno honey made from fake bouquetslove is watching the petals falllove is watching the petals falllove is watching the petals falllove is watching the petals fall\n",
       "8316                                                                                                                                                                                                                                                                                                                                                                                                                                                                                                                                                                                                                                                                                                                                                                                                                                                                                                                                                                                                                                                                                                                                                                                                                                                                                                                                                                                                                                                                                                                                                                                                                                                                                                  apply stoicism from the previous post ive realized that we cant take everything stoics said as gospel and we shouldnt treat it as a religion but rather a guideline to base our actions on not something from which can get answers for every event in lifei want to know what are the lessons that you guys personally derived from this philosophy  share with me\n",
       "5582                                                                                                                                                                                                                                                                                                                                                                                                                                                                                                                                                                                                                                                                                                                                                                                                                                                                                                                                                                                                                                                                                                                                                                                                                                                                                                                                                                                                                                                                                                                                                                                                          things had never been this bad i am going through a tough time and i had never felt this low ever university seems too tough for me i dont know if ill even pass i may end up being a disappointment to my parents my girlfriend is now interested in another guy the breakup is just a matter of time im just avoiding whats inevitable i have nothing to look forward toany kind of stoic advicerecommendations booksquotes will be appreciated thank you"
      ]
     },
     "execution_count": 133,
     "metadata": {},
     "output_type": "execute_result"
    }
   ],
   "source": [
    "# verify text is processed by looking at 5 random data\n",
    "combined_df[['content']].sample(5)"
   ]
  },
  {
   "cell_type": "code",
   "execution_count": 134,
   "id": "72ee46d6-2eb1-4fc0-b59c-f7637078053f",
   "metadata": {},
   "outputs": [
    {
     "data": {
      "image/png": "[encoded data removed]",
      "text/plain": [
       "<Figure size 432x288 with 1 Axes>"
      ]
     },
     "metadata": {
      "needs_background": "light"
     },
     "output_type": "display_data"
    }
   ],
   "source": [
    "# examine the most popular word (without removing stopword)\n",
    "\n",
    "description_list = combined_df['content'].values.tolist()\n",
    "\n",
    "# Assign the counter instance 'most_common' call to a variable:\n",
    "word_frequency = Counter(\" \".join(description_list).split()).most_common(10)\n",
    "\n",
    "# 'most_common' returns a list of (word, count) tuple\n",
    "words = [word for word, _ in word_frequency]\n",
    "counts = [counts for _, counts in word_frequency]\n",
    "\n",
    "plt.bar(words, counts)\n",
    "plt.title(\"10 most frequent word\")\n",
    "plt.ylabel(\"Frequency\")\n",
    "plt.xlabel(\"Words\")\n",
    "plt.show()"
   ]
  },
  {
   "cell_type": "markdown",
   "id": "3b0a5806-7da1-47c6-9893-0eb6d6705dbf",
   "metadata": {},
   "source": [
    "The top occuring words consists of pro(nouns), adverbs and other non-descriptive words which will be removed because it is considered noise and does not contribute in understanding the key topics."
   ]
  },
  {
   "cell_type": "code",
   "execution_count": 135,
   "id": "9df3b241-2073-48eb-9ccc-94c78df729de",
   "metadata": {},
   "outputs": [],
   "source": [
    "# make a copy of the dataframe before further processing\n",
    "combined_df_processed = combined_df.copy()"
   ]
  },
  {
   "cell_type": "markdown",
   "id": "7f9b02d8-8d18-4374-9245-b8a11096c52b",
   "metadata": {},
   "source": [
    "### Tokenize text "
   ]
  },
  {
   "cell_type": "markdown",
   "id": "2d3dc708-11e5-41b5-9a15-0f80bb9115f2",
   "metadata": {},
   "source": [
    "Word tokenization is the process of splitting large text into smaller chunks called 'tokens'. These tokens help to model to understand the context of the words."
   ]
  },
  {
   "cell_type": "code",
   "execution_count": 136,
   "id": "3b3ae6ed-fd95-4c7c-b91c-06865a03508d",
   "metadata": {},
   "outputs": [],
   "source": [
    "col_to_tokenize = ['content']"
   ]
  },
  {
   "cell_type": "code",
   "execution_count": 137,
   "id": "54ab8bf4-3f38-4d67-af0b-43ed46bbdf8c",
   "metadata": {},
   "outputs": [],
   "source": [
    "# Define a function to clean text data (remove whitespace, \n",
    "# keep only alphabet characters & make lowercase)\n",
    "\n",
    "def tokenize_data(data, col_list):\n",
    "    tokenizer = RegexpTokenizer(r'\\w+')\n",
    "    for col in col_list:\n",
    "        tokenized_items = [tokenizer.tokenize(item.lower()) for item in data[col]]\n",
    "        data[f'tokenized_{col}'] = tokenized_items\n",
    "    return data  "
   ]
  },
  {
   "cell_type": "code",
   "execution_count": 138,
   "id": "a659084c-5c2c-4a5e-928f-468382bf05e0",
   "metadata": {},
   "outputs": [],
   "source": [
    "# tokenize content\n",
    "combined_df_processed = tokenize_data(combined_df_processed, col_to_tokenize)"
   ]
  },
  {
   "cell_type": "code",
   "execution_count": 139,
   "id": "da985c34-020e-4dee-b512-82dbb1b71c25",
   "metadata": {
    "scrolled": true,
    "tags": []
   },
   "outputs": [
    {
     "data": {
      "text/html": [
       "<div>\n",
       "<style scoped>\n",
       "    .dataframe tbody tr th:only-of-type {\n",
       "        vertical-align: middle;\n",
       "    }\n",
       "\n",
       "    .dataframe tbody tr th {\n",
       "        vertical-align: top;\n",
       "    }\n",
       "\n",
       "    .dataframe thead th {\n",
       "        text-align: right;\n",
       "    }\n",
       "</style>\n",
       "<table border=\"1\" class=\"dataframe\">\n",
       "  <thead>\n",
       "    <tr style=\"text-align: right;\">\n",
       "      <th></th>\n",
       "      <th>subreddit</th>\n",
       "      <th>created_date</th>\n",
       "      <th>content</th>\n",
       "      <th>tokenized_content</th>\n",
       "    </tr>\n",
       "  </thead>\n",
       "  <tbody>\n",
       "    <tr>\n",
       "      <th>8723</th>\n",
       "      <td>0</td>\n",
       "      <td>2022-01-27 07:03:27</td>\n",
       "      <td>how to not be afraid of death is there a certain reference to buddhas teachings that might be helpful tia</td>\n",
       "      <td>[how, to, not, be, afraid, of, death, is, there, a, certain, reference, to, buddhas, teachings, that, might, be, helpful, tia]</td>\n",
       "    </tr>\n",
       "    <tr>\n",
       "      <th>3515</th>\n",
       "      <td>1</td>\n",
       "      <td>2022-01-10 17:41:00</td>\n",
       "      <td>epictetus seneca amp marcus aurelius  the best translations trying to figure out the best translations to buy of their work any recommendationsthanks</td>\n",
       "      <td>[epictetus, seneca, amp, marcus, aurelius, the, best, translations, trying, to, figure, out, the, best, translations, to, buy, of, their, work, any, recommendationsthanks]</td>\n",
       "    </tr>\n",
       "    <tr>\n",
       "      <th>8908</th>\n",
       "      <td>1</td>\n",
       "      <td>2021-06-21 23:55:21</td>\n",
       "      <td>are you glad pewdiepie promoted stoicism or do you regret that it brings his audience of  year olds into your domain</td>\n",
       "      <td>[are, you, glad, pewdiepie, promoted, stoicism, or, do, you, regret, that, it, brings, his, audience, of, year, olds, into, your, domain]</td>\n",
       "    </tr>\n",
       "    <tr>\n",
       "      <th>3072</th>\n",
       "      <td>0</td>\n",
       "      <td>2022-05-03 12:54:51</td>\n",
       "      <td>buddhist reason for believing in reincarnation</td>\n",
       "      <td>[buddhist, reason, for, believing, in, reincarnation]</td>\n",
       "    </tr>\n",
       "    <tr>\n",
       "      <th>6736</th>\n",
       "      <td>1</td>\n",
       "      <td>2021-09-06 20:29:50</td>\n",
       "      <td>has anyone else had perfect stoic moments so what i mean by this is has anything ever happened to you that under usual circumstances would have made you have a negative reaction but this time you didnt so you werent hurt because you truly didnt believe you were and you just let it go and continued to move or  first example is about  years again i used to be friends with a guy i had know since high school we were kinda like family and so wed always have disagreements and not talk for a while because he is extremely self centered and jealous among other things people have called him i was separating from my exwife and he live in the middle of the next state over he and i had been on good terms again for a about a year or maybe longer at this point i being the only one with a reliable income and my exwife leaving me to keep the apartment and take care of our childs expensenses and child care alone it became too much to handle and trying to take care of my daughter over everything else i got evicted he convinced me to move out to his state with him he was setting me up with a job at the same company he worked for all i had to do was show up save money and then we were going to be moving into a bigger place he and his girlfriend lived in a nice sized one bedroom so i was on the couch i spent all of the money i had to get to the state and had enough for a little bit of food and to keep gas in the truck i had at the time i had passed the background check drug test and physical for the job and just had to wait for start datewe both have martial arts backgrounds and he had started a a child i started training after high school when i was finally able to afford it the joke among the people who knew us was that he was talent and i was hard work i pretty much ate lived and slept martial arts when i started it and literally took advice from everyone of any style because i believed i could learn from everyone and everything i ended up becoming an amatuer champion kickboxer and mixed martial artist he although talented talked big and never trained as hard or as dedicated as i didso a day before i start working which i loved the job for the  weeks i was there lol we met up with  one of his local friends who had a background in boxing im going to call my former friend den so it gets easy to keep track of people den wanted to do some martial arts training and teach the boxer some of the stuff he knew i knew more but i wasnt the type to brag or show off but this particular day although it wasnt my intent to show off when he was trying to show th friend a move that was ineffective and didnt really work the way he was trying to make it out to since he told me i was wrong when i said that it wouldnt instead of arguing i just decided to let actions speak louder than words and countered his technique he then tried to counter with another ineffective technique which again got countered after not being able to do anything he told me to calm down and just do what he to...</td>\n",
       "      <td>[has, anyone, else, had, perfect, stoic, moments, so, what, i, mean, by, this, is, has, anything, ever, happened, to, you, that, under, usual, circumstances, would, have, made, you, have, a, negative, reaction, but, this, time, you, didnt, so, you, werent, hurt, because, you, truly, didnt, believe, you, were, and, you, just, let, it, go, and, continued, to, move, or, first, example, is, about, years, again, i, used, to, be, friends, with, a, guy, i, had, know, since, high, school, we, were, kinda, like, family, and, so, wed, always, have, disagreements, and, not, talk, for, a, while, because, he, is, extremely, ...]</td>\n",
       "    </tr>\n",
       "  </tbody>\n",
       "</table>\n",
       "</div>"
      ],
      "text/plain": [
       "      subreddit        created_date  \\\n",
       "8723          0 2022-01-27 07:03:27   \n",
       "3515          1 2022-01-10 17:41:00   \n",
       "8908          1 2021-06-21 23:55:21   \n",
       "3072          0 2022-05-03 12:54:51   \n",
       "6736          1 2021-09-06 20:29:50   \n",
       "\n",
       "                                                                                                                                                                                                                                                                                                                                                                                                                                                                                                                                                                                                                                                                                                                                                                                                                                                                                                                                                                                                                                                                                                                                                                                                                                                                                                                                                                                                                                                                                                                                                                                                                                                                                                                                                                                                                                                                                                                                                                                                                                                                                                                                                                                                                                                                                                                                                                                                                                                                                                                                                                                                                                                                                                                                                                                                                                                                                                                                                                                                                                                                                                                      content  \\\n",
       "8723                                                                                                                                                                                                                                                                                                                                                                                                                                                                                                                                                                                                                                                                                                                                                                                                                                                                                                                                                                                                                                                                                                                                                                                                                                                                                                                                                                                                                                                                                                                                                                                                                                                                                                                                                                                                                                                                                                                                                                                                                                                                                                                                                                                                                                                                                                                                                                                                                                                                                                                                                                                                                                                                                                                                                                                                                                                                                                                                                                                                               how to not be afraid of death is there a certain reference to buddhas teachings that might be helpful tia    \n",
       "3515                                                                                                                                                                                                                                                                                                                                                                                                                                                                                                                                                                                                                                                                                                                                                                                                                                                                                                                                                                                                                                                                                                                                                                                                                                                                                                                                                                                                                                                                                                                                                                                                                                                                                                                                                                                                                                                                                                                                                                                                                                                                                                                                                                                                                                                                                                                                                                                                                                                                                                                                                                                                                                                                                                                                                                                                                                                                                                                                                                    epictetus seneca amp marcus aurelius  the best translations trying to figure out the best translations to buy of their work any recommendationsthanks   \n",
       "8908                                                                                                                                                                                                                                                                                                                                                                                                                                                                                                                                                                                                                                                                                                                                                                                                                                                                                                                                                                                                                                                                                                                                                                                                                                                                                                                                                                                                                                                                                                                                                                                                                                                                                                                                                                                                                                                                                                                                                                                                                                                                                                                                                                                                                                                                                                                                                                                                                                                                                                                                                                                                                                                                                                                                                                                                                                                                                                                                                                                                     are you glad pewdiepie promoted stoicism or do you regret that it brings his audience of  year olds into your domain   \n",
       "3072                                                                                                                                                                                                                                                                                                                                                                                                                                                                                                                                                                                                                                                                                                                                                                                                                                                                                                                                                                                                                                                                                                                                                                                                                                                                                                                                                                                                                                                                                                                                                                                                                                                                                                                                                                                                                                                                                                                                                                                                                                                                                                                                                                                                                                                                                                                                                                                                                                                                                                                                                                                                                                                                                                                                                                                                                                                                                                                                                                                                                                                                          buddhist reason for believing in reincarnation    \n",
       "6736  has anyone else had perfect stoic moments so what i mean by this is has anything ever happened to you that under usual circumstances would have made you have a negative reaction but this time you didnt so you werent hurt because you truly didnt believe you were and you just let it go and continued to move or  first example is about  years again i used to be friends with a guy i had know since high school we were kinda like family and so wed always have disagreements and not talk for a while because he is extremely self centered and jealous among other things people have called him i was separating from my exwife and he live in the middle of the next state over he and i had been on good terms again for a about a year or maybe longer at this point i being the only one with a reliable income and my exwife leaving me to keep the apartment and take care of our childs expensenses and child care alone it became too much to handle and trying to take care of my daughter over everything else i got evicted he convinced me to move out to his state with him he was setting me up with a job at the same company he worked for all i had to do was show up save money and then we were going to be moving into a bigger place he and his girlfriend lived in a nice sized one bedroom so i was on the couch i spent all of the money i had to get to the state and had enough for a little bit of food and to keep gas in the truck i had at the time i had passed the background check drug test and physical for the job and just had to wait for start datewe both have martial arts backgrounds and he had started a a child i started training after high school when i was finally able to afford it the joke among the people who knew us was that he was talent and i was hard work i pretty much ate lived and slept martial arts when i started it and literally took advice from everyone of any style because i believed i could learn from everyone and everything i ended up becoming an amatuer champion kickboxer and mixed martial artist he although talented talked big and never trained as hard or as dedicated as i didso a day before i start working which i loved the job for the  weeks i was there lol we met up with  one of his local friends who had a background in boxing im going to call my former friend den so it gets easy to keep track of people den wanted to do some martial arts training and teach the boxer some of the stuff he knew i knew more but i wasnt the type to brag or show off but this particular day although it wasnt my intent to show off when he was trying to show th friend a move that was ineffective and didnt really work the way he was trying to make it out to since he told me i was wrong when i said that it wouldnt instead of arguing i just decided to let actions speak louder than words and countered his technique he then tried to counter with another ineffective technique which again got countered after not being able to do anything he told me to calm down and just do what he to...   \n",
       "\n",
       "                                                                                                                                                                                                                                                                                                                                                                                                                                                                                                                                                                                                                                    tokenized_content  \n",
       "8723                                                                                                                                                                                                                                                                                                                                                                                                                                                                                                                   [how, to, not, be, afraid, of, death, is, there, a, certain, reference, to, buddhas, teachings, that, might, be, helpful, tia]  \n",
       "3515                                                                                                                                                                                                                                                                                                                                                                                                                                                                      [epictetus, seneca, amp, marcus, aurelius, the, best, translations, trying, to, figure, out, the, best, translations, to, buy, of, their, work, any, recommendationsthanks]  \n",
       "8908                                                                                                                                                                                                                                                                                                                                                                                                                                                                                                        [are, you, glad, pewdiepie, promoted, stoicism, or, do, you, regret, that, it, brings, his, audience, of, year, olds, into, your, domain]  \n",
       "3072                                                                                                                                                                                                                                                                                                                                                                                                                                                                                                                                                                                            [buddhist, reason, for, believing, in, reincarnation]  \n",
       "6736  [has, anyone, else, had, perfect, stoic, moments, so, what, i, mean, by, this, is, has, anything, ever, happened, to, you, that, under, usual, circumstances, would, have, made, you, have, a, negative, reaction, but, this, time, you, didnt, so, you, werent, hurt, because, you, truly, didnt, believe, you, were, and, you, just, let, it, go, and, continued, to, move, or, first, example, is, about, years, again, i, used, to, be, friends, with, a, guy, i, had, know, since, high, school, we, were, kinda, like, family, and, so, wed, always, have, disagreements, and, not, talk, for, a, while, because, he, is, extremely, ...]  "
      ]
     },
     "execution_count": 139,
     "metadata": {},
     "output_type": "execute_result"
    }
   ],
   "source": [
    "combined_df_processed.sample(5)"
   ]
  },
  {
   "cell_type": "markdown",
   "id": "10d37251-9612-4c36-9f0b-694e34b4f9f0",
   "metadata": {},
   "source": [
    "### Lemmatizing"
   ]
  },
  {
   "cell_type": "markdown",
   "id": "6f419e0c-a039-4300-b5cb-75e7b5acbfee",
   "metadata": {},
   "source": [
    "Lemmatizing is used (instead of stemming) because it preserves the meaning of the word better. The downside is a longer computation time but the number of data in this case in relatively small so we will choose accuracy (of the word) over saving computation time.  \n",
    "https://analyticsindiamag.com/explained-stemming-vs-lemmatization-in-nlp/"
   ]
  },
  {
   "cell_type": "code",
   "execution_count": 140,
   "id": "02fcb547-547d-471a-9246-4bc5ac61d6d4",
   "metadata": {},
   "outputs": [],
   "source": [
    "# instantiate Lemmatizer\n",
    "lemmatizer = WordNetLemmatizer()"
   ]
  },
  {
   "cell_type": "code",
   "execution_count": 141,
   "id": "252017bf-7d3a-464b-9075-8a523782079d",
   "metadata": {},
   "outputs": [],
   "source": [
    "col_to_lem = ['tokenized_content']"
   ]
  },
  {
   "cell_type": "code",
   "execution_count": 142,
   "id": "d070826d-e154-4313-826e-1e6c7f1dde22",
   "metadata": {},
   "outputs": [],
   "source": [
    "def lemmatize_data(data, col_list):\n",
    "    for col in col_list:\n",
    "        lemmed_items = []\n",
    "        for row in data[col]:\n",
    "            lemmed_row = [lemmatizer.lemmatize(word) for word in row]\n",
    "            lemmed_items.append(lemmed_row)\n",
    "        data[f'lem_{col}'] = lemmed_items\n",
    "    return data "
   ]
  },
  {
   "cell_type": "code",
   "execution_count": 143,
   "id": "4c9ad56b-0d98-4bc7-bc10-8ab6f399591c",
   "metadata": {},
   "outputs": [],
   "source": [
    "# lemmatize tokenized_content\n",
    "combined_df_processed = lemmatize_data(combined_df_processed, col_to_lem)"
   ]
  },
  {
   "cell_type": "code",
   "execution_count": 144,
   "id": "344e09d6-1530-4670-9a32-e2419b98aed9",
   "metadata": {
    "scrolled": true,
    "tags": []
   },
   "outputs": [
    {
     "data": {
      "text/html": [
       "<div>\n",
       "<style scoped>\n",
       "    .dataframe tbody tr th:only-of-type {\n",
       "        vertical-align: middle;\n",
       "    }\n",
       "\n",
       "    .dataframe tbody tr th {\n",
       "        vertical-align: top;\n",
       "    }\n",
       "\n",
       "    .dataframe thead th {\n",
       "        text-align: right;\n",
       "    }\n",
       "</style>\n",
       "<table border=\"1\" class=\"dataframe\">\n",
       "  <thead>\n",
       "    <tr style=\"text-align: right;\">\n",
       "      <th></th>\n",
       "      <th>subreddit</th>\n",
       "      <th>created_date</th>\n",
       "      <th>content</th>\n",
       "      <th>tokenized_content</th>\n",
       "      <th>lem_tokenized_content</th>\n",
       "    </tr>\n",
       "  </thead>\n",
       "  <tbody>\n",
       "    <tr>\n",
       "      <th>8749</th>\n",
       "      <td>1</td>\n",
       "      <td>2021-06-27 18:07:28</td>\n",
       "      <td>book recommendation at the existentialist cafe by sarah bakewell i have been seeking ways to grow as a stoic and by doing so have been seeking to learn more about other philosophies that place emphasis on offering a way to actually live life as opposed to merely thinking about the world while not all philosophy need be useful in that it creates a way for a follower to live i am a stoic because i truly believe that it has helped me increase my resilience rise above my traumatic circumstances and manage negative feelings like grief and anxiety sarah bakewell put that into words wonderfully in at the existentialist cafe in this pursuit ive been reading a lot on existentialism this post shares some of the thoughts spurred from these readings with a favorite of the readings being at the existentialist cafe that book specifically acted as a springboard for inspiration into other texts and the desire to learn more about other philosophies in a way that uses stoicism as a constant comparison point that constant comparison strengthened my approach to living stoically so why read about existentialism in my head and as illustrated by sarah bakewell existentialism shares much common thought with stoicism in that stoicism along with phenomenological and epicurean philosophy influenced a lot of modern existentialism i see them existing almost as a venn diagram and ive enjoyed reflecting on what is similar vs different largely due to the intriguing writing of sarah bakewell one of the main differences in this venn diagram of existentialism and stoicism seems to be values and virtue with stoicism there are the main virtues of fortitude justice temperance and prudence and to practice these while also seeking to recognize what is and isnt under our control to me the goal is to not be defined as a virtuous person but to live virtuously it is not the pursuit of the label but accepting that a label has been put on you and choosing to control what you can and separate emotions from what you cannot stoicism recognizes that sometimes what we want cant be achieved through our actions that really the only control we have is over our perception by mastering our attitudes and recognizing what is perception vs what is actual we can control our emotions in a way as to find contentment there is virtue in that pursuit of controlexistentialism on the hand often puts the responsibility on the individual to reject all labels and define themselves solely from their actions from there out their choices are seen as actions defining their authenticity  and to not act is to not be authentic the only virtue really then is the active pursuit of authenticity or in other words acceptance of ones free choice as the sole way to define themselves one is not static then or centering around a single point or school of virtue but instead constantly reforming and reshaping based on a string of choices unlike stoicism there is no string of virtue to shape this path but pure freedom the individ...</td>\n",
       "      <td>[book, recommendation, at, the, existentialist, cafe, by, sarah, bakewell, i, have, been, seeking, ways, to, grow, as, a, stoic, and, by, doing, so, have, been, seeking, to, learn, more, about, other, philosophies, that, place, emphasis, on, offering, a, way, to, actually, live, life, as, opposed, to, merely, thinking, about, the, world, while, not, all, philosophy, need, be, useful, in, that, it, creates, a, way, for, a, follower, to, live, i, am, a, stoic, because, i, truly, believe, that, it, has, helped, me, increase, my, resilience, rise, above, my, traumatic, circumstances, and, manage, negative, feelings, like, grief, and, anxiety, sarah, bakewell, ...]</td>\n",
       "      <td>[book, recommendation, at, the, existentialist, cafe, by, sarah, bakewell, i, have, been, seeking, way, to, grow, a, a, stoic, and, by, doing, so, have, been, seeking, to, learn, more, about, other, philosophy, that, place, emphasis, on, offering, a, way, to, actually, live, life, a, opposed, to, merely, thinking, about, the, world, while, not, all, philosophy, need, be, useful, in, that, it, creates, a, way, for, a, follower, to, live, i, am, a, stoic, because, i, truly, believe, that, it, ha, helped, me, increase, my, resilience, rise, above, my, traumatic, circumstance, and, manage, negative, feeling, like, grief, and, anxiety, sarah, bakewell, ...]</td>\n",
       "    </tr>\n",
       "    <tr>\n",
       "      <th>5505</th>\n",
       "      <td>0</td>\n",
       "      <td>2022-03-23 15:04:44</td>\n",
       "      <td>when i indulge in any minor craving it doesnt bring me suffering per se what is going on i have noticed that when i indulge in some craving like gluttony or sloth it doesnt bring me any suffering as such in fact the realization that ive broken buddhist rules brings me more pain than my action of eating moreso whats going on i dont yet believe in reincarnation so please abstain from giving that explanation</td>\n",
       "      <td>[when, i, indulge, in, any, minor, craving, it, doesnt, bring, me, suffering, per, se, what, is, going, on, i, have, noticed, that, when, i, indulge, in, some, craving, like, gluttony, or, sloth, it, doesnt, bring, me, any, suffering, as, such, in, fact, the, realization, that, ive, broken, buddhist, rules, brings, me, more, pain, than, my, action, of, eating, moreso, whats, going, on, i, dont, yet, believe, in, reincarnation, so, please, abstain, from, giving, that, explanation]</td>\n",
       "      <td>[when, i, indulge, in, any, minor, craving, it, doesnt, bring, me, suffering, per, se, what, is, going, on, i, have, noticed, that, when, i, indulge, in, some, craving, like, gluttony, or, sloth, it, doesnt, bring, me, any, suffering, a, such, in, fact, the, realization, that, ive, broken, buddhist, rule, brings, me, more, pain, than, my, action, of, eating, moreso, whats, going, on, i, dont, yet, believe, in, reincarnation, so, please, abstain, from, giving, that, explanation]</td>\n",
       "    </tr>\n",
       "    <tr>\n",
       "      <th>1360</th>\n",
       "      <td>0</td>\n",
       "      <td>2022-05-31 14:18:06</td>\n",
       "      <td>the first precept is too broad and too absolutist as a rule to be morally useful cmv yes killing people is generally not a good thing but the operative term here is generally after all we all know thar lethal force is sometimes necessary to prevent a greater loss of lifeevil from occurring if following a moral rule leads to more suffering taking place than ignoring it would that rule ceases to be moralfurthermore does it not concern anyone that the lives of all sentient beings are equally protected the value of a life of a human being is simply not equivalent to that of a pest like a mosquito in addition how are people supposed to eat meat and fish if killing animals is prohibited yes animals shouldnt be subjected to abuse but the notion that meat products dont  form an essential part of the human diet is absurd we have the ability to obtain meat humanely and sustainably so why shouldnt we</td>\n",
       "      <td>[the, first, precept, is, too, broad, and, too, absolutist, as, a, rule, to, be, morally, useful, cmv, yes, killing, people, is, generally, not, a, good, thing, but, the, operative, term, here, is, generally, after, all, we, all, know, thar, lethal, force, is, sometimes, necessary, to, prevent, a, greater, loss, of, lifeevil, from, occurring, if, following, a, moral, rule, leads, to, more, suffering, taking, place, than, ignoring, it, would, that, rule, ceases, to, be, moralfurthermore, does, it, not, concern, anyone, that, the, lives, of, all, sentient, beings, are, equally, protected, the, value, of, a, life, of, a, human, being, is, simply, ...]</td>\n",
       "      <td>[the, first, precept, is, too, broad, and, too, absolutist, a, a, rule, to, be, morally, useful, cmv, yes, killing, people, is, generally, not, a, good, thing, but, the, operative, term, here, is, generally, after, all, we, all, know, thar, lethal, force, is, sometimes, necessary, to, prevent, a, greater, loss, of, lifeevil, from, occurring, if, following, a, moral, rule, lead, to, more, suffering, taking, place, than, ignoring, it, would, that, rule, cease, to, be, moralfurthermore, doe, it, not, concern, anyone, that, the, life, of, all, sentient, being, are, equally, protected, the, value, of, a, life, of, a, human, being, is, simply, ...]</td>\n",
       "    </tr>\n",
       "  </tbody>\n",
       "</table>\n",
       "</div>"
      ],
      "text/plain": [
       "      subreddit        created_date  \\\n",
       "8749          1 2021-06-27 18:07:28   \n",
       "5505          0 2022-03-23 15:04:44   \n",
       "1360          0 2022-05-31 14:18:06   \n",
       "\n",
       "                                                                                                                                                                                                                                                                                                                                                                                                                                                                                                                                                                                                                                                                                                                                                                                                                                                                                                                                                                                                                                                                                                                                                                                                                                                                                                                                                                                                                                                                                                                                                                                                                                                                                                                                                                                                                                                                                                                                                                                                                                                                                                                                                                                                                                                                                                                                                                                                                                                                                                                                                                                                                                                                                                                                                                                                                                                                                                                                                                                                                                                                                                                      content  \\\n",
       "8749  book recommendation at the existentialist cafe by sarah bakewell i have been seeking ways to grow as a stoic and by doing so have been seeking to learn more about other philosophies that place emphasis on offering a way to actually live life as opposed to merely thinking about the world while not all philosophy need be useful in that it creates a way for a follower to live i am a stoic because i truly believe that it has helped me increase my resilience rise above my traumatic circumstances and manage negative feelings like grief and anxiety sarah bakewell put that into words wonderfully in at the existentialist cafe in this pursuit ive been reading a lot on existentialism this post shares some of the thoughts spurred from these readings with a favorite of the readings being at the existentialist cafe that book specifically acted as a springboard for inspiration into other texts and the desire to learn more about other philosophies in a way that uses stoicism as a constant comparison point that constant comparison strengthened my approach to living stoically so why read about existentialism in my head and as illustrated by sarah bakewell existentialism shares much common thought with stoicism in that stoicism along with phenomenological and epicurean philosophy influenced a lot of modern existentialism i see them existing almost as a venn diagram and ive enjoyed reflecting on what is similar vs different largely due to the intriguing writing of sarah bakewell one of the main differences in this venn diagram of existentialism and stoicism seems to be values and virtue with stoicism there are the main virtues of fortitude justice temperance and prudence and to practice these while also seeking to recognize what is and isnt under our control to me the goal is to not be defined as a virtuous person but to live virtuously it is not the pursuit of the label but accepting that a label has been put on you and choosing to control what you can and separate emotions from what you cannot stoicism recognizes that sometimes what we want cant be achieved through our actions that really the only control we have is over our perception by mastering our attitudes and recognizing what is perception vs what is actual we can control our emotions in a way as to find contentment there is virtue in that pursuit of controlexistentialism on the hand often puts the responsibility on the individual to reject all labels and define themselves solely from their actions from there out their choices are seen as actions defining their authenticity  and to not act is to not be authentic the only virtue really then is the active pursuit of authenticity or in other words acceptance of ones free choice as the sole way to define themselves one is not static then or centering around a single point or school of virtue but instead constantly reforming and reshaping based on a string of choices unlike stoicism there is no string of virtue to shape this path but pure freedom the individ...   \n",
       "5505                                                                                                                                                                                                                                                                                                                                                                                                                                                                                                                                                                                                                                                                                                                                                                                                                                                                                                                                                                                                                                                                                                                                                                                                                                                                                                                                                                                                                                                                                                                                                                                                                                                                                                                                                                                                                                                                                                                                                                                                                                                                                                                                                                                                                                                                                                                                                                                                                                                                                                                                                                                                                                                                                                 when i indulge in any minor craving it doesnt bring me suffering per se what is going on i have noticed that when i indulge in some craving like gluttony or sloth it doesnt bring me any suffering as such in fact the realization that ive broken buddhist rules brings me more pain than my action of eating moreso whats going on i dont yet believe in reincarnation so please abstain from giving that explanation   \n",
       "1360                                                                                                                                                                                                                                                                                                                                                                                                                                                                                                                                                                                                                                                                                                                                                                                                                                                                                                                                                                                                                                                                                                                                                                                                                                                                                                                                                                                                                                                                                                                                                                                                                                                                                                                                                                                                                                                                                                                                                                                                                                                                                                                                                                                   the first precept is too broad and too absolutist as a rule to be morally useful cmv yes killing people is generally not a good thing but the operative term here is generally after all we all know thar lethal force is sometimes necessary to prevent a greater loss of lifeevil from occurring if following a moral rule leads to more suffering taking place than ignoring it would that rule ceases to be moralfurthermore does it not concern anyone that the lives of all sentient beings are equally protected the value of a life of a human being is simply not equivalent to that of a pest like a mosquito in addition how are people supposed to eat meat and fish if killing animals is prohibited yes animals shouldnt be subjected to abuse but the notion that meat products dont  form an essential part of the human diet is absurd we have the ability to obtain meat humanely and sustainably so why shouldnt we   \n",
       "\n",
       "                                                                                                                                                                                                                                                                                                                                                                                                                                                                                                                                                                                                                                                                                 tokenized_content  \\\n",
       "8749  [book, recommendation, at, the, existentialist, cafe, by, sarah, bakewell, i, have, been, seeking, ways, to, grow, as, a, stoic, and, by, doing, so, have, been, seeking, to, learn, more, about, other, philosophies, that, place, emphasis, on, offering, a, way, to, actually, live, life, as, opposed, to, merely, thinking, about, the, world, while, not, all, philosophy, need, be, useful, in, that, it, creates, a, way, for, a, follower, to, live, i, am, a, stoic, because, i, truly, believe, that, it, has, helped, me, increase, my, resilience, rise, above, my, traumatic, circumstances, and, manage, negative, feelings, like, grief, and, anxiety, sarah, bakewell, ...]   \n",
       "5505                                                                                                                                                                                          [when, i, indulge, in, any, minor, craving, it, doesnt, bring, me, suffering, per, se, what, is, going, on, i, have, noticed, that, when, i, indulge, in, some, craving, like, gluttony, or, sloth, it, doesnt, bring, me, any, suffering, as, such, in, fact, the, realization, that, ive, broken, buddhist, rules, brings, me, more, pain, than, my, action, of, eating, moreso, whats, going, on, i, dont, yet, believe, in, reincarnation, so, please, abstain, from, giving, that, explanation]   \n",
       "1360              [the, first, precept, is, too, broad, and, too, absolutist, as, a, rule, to, be, morally, useful, cmv, yes, killing, people, is, generally, not, a, good, thing, but, the, operative, term, here, is, generally, after, all, we, all, know, thar, lethal, force, is, sometimes, necessary, to, prevent, a, greater, loss, of, lifeevil, from, occurring, if, following, a, moral, rule, leads, to, more, suffering, taking, place, than, ignoring, it, would, that, rule, ceases, to, be, moralfurthermore, does, it, not, concern, anyone, that, the, lives, of, all, sentient, beings, are, equally, protected, the, value, of, a, life, of, a, human, being, is, simply, ...]   \n",
       "\n",
       "                                                                                                                                                                                                                                                                                                                                                                                                                                                                                                                                                                                                                                                                     lem_tokenized_content  \n",
       "8749  [book, recommendation, at, the, existentialist, cafe, by, sarah, bakewell, i, have, been, seeking, way, to, grow, a, a, stoic, and, by, doing, so, have, been, seeking, to, learn, more, about, other, philosophy, that, place, emphasis, on, offering, a, way, to, actually, live, life, a, opposed, to, merely, thinking, about, the, world, while, not, all, philosophy, need, be, useful, in, that, it, creates, a, way, for, a, follower, to, live, i, am, a, stoic, because, i, truly, believe, that, it, ha, helped, me, increase, my, resilience, rise, above, my, traumatic, circumstance, and, manage, negative, feeling, like, grief, and, anxiety, sarah, bakewell, ...]  \n",
       "5505                                                                                                                                                                                    [when, i, indulge, in, any, minor, craving, it, doesnt, bring, me, suffering, per, se, what, is, going, on, i, have, noticed, that, when, i, indulge, in, some, craving, like, gluttony, or, sloth, it, doesnt, bring, me, any, suffering, a, such, in, fact, the, realization, that, ive, broken, buddhist, rule, brings, me, more, pain, than, my, action, of, eating, moreso, whats, going, on, i, dont, yet, believe, in, reincarnation, so, please, abstain, from, giving, that, explanation]  \n",
       "1360            [the, first, precept, is, too, broad, and, too, absolutist, a, a, rule, to, be, morally, useful, cmv, yes, killing, people, is, generally, not, a, good, thing, but, the, operative, term, here, is, generally, after, all, we, all, know, thar, lethal, force, is, sometimes, necessary, to, prevent, a, greater, loss, of, lifeevil, from, occurring, if, following, a, moral, rule, lead, to, more, suffering, taking, place, than, ignoring, it, would, that, rule, cease, to, be, moralfurthermore, doe, it, not, concern, anyone, that, the, life, of, all, sentient, being, are, equally, protected, the, value, of, a, life, of, a, human, being, is, simply, ...]  "
      ]
     },
     "execution_count": 144,
     "metadata": {},
     "output_type": "execute_result"
    }
   ],
   "source": [
    "combined_df_processed.sample(3)"
   ]
  },
  {
   "cell_type": "markdown",
   "id": "e142c01b-8471-4033-a0db-e6fd9d447566",
   "metadata": {},
   "source": [
    "## Save to CSV"
   ]
  },
  {
   "cell_type": "code",
   "execution_count": null,
   "id": "6b920849-97ff-45b6-b5e6-beaa2e75ff34",
   "metadata": {},
   "outputs": [],
   "source": [
    "combined_df_processed.to_csv('../data/df_final.csv', index=False)"
   ]
  }
 ],
 "metadata": {
  "kernelspec": {
   "display_name": "Python 3 (ipykernel)",
   "language": "python",
   "name": "python3"
  },
  "language_info": {
   "codemirror_mode": {
    "name": "ipython",
    "version": 3
   },
   "file_extension": ".py",
   "mimetype": "text/x-python",
   "name": "python",
   "nbconvert_exporter": "python",
   "pygments_lexer": "ipython3",
   "version": "3.8.13"
  }
 },
 "nbformat": 4,
 "nbformat_minor": 5
}
