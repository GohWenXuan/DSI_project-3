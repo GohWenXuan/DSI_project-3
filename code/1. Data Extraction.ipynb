{
 "cells": [
  {
   "cell_type": "markdown",
   "id": "25c12296-b227-4205-b19d-bccdf3f91ff5",
   "metadata": {},
   "source": [
    "# Project 3 - Classifying Reddit Posts by NLP"
   ]
  },
  {
   "cell_type": "markdown",
   "id": "83cdd441-8d0c-4f02-b189-73db47dbcce8",
   "metadata": {},
   "source": [
    "## Problem Statement\n",
    "---"
   ]
  },
  {
   "cell_type": "markdown",
   "id": "6038d956-f570-4424-b4b9-9cd3851c72de",
   "metadata": {},
   "source": [
    "We are developing a new wellness app that prompts the User to write a short journal entry, which will be analysed to determined the User's philosophical inclination and return a relevant message or thought of the day. \n",
    "Our app focuses on two philosophical beliefs - Stoicism and Buddhism.  \n",
    "To understand the topics from each philosophical groups, data is extracted from two subreddits - r/Stoicism and r/Buddhism. We will use the data to attempt to train a classifier model to predict the User's philosophical inclination based on the journal entry.   \n",
    "\n",
    "We believe we can adapt the model in the future into other subreddits."
   ]
  },
  {
   "cell_type": "markdown",
   "id": "5485a0b7-adc4-4958-a01c-1b12a02076ec",
   "metadata": {},
   "source": [
    "## Import libraries \n",
    "---"
   ]
  },
  {
   "cell_type": "code",
   "execution_count": 1,
   "id": "36dd42e3-9866-4d63-800e-a40acab14eb3",
   "metadata": {},
   "outputs": [],
   "source": [
    "import pandas as pd\n",
    "import requests\n",
    "import time"
   ]
  },
  {
   "cell_type": "markdown",
   "id": "e821f707-a0b0-4237-a5c9-139db40571f6",
   "metadata": {},
   "source": [
    "## Functions\n",
    "---"
   ]
  },
  {
   "cell_type": "code",
   "execution_count": 3,
   "id": "de491603-a125-47ce-b436-d0db85624b73",
   "metadata": {},
   "outputs": [],
   "source": [
    "def get_params(base_df, subreddit):\n",
    "    \"\"\"\n",
    "    Define the parameters for Pushshift API for each 100 post extraction thereafter\n",
    "    \"\"\"\n",
    "    params = {\n",
    "        'subreddit': subreddit, \n",
    "        'size': 100, \n",
    "        'before': base_df.loc[(base_df.shape[0] - 1), 'created_utc'] \n",
    "    }\n",
    "    return params"
   ]
  },
  {
   "cell_type": "code",
   "execution_count": 4,
   "id": "922205cd-0d76-4061-8dc4-d1b4f97983f2",
   "metadata": {},
   "outputs": [],
   "source": [
    "# Define a function that returns a list of dictionaries for the content of each post\n",
    "def get_posts(params, baseurl='https://api.pushshift.io/reddit/search/submission'):\n",
    "    res = requests.get(baseurl, params)\n",
    "    if res.status_code != 200:\n",
    "        return f'Error code: {res.status_code}'\n",
    "    else:\n",
    "        data = res.json()\n",
    "        posts = data['data']\n",
    "    return posts"
   ]
  },
  {
   "cell_type": "code",
   "execution_count": 5,
   "id": "6bc531d2-5a0c-48f2-8f28-f88ed56e5ebf",
   "metadata": {},
   "outputs": [],
   "source": [
    "# Define a function to update the base DataFrame with the 500 succeeding posts\n",
    "def update_df(base_df, subreddit):\n",
    "    params = get_params(base_df, subreddit)\n",
    "    posts = get_posts(params)\n",
    "    df2 = create_new_df(posts)\n",
    "    updated = pd.concat([base_df, df2], axis=0, ignore_index=True, sort=True)\n",
    "    return updated"
   ]
  },
  {
   "cell_type": "code",
   "execution_count": 6,
   "id": "6db6b42f-d730-499b-bdb7-25837bcd773c",
   "metadata": {},
   "outputs": [],
   "source": [
    "# Define a function to turn the list of posts into a DataFrame\n",
    "def create_new_df(posts):\n",
    "    return pd.DataFrame(posts)"
   ]
  },
  {
   "cell_type": "markdown",
   "id": "09c316ac-f8a2-4762-9cdf-abab338f49ba",
   "metadata": {},
   "source": [
    "## Data Extraction using Pushshift API\n",
    "---"
   ]
  },
  {
   "cell_type": "markdown",
   "id": "b7ac329d-0523-4d4c-98c8-3477c054a624",
   "metadata": {},
   "source": [
    "Reddit is a social news platform where Users are able to post contents, images and links which other Users can participate in the discussion. Posts are organized into User-created boards called 'subreddits' where each subreddit caters to a specific topics or subject. For our problem statement, we will extract posts from two specific subreddits and understand the topics between them. The two subreddits are listed below, and they have 461k and 621k members respectively and regular contents are posted, sufficient for data extraction.\n",
    "> * https://www.reddit.com/r/Stoicism/\n",
    "> * https://www.reddit.com/r/Buddhism/  \n",
    "\n",
    "Pushift.io API provides a method of extracting data from subreddits. However, it is limited to 100 posts per request and to gather enough data multiple requests is needed and so we will define a for loop to achieve this. We will gather around 10,000 posts to analyse."
   ]
  },
  {
   "cell_type": "markdown",
   "id": "0a0220a4-7429-4377-a65e-57c7f87b4181",
   "metadata": {},
   "source": [
    "### Extract first 100 post from r/Stoicism"
   ]
  },
  {
   "cell_type": "code",
   "execution_count": 7,
   "id": "7ce3a2b0-2774-4980-a3a8-027f8a24b2b4",
   "metadata": {},
   "outputs": [],
   "source": [
    "# define parameters for extraction\n",
    "params_stocism = {'subreddit': 'Stoicism', 'size': 100}"
   ]
  },
  {
   "cell_type": "code",
   "execution_count": 8,
   "id": "c4be46e3-4df1-4d2f-810e-65a73154e76a",
   "metadata": {},
   "outputs": [],
   "source": [
    "# extract posts\n",
    "posts_stocism = get_posts(params_stocism)"
   ]
  },
  {
   "cell_type": "code",
   "execution_count": 9,
   "id": "1bf8af3f-71e1-418a-9e2d-f7ea3a27b0e7",
   "metadata": {},
   "outputs": [],
   "source": [
    "# Create a dataframe from the posts\n",
    "df_stocism = create_new_df(posts_stocism)"
   ]
  },
  {
   "cell_type": "code",
   "execution_count": 10,
   "id": "16423612-e641-48c7-8737-729d072ce47d",
   "metadata": {},
   "outputs": [
    {
     "name": "stdout",
     "output_type": "stream",
     "text": [
      "(100, 73)\n"
     ]
    },
    {
     "data": {
      "text/html": [
       "<div>\n",
       "<style scoped>\n",
       "    .dataframe tbody tr th:only-of-type {\n",
       "        vertical-align: middle;\n",
       "    }\n",
       "\n",
       "    .dataframe tbody tr th {\n",
       "        vertical-align: top;\n",
       "    }\n",
       "\n",
       "    .dataframe thead th {\n",
       "        text-align: right;\n",
       "    }\n",
       "</style>\n",
       "<table border=\"1\" class=\"dataframe\">\n",
       "  <thead>\n",
       "    <tr style=\"text-align: right;\">\n",
       "      <th></th>\n",
       "      <th>all_awardings</th>\n",
       "      <th>allow_live_comments</th>\n",
       "      <th>author</th>\n",
       "      <th>author_flair_css_class</th>\n",
       "      <th>author_flair_richtext</th>\n",
       "      <th>author_flair_text</th>\n",
       "      <th>author_flair_type</th>\n",
       "      <th>author_fullname</th>\n",
       "      <th>author_is_blocked</th>\n",
       "      <th>author_patreon_flair</th>\n",
       "      <th>...</th>\n",
       "      <th>url_overridden_by_dest</th>\n",
       "      <th>whitelist_status</th>\n",
       "      <th>wls</th>\n",
       "      <th>media</th>\n",
       "      <th>media_embed</th>\n",
       "      <th>secure_media</th>\n",
       "      <th>secure_media_embed</th>\n",
       "      <th>removed_by_category</th>\n",
       "      <th>suggested_sort</th>\n",
       "      <th>poll_data</th>\n",
       "    </tr>\n",
       "  </thead>\n",
       "  <tbody>\n",
       "    <tr>\n",
       "      <th>0</th>\n",
       "      <td>[]</td>\n",
       "      <td>False</td>\n",
       "      <td>tylerdhenry</td>\n",
       "      <td>None</td>\n",
       "      <td>[]</td>\n",
       "      <td>None</td>\n",
       "      <td>text</td>\n",
       "      <td>t2_6phe51a9</td>\n",
       "      <td>False</td>\n",
       "      <td>False</td>\n",
       "      <td>...</td>\n",
       "      <td>https://ogjre.com/episode/1836-ryan-holiday</td>\n",
       "      <td>all_ads</td>\n",
       "      <td>6</td>\n",
       "      <td>NaN</td>\n",
       "      <td>NaN</td>\n",
       "      <td>NaN</td>\n",
       "      <td>NaN</td>\n",
       "      <td>NaN</td>\n",
       "      <td>NaN</td>\n",
       "      <td>NaN</td>\n",
       "    </tr>\n",
       "    <tr>\n",
       "      <th>1</th>\n",
       "      <td>[]</td>\n",
       "      <td>False</td>\n",
       "      <td>Kriispy66</td>\n",
       "      <td>None</td>\n",
       "      <td>[]</td>\n",
       "      <td>None</td>\n",
       "      <td>text</td>\n",
       "      <td>t2_5ygkrs6g</td>\n",
       "      <td>False</td>\n",
       "      <td>False</td>\n",
       "      <td>...</td>\n",
       "      <td>https://youtu.be/AzszJ4Ey2ws</td>\n",
       "      <td>all_ads</td>\n",
       "      <td>6</td>\n",
       "      <td>{'oembed': {'author_name': 'Kriispy', 'author_...</td>\n",
       "      <td>{'content': '&amp;lt;iframe width=\"267\" height=\"20...</td>\n",
       "      <td>{'oembed': {'author_name': 'Kriispy', 'author_...</td>\n",
       "      <td>{'content': '&amp;lt;iframe width=\"267\" height=\"20...</td>\n",
       "      <td>NaN</td>\n",
       "      <td>NaN</td>\n",
       "      <td>NaN</td>\n",
       "    </tr>\n",
       "    <tr>\n",
       "      <th>2</th>\n",
       "      <td>[]</td>\n",
       "      <td>False</td>\n",
       "      <td>Tristan6252</td>\n",
       "      <td>None</td>\n",
       "      <td>[]</td>\n",
       "      <td>None</td>\n",
       "      <td>text</td>\n",
       "      <td>t2_mzzjcxf</td>\n",
       "      <td>False</td>\n",
       "      <td>False</td>\n",
       "      <td>...</td>\n",
       "      <td>NaN</td>\n",
       "      <td>all_ads</td>\n",
       "      <td>6</td>\n",
       "      <td>NaN</td>\n",
       "      <td>NaN</td>\n",
       "      <td>NaN</td>\n",
       "      <td>NaN</td>\n",
       "      <td>NaN</td>\n",
       "      <td>NaN</td>\n",
       "      <td>NaN</td>\n",
       "    </tr>\n",
       "    <tr>\n",
       "      <th>3</th>\n",
       "      <td>[]</td>\n",
       "      <td>False</td>\n",
       "      <td>Anarchist-monk</td>\n",
       "      <td>None</td>\n",
       "      <td>[]</td>\n",
       "      <td>None</td>\n",
       "      <td>text</td>\n",
       "      <td>t2_7czy605j</td>\n",
       "      <td>False</td>\n",
       "      <td>False</td>\n",
       "      <td>...</td>\n",
       "      <td>NaN</td>\n",
       "      <td>all_ads</td>\n",
       "      <td>6</td>\n",
       "      <td>NaN</td>\n",
       "      <td>NaN</td>\n",
       "      <td>NaN</td>\n",
       "      <td>NaN</td>\n",
       "      <td>automod_filtered</td>\n",
       "      <td>NaN</td>\n",
       "      <td>NaN</td>\n",
       "    </tr>\n",
       "    <tr>\n",
       "      <th>4</th>\n",
       "      <td>[]</td>\n",
       "      <td>False</td>\n",
       "      <td>w0ntfix</td>\n",
       "      <td>None</td>\n",
       "      <td>[]</td>\n",
       "      <td>None</td>\n",
       "      <td>text</td>\n",
       "      <td>t2_19rrs330</td>\n",
       "      <td>False</td>\n",
       "      <td>False</td>\n",
       "      <td>...</td>\n",
       "      <td>NaN</td>\n",
       "      <td>all_ads</td>\n",
       "      <td>6</td>\n",
       "      <td>NaN</td>\n",
       "      <td>NaN</td>\n",
       "      <td>NaN</td>\n",
       "      <td>NaN</td>\n",
       "      <td>NaN</td>\n",
       "      <td>NaN</td>\n",
       "      <td>NaN</td>\n",
       "    </tr>\n",
       "  </tbody>\n",
       "</table>\n",
       "<p>5 rows × 73 columns</p>\n",
       "</div>"
      ],
      "text/plain": [
       "  all_awardings  allow_live_comments          author author_flair_css_class  \\\n",
       "0            []                False     tylerdhenry                   None   \n",
       "1            []                False       Kriispy66                   None   \n",
       "2            []                False     Tristan6252                   None   \n",
       "3            []                False  Anarchist-monk                   None   \n",
       "4            []                False         w0ntfix                   None   \n",
       "\n",
       "  author_flair_richtext author_flair_text author_flair_type author_fullname  \\\n",
       "0                    []              None              text     t2_6phe51a9   \n",
       "1                    []              None              text     t2_5ygkrs6g   \n",
       "2                    []              None              text      t2_mzzjcxf   \n",
       "3                    []              None              text     t2_7czy605j   \n",
       "4                    []              None              text     t2_19rrs330   \n",
       "\n",
       "   author_is_blocked  author_patreon_flair  ...  \\\n",
       "0              False                 False  ...   \n",
       "1              False                 False  ...   \n",
       "2              False                 False  ...   \n",
       "3              False                 False  ...   \n",
       "4              False                 False  ...   \n",
       "\n",
       "                        url_overridden_by_dest whitelist_status  wls  \\\n",
       "0  https://ogjre.com/episode/1836-ryan-holiday          all_ads    6   \n",
       "1                 https://youtu.be/AzszJ4Ey2ws          all_ads    6   \n",
       "2                                          NaN          all_ads    6   \n",
       "3                                          NaN          all_ads    6   \n",
       "4                                          NaN          all_ads    6   \n",
       "\n",
       "                                               media  \\\n",
       "0                                                NaN   \n",
       "1  {'oembed': {'author_name': 'Kriispy', 'author_...   \n",
       "2                                                NaN   \n",
       "3                                                NaN   \n",
       "4                                                NaN   \n",
       "\n",
       "                                         media_embed  \\\n",
       "0                                                NaN   \n",
       "1  {'content': '&lt;iframe width=\"267\" height=\"20...   \n",
       "2                                                NaN   \n",
       "3                                                NaN   \n",
       "4                                                NaN   \n",
       "\n",
       "                                        secure_media  \\\n",
       "0                                                NaN   \n",
       "1  {'oembed': {'author_name': 'Kriispy', 'author_...   \n",
       "2                                                NaN   \n",
       "3                                                NaN   \n",
       "4                                                NaN   \n",
       "\n",
       "                                  secure_media_embed removed_by_category  \\\n",
       "0                                                NaN                 NaN   \n",
       "1  {'content': '&lt;iframe width=\"267\" height=\"20...                 NaN   \n",
       "2                                                NaN                 NaN   \n",
       "3                                                NaN    automod_filtered   \n",
       "4                                                NaN                 NaN   \n",
       "\n",
       "  suggested_sort  poll_data  \n",
       "0            NaN        NaN  \n",
       "1            NaN        NaN  \n",
       "2            NaN        NaN  \n",
       "3            NaN        NaN  \n",
       "4            NaN        NaN  \n",
       "\n",
       "[5 rows x 73 columns]"
      ]
     },
     "execution_count": 10,
     "metadata": {},
     "output_type": "execute_result"
    }
   ],
   "source": [
    "print(df_stocism.shape)\n",
    "df_stocism.head()"
   ]
  },
  {
   "cell_type": "markdown",
   "id": "f643ec3c-a96f-4312-ade6-3b4098eb7701",
   "metadata": {},
   "source": [
    "### Extract first 100 post from r/Buddhism"
   ]
  },
  {
   "cell_type": "code",
   "execution_count": 11,
   "id": "c1210507-cfff-4fc3-8d64-8de046f904f4",
   "metadata": {},
   "outputs": [],
   "source": [
    "# define parameters for extraction\n",
    "params_buddhism = {'subreddit': 'Buddhism', 'size': 100}"
   ]
  },
  {
   "cell_type": "code",
   "execution_count": 12,
   "id": "c0584a44-190a-4cde-aaba-b739c8ebbd38",
   "metadata": {},
   "outputs": [],
   "source": [
    "# extract posts\n",
    "posts_buddhism = get_posts(params_buddhism)"
   ]
  },
  {
   "cell_type": "code",
   "execution_count": 13,
   "id": "184cbe4e-b46e-459a-a5f2-630bad8767bb",
   "metadata": {},
   "outputs": [],
   "source": [
    "# Create a dataframe from the posts\n",
    "df_buddhism = create_new_df(posts_buddhism)"
   ]
  },
  {
   "cell_type": "code",
   "execution_count": 14,
   "id": "9d865a3c-2273-4a98-919c-77337b9d5dd2",
   "metadata": {},
   "outputs": [
    {
     "name": "stdout",
     "output_type": "stream",
     "text": [
      "(100, 80)\n"
     ]
    },
    {
     "data": {
      "text/html": [
       "<div>\n",
       "<style scoped>\n",
       "    .dataframe tbody tr th:only-of-type {\n",
       "        vertical-align: middle;\n",
       "    }\n",
       "\n",
       "    .dataframe tbody tr th {\n",
       "        vertical-align: top;\n",
       "    }\n",
       "\n",
       "    .dataframe thead th {\n",
       "        text-align: right;\n",
       "    }\n",
       "</style>\n",
       "<table border=\"1\" class=\"dataframe\">\n",
       "  <thead>\n",
       "    <tr style=\"text-align: right;\">\n",
       "      <th></th>\n",
       "      <th>all_awardings</th>\n",
       "      <th>allow_live_comments</th>\n",
       "      <th>author</th>\n",
       "      <th>author_flair_css_class</th>\n",
       "      <th>author_flair_richtext</th>\n",
       "      <th>author_flair_text</th>\n",
       "      <th>author_flair_type</th>\n",
       "      <th>author_fullname</th>\n",
       "      <th>author_is_blocked</th>\n",
       "      <th>author_patreon_flair</th>\n",
       "      <th>...</th>\n",
       "      <th>whitelist_status</th>\n",
       "      <th>wls</th>\n",
       "      <th>author_flair_template_id</th>\n",
       "      <th>author_flair_text_color</th>\n",
       "      <th>crosspost_parent</th>\n",
       "      <th>crosspost_parent_list</th>\n",
       "      <th>poll_data</th>\n",
       "      <th>gallery_data</th>\n",
       "      <th>is_gallery</th>\n",
       "      <th>media_metadata</th>\n",
       "    </tr>\n",
       "  </thead>\n",
       "  <tbody>\n",
       "    <tr>\n",
       "      <th>0</th>\n",
       "      <td>[]</td>\n",
       "      <td>False</td>\n",
       "      <td>LabbaikYaRasulAllah</td>\n",
       "      <td>None</td>\n",
       "      <td>[]</td>\n",
       "      <td>None</td>\n",
       "      <td>text</td>\n",
       "      <td>t2_mtaflvek</td>\n",
       "      <td>False</td>\n",
       "      <td>False</td>\n",
       "      <td>...</td>\n",
       "      <td>all_ads</td>\n",
       "      <td>6</td>\n",
       "      <td>NaN</td>\n",
       "      <td>NaN</td>\n",
       "      <td>NaN</td>\n",
       "      <td>NaN</td>\n",
       "      <td>NaN</td>\n",
       "      <td>NaN</td>\n",
       "      <td>NaN</td>\n",
       "      <td>NaN</td>\n",
       "    </tr>\n",
       "    <tr>\n",
       "      <th>1</th>\n",
       "      <td>[]</td>\n",
       "      <td>False</td>\n",
       "      <td>HelpCurious</td>\n",
       "      <td>None</td>\n",
       "      <td>[]</td>\n",
       "      <td>None</td>\n",
       "      <td>text</td>\n",
       "      <td>t2_a8202bhe</td>\n",
       "      <td>False</td>\n",
       "      <td>False</td>\n",
       "      <td>...</td>\n",
       "      <td>all_ads</td>\n",
       "      <td>6</td>\n",
       "      <td>NaN</td>\n",
       "      <td>NaN</td>\n",
       "      <td>NaN</td>\n",
       "      <td>NaN</td>\n",
       "      <td>NaN</td>\n",
       "      <td>NaN</td>\n",
       "      <td>NaN</td>\n",
       "      <td>NaN</td>\n",
       "    </tr>\n",
       "    <tr>\n",
       "      <th>2</th>\n",
       "      <td>[]</td>\n",
       "      <td>False</td>\n",
       "      <td>comoestas969696</td>\n",
       "      <td>None</td>\n",
       "      <td>[]</td>\n",
       "      <td>None</td>\n",
       "      <td>text</td>\n",
       "      <td>t2_e6jjoxd2</td>\n",
       "      <td>False</td>\n",
       "      <td>False</td>\n",
       "      <td>...</td>\n",
       "      <td>all_ads</td>\n",
       "      <td>6</td>\n",
       "      <td>NaN</td>\n",
       "      <td>NaN</td>\n",
       "      <td>NaN</td>\n",
       "      <td>NaN</td>\n",
       "      <td>NaN</td>\n",
       "      <td>NaN</td>\n",
       "      <td>NaN</td>\n",
       "      <td>NaN</td>\n",
       "    </tr>\n",
       "    <tr>\n",
       "      <th>3</th>\n",
       "      <td>[]</td>\n",
       "      <td>False</td>\n",
       "      <td>comoestas969696</td>\n",
       "      <td>None</td>\n",
       "      <td>[]</td>\n",
       "      <td>None</td>\n",
       "      <td>text</td>\n",
       "      <td>t2_e6jjoxd2</td>\n",
       "      <td>False</td>\n",
       "      <td>False</td>\n",
       "      <td>...</td>\n",
       "      <td>all_ads</td>\n",
       "      <td>6</td>\n",
       "      <td>NaN</td>\n",
       "      <td>NaN</td>\n",
       "      <td>NaN</td>\n",
       "      <td>NaN</td>\n",
       "      <td>NaN</td>\n",
       "      <td>NaN</td>\n",
       "      <td>NaN</td>\n",
       "      <td>NaN</td>\n",
       "    </tr>\n",
       "    <tr>\n",
       "      <th>4</th>\n",
       "      <td>[]</td>\n",
       "      <td>False</td>\n",
       "      <td>Much_Walk1823</td>\n",
       "      <td>None</td>\n",
       "      <td>[]</td>\n",
       "      <td>None</td>\n",
       "      <td>text</td>\n",
       "      <td>t2_azpxxie2</td>\n",
       "      <td>False</td>\n",
       "      <td>False</td>\n",
       "      <td>...</td>\n",
       "      <td>all_ads</td>\n",
       "      <td>6</td>\n",
       "      <td>NaN</td>\n",
       "      <td>NaN</td>\n",
       "      <td>NaN</td>\n",
       "      <td>NaN</td>\n",
       "      <td>NaN</td>\n",
       "      <td>NaN</td>\n",
       "      <td>NaN</td>\n",
       "      <td>NaN</td>\n",
       "    </tr>\n",
       "  </tbody>\n",
       "</table>\n",
       "<p>5 rows × 80 columns</p>\n",
       "</div>"
      ],
      "text/plain": [
       "  all_awardings  allow_live_comments               author  \\\n",
       "0            []                False  LabbaikYaRasulAllah   \n",
       "1            []                False          HelpCurious   \n",
       "2            []                False      comoestas969696   \n",
       "3            []                False      comoestas969696   \n",
       "4            []                False        Much_Walk1823   \n",
       "\n",
       "  author_flair_css_class author_flair_richtext author_flair_text  \\\n",
       "0                   None                    []              None   \n",
       "1                   None                    []              None   \n",
       "2                   None                    []              None   \n",
       "3                   None                    []              None   \n",
       "4                   None                    []              None   \n",
       "\n",
       "  author_flair_type author_fullname  author_is_blocked  author_patreon_flair  \\\n",
       "0              text     t2_mtaflvek              False                 False   \n",
       "1              text     t2_a8202bhe              False                 False   \n",
       "2              text     t2_e6jjoxd2              False                 False   \n",
       "3              text     t2_e6jjoxd2              False                 False   \n",
       "4              text     t2_azpxxie2              False                 False   \n",
       "\n",
       "   ...  whitelist_status wls  author_flair_template_id  \\\n",
       "0  ...           all_ads   6                       NaN   \n",
       "1  ...           all_ads   6                       NaN   \n",
       "2  ...           all_ads   6                       NaN   \n",
       "3  ...           all_ads   6                       NaN   \n",
       "4  ...           all_ads   6                       NaN   \n",
       "\n",
       "   author_flair_text_color  crosspost_parent crosspost_parent_list poll_data  \\\n",
       "0                      NaN               NaN                   NaN       NaN   \n",
       "1                      NaN               NaN                   NaN       NaN   \n",
       "2                      NaN               NaN                   NaN       NaN   \n",
       "3                      NaN               NaN                   NaN       NaN   \n",
       "4                      NaN               NaN                   NaN       NaN   \n",
       "\n",
       "  gallery_data is_gallery  media_metadata  \n",
       "0          NaN        NaN             NaN  \n",
       "1          NaN        NaN             NaN  \n",
       "2          NaN        NaN             NaN  \n",
       "3          NaN        NaN             NaN  \n",
       "4          NaN        NaN             NaN  \n",
       "\n",
       "[5 rows x 80 columns]"
      ]
     },
     "execution_count": 14,
     "metadata": {},
     "output_type": "execute_result"
    }
   ],
   "source": [
    "print(df_buddhism.shape)\n",
    "df_buddhism.head()"
   ]
  },
  {
   "cell_type": "markdown",
   "id": "f70b1ef4-3844-4056-a42d-f5a40f22aa65",
   "metadata": {},
   "source": [
    "### Extract remaining post"
   ]
  },
  {
   "cell_type": "markdown",
   "id": "268a7737-8e55-436a-a2a3-c248e49b6f5b",
   "metadata": {},
   "source": [
    "* Pushshift API is limited to 100 posts per request. We aim to extract 10,000 post, hence we will run the request 99 more times."
   ]
  },
  {
   "cell_type": "code",
   "execution_count": 15,
   "id": "a579c09d-419c-421f-95ec-a0b8e2688af4",
   "metadata": {},
   "outputs": [
    {
     "name": "stdout",
     "output_type": "stream",
     "text": [
      "Number of posts extracted:  9987\n"
     ]
    }
   ],
   "source": [
    "# extract remaining post for r/Stocism\n",
    "for i in range(99):\n",
    "    df_stocism = update_df(df_stocism, 'Stoicism')\n",
    "print('Number of posts extracted: ',len(df_stocism))"
   ]
  },
  {
   "cell_type": "code",
   "execution_count": 16,
   "id": "515aecd3-249d-4aae-8363-e592396e02ec",
   "metadata": {},
   "outputs": [
    {
     "name": "stdout",
     "output_type": "stream",
     "text": [
      "Number of posts extracted:  9992\n"
     ]
    }
   ],
   "source": [
    "# extract remaining post for r/Buddhism\n",
    "for i in range(99):\n",
    "    df_buddhism = update_df(df_buddhism, 'Buddhism')\n",
    "print('Number of posts extracted: ',len(df_buddhism))"
   ]
  },
  {
   "cell_type": "markdown",
   "id": "63b5819d-aff7-40c4-9ff9-ac68e451efeb",
   "metadata": {},
   "source": [
    "## Save extracted dataframe to CSV file"
   ]
  },
  {
   "cell_type": "code",
   "execution_count": 18,
   "id": "c1aa7a02-1cba-4e9e-9609-6e0570556f16",
   "metadata": {},
   "outputs": [],
   "source": [
    "# save to csv\n",
    "df_stocism.to_csv('../data/df1.csv', index=False)\n",
    "df_buddhism.to_csv('../data/df2.csv', index=False)"
   ]
  }
 ],
 "metadata": {
  "kernelspec": {
   "display_name": "Python 3 (ipykernel)",
   "language": "python",
   "name": "python3"
  },
  "language_info": {
   "codemirror_mode": {
    "name": "ipython",
    "version": 3
   },
   "file_extension": ".py",
   "mimetype": "text/x-python",
   "name": "python",
   "nbconvert_exporter": "python",
   "pygments_lexer": "ipython3",
   "version": "3.8.13"
  }
 },
 "nbformat": 4,
 "nbformat_minor": 5
}
